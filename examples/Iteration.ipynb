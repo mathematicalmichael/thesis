{
 "cells": [
  {
   "cell_type": "code",
   "execution_count": null,
   "metadata": {},
   "outputs": [],
   "source": [
    "import numpy as np\n",
    "from matplotlib import pyplot as plt\n",
    "import matplotlib\n",
    "matplotlib.rcParams['mathtext.fontset'] = 'stix'\n",
    "matplotlib.rcParams['font.family'] = 'STIXGeneral'\n",
    "matplotlib.rcParams['font.size'] = 24\n",
    "matplotlib.backend = 'Agg'"
   ]
  },
  {
   "cell_type": "code",
   "execution_count": null,
   "metadata": {},
   "outputs": [],
   "source": [
    "import mud.funs as funs\n",
    "import mud.util as utils\n",
    "import mud.plot as plot"
   ]
  },
  {
   "cell_type": "code",
   "execution_count": null,
   "metadata": {},
   "outputs": [],
   "source": [
    "# import importlib\n",
    "# importlib.reload(plot)"
   ]
  },
  {
   "cell_type": "code",
   "execution_count": null,
   "metadata": {},
   "outputs": [],
   "source": [
    "np.random.seed(24)\n",
    "numQoI = 10\n",
    "A = utils.rotationMap(numQoI, orth=False)\n",
    "A = A.reshape(-1,2)\n",
    "b = np.zeros((numQoI,1))\n",
    "# A, b = A[np.array([2,6]),:].reshape(-1,2), b[np.array([2,6])].reshape(-1,1)\n",
    "ref_param = np.array([0.5, 0.5]).reshape(-1,1)\n",
    "y = A@ref_param + b\n",
    "initial_mean = np.random.randn(2).reshape(-1,1)\n",
    "tol = 0.1\n",
    "initial_cov = np.eye(2)*utils.std_from_equipment(tol)"
   ]
  },
  {
   "cell_type": "code",
   "execution_count": null,
   "metadata": {},
   "outputs": [],
   "source": [
    "# mud_chain_test = performEpoch(A, b, y, initial_mean, initial_cov, data_cov=None)"
   ]
  },
  {
   "cell_type": "code",
   "execution_count": null,
   "metadata": {},
   "outputs": [],
   "source": [
    "plt.figure(figsize=(10,10))\n",
    "mud_chain = funs.iterate(A, b, y, initial_mean, initial_cov, data_cov=None, num_epochs=1, idx=None)\n",
    "plot.plotChain(mud_chain, ref_param)\n",
    "plot.plot_contours(A, ref_param)\n",
    "\n",
    "plt.axis('equal')\n",
    "plt.savefig(f'iterative/{numQoI}D-firstepoch.png')\n",
    "plt.show()"
   ]
  },
  {
   "cell_type": "code",
   "execution_count": null,
   "metadata": {},
   "outputs": [],
   "source": [
    "plt.figure(figsize=(10,10))\n",
    "mud_chain = funs.iterate(A, b, y, initial_mean, initial_cov, data_cov=None, num_epochs=1)\n",
    "plot.plotChain(mud_chain, ref_param)\n",
    "for _ in range(3):\n",
    "    mud_chain = funs.iterate(A, b, y, mud_chain[-1], initial_cov, data_cov=None, num_epochs=1)\n",
    "    plot.plotChain(mud_chain, ref_param)\n",
    "    \n",
    "plot.plot_contours(A, ref_param)\n",
    "\n",
    "plt.axis('equal')\n",
    "plt.savefig(f'iterative/{numQoI}D-fewepochs.png')\n",
    "plt.show()"
   ]
  },
  {
   "cell_type": "markdown",
   "metadata": {},
   "source": [
    "# What if we picked out two of the ten rows?"
   ]
  },
  {
   "cell_type": "code",
   "execution_count": null,
   "metadata": {},
   "outputs": [],
   "source": [
    "np.random.seed(21)\n",
    "plt.figure(figsize=(10,10))\n",
    "idx_choice = [np.random.randint(numQoI), np.random.randint(numQoI)]\n",
    "mud_chain = funs.iterate(A, b, y, initial_mean, initial_cov, data_cov=None, num_epochs=5, idx=idx_choice)\n",
    "plot.plot_contours(A, ref_param, subset=idx_choice, color='k')\n",
    "plot.plotChain(mud_chain,ref_param)\n",
    "\n",
    "plt.axis('equal')\n",
    "# plt.ylim([0.25,0.75])\n",
    "# plt.xlim([0.25,0.75])\n",
    "# plt.ylim([-1,1])\n",
    "# plt.xlim([-1,1])\n",
    "plt.savefig(f'iterative/{numQoI}D-fewepochs-pair.png')\n",
    "plt.show()\n",
    "\n",
    "np.random.seed(19)\n",
    "idx_choice = [np.random.randint(numQoI), np.random.randint(numQoI)]\n",
    "plt.figure(figsize=(10,10))\n",
    "mud_chain = funs.iterate(A, b, y, initial_mean, initial_cov, data_cov=None, num_epochs=5, idx=idx_choice)\n",
    "plot.plot_contours(A, ref_param, color='b', subset=idx_choice)\n",
    "plot.plotChain(mud_chain, ref_param)\n",
    "\n",
    "plt.axis('equal')\n",
    "\n",
    "# plt.ylim([-1,1])\n",
    "# plt.xlim([-1,1])\n",
    "plt.savefig(f'iterative/{numQoI}D-fewepochs-pair-alt.png')\n",
    "plt.show()"
   ]
  },
  {
   "cell_type": "markdown",
   "metadata": {},
   "source": [
    "# Picking orthogonal rows of A leads to immediate convergence"
   ]
  },
  {
   "cell_type": "code",
   "execution_count": null,
   "metadata": {},
   "outputs": [],
   "source": [
    "plt.figure(figsize=(10,10))\n",
    "idx_choice = [3,8]\n",
    "mud_chain = funs.iterate(A, b, y, initial_mean, initial_cov, data_cov=None, num_epochs=5, idx=idx_choice)\n",
    "plot.plot_contours(A, ref_param, color='k', subset=idx_choice)\n",
    "plot.plotChain(mud_chain, ref_param)\n",
    "\n",
    "idx_choice = [1,6]\n",
    "mud_chain = funs.iterate(A, b, y, initial_mean, initial_cov, data_cov=None, num_epochs=5, idx=idx_choice)\n",
    "plot.plot_contours(A, ref_param, color='b', subset=idx_choice)\n",
    "plot.plotChain(mud_chain, ref_param, 'b')\n",
    "\n",
    "plt.axis('equal')\n",
    "plt.savefig(f'iterative/{numQoI}D-firstepoch-pair-smart.png')\n",
    "plt.show()"
   ]
  },
  {
   "cell_type": "code",
   "execution_count": null,
   "metadata": {},
   "outputs": [],
   "source": [
    "np.random.seed(21)\n",
    "plt.figure(figsize=(10,10))\n",
    "idx_choice = np.arange(numQoI)\n",
    "np.random.shuffle(idx_choice)\n",
    "mud_chain = funs.iterate(A, b, y, initial_mean, initial_cov, data_cov=None, num_epochs=1, idx=idx_choice)\n",
    "plot.plot_contours(A[np.array(idx_choice),:], ref_param)\n",
    "plot.plotChain(mud_chain, ref_param)\n",
    "\n",
    "plt.axis('equal')\n",
    "plt.savefig(f'iterative/{numQoI}D-firstepoch-rand.png')\n",
    "plt.show()"
   ]
  },
  {
   "cell_type": "markdown",
   "metadata": {},
   "source": [
    "---\n",
    "# Quantifying the Impact of all of \"this\"\n",
    "\n",
    "Let us be more formal and perform this experiment for the rotationally-defined $A$ for more choices of initial means.\n",
    "We also want to experiment with several orderings of indices for our iteration."
   ]
  },
  {
   "cell_type": "code",
   "execution_count": null,
   "metadata": {},
   "outputs": [],
   "source": [
    "num_trials = 20\n",
    "model_eval_budget = 100\n",
    "num_epochs = model_eval_budget//numQoI\n",
    "# ordered\n",
    "idx_choice = np.arange(numQoI)\n",
    "mud_chains_from_ordered = []\n",
    "for trial in range(num_trials):\n",
    "    initial_mean = np.random.rand(2,1)\n",
    "    mud_chain = funs.iterate(A, b, y, initial_mean, initial_cov, data_cov=None, num_epochs=num_epochs, idx=idx_choice)\n",
    "    mud_chains_from_ordered.append(mud_chain)\n",
    "\n",
    "# some random ordering, multiple epochs\n",
    "idx_choice = np.arange(numQoI)\n",
    "np.random.shuffle(idx_choice)\n",
    "mud_chains_from_shuffles = []\n",
    "for trial in range(num_trials):\n",
    "    initial_mean = np.random.rand(2,1)\n",
    "    np.random.shuffle(idx_choice)\n",
    "    mud_chain = funs.iterate(A, b, y, initial_mean, initial_cov, data_cov=None, num_epochs=num_epochs, idx=idx_choice)\n",
    "    mud_chains_from_shuffles.append(mud_chain)\n",
    "\n",
    "# each epoch, order differently\n",
    "idx_choice = list(np.arange(numQoI))*num_epochs\n",
    "np.random.shuffle(idx_choice)\n",
    "mud_chains_from_randoms = []\n",
    "for trial in range(num_trials):\n",
    "    initial_mean = np.random.rand(2,1)\n",
    "    np.random.shuffle(idx_choice)\n",
    "    mud_chain = funs.iterate(A, b, y, initial_mean, initial_cov, data_cov=None, num_epochs=1, idx=idx_choice)\n",
    "    mud_chains_from_randoms.append(mud_chain)"
   ]
  },
  {
   "cell_type": "code",
   "execution_count": null,
   "metadata": {},
   "outputs": [],
   "source": [
    "plt.figure(figsize=(20,10))\n",
    "error = []\n",
    "for mud_chain in mud_chains_from_ordered:\n",
    "    approx_error = [np.linalg.norm(m - ref_param) for m in mud_chain]\n",
    "    error.append(approx_error)\n",
    "    plt.plot(approx_error, 'r', alpha=0.1)\n",
    "plt.plot(np.mean(np.array(error),axis=0), 'r', label='Ordered QoI')\n",
    "\n",
    "error = []\n",
    "for mud_chain in mud_chains_from_shuffles:\n",
    "    approx_error = [np.linalg.norm(m - ref_param) for m in mud_chain]\n",
    "    error.append(approx_error)\n",
    "    plt.plot(approx_error, 'k', alpha=0.1)\n",
    "plt.plot(np.mean(np.array(error),axis=0), 'k', label='Shuffled QoI')\n",
    "\n",
    "\n",
    "error = []\n",
    "for mud_chain in mud_chains_from_randoms:\n",
    "    approx_error = [np.linalg.norm(m - ref_param) for m in mud_chain]\n",
    "    error.append(approx_error)\n",
    "    plt.plot(approx_error, 'b', alpha=0.1)\n",
    "plt.plot(np.mean(np.array(error),axis=0), 'b', label='Random QoI')\n",
    "\n",
    "plt.legend(fontsize=24)\n",
    "plt.yscale('log')\n",
    "# plt.xscale('log')\n",
    "plt.ylabel(\"||\\lambda - \\lambda^*||\", fontsize=24)\n",
    "plt.xlabel(\"Iteration\", fontsize=24)\n",
    "plt.savefig(f'iterative/{numQoI}D-convergence-comparison.png')\n",
    "plt.show()"
   ]
  },
  {
   "cell_type": "code",
   "execution_count": null,
   "metadata": {},
   "outputs": [],
   "source": []
  }
 ],
 "metadata": {
  "kernelspec": {
   "display_name": "Python 3",
   "language": "python",
   "name": "python3"
  },
  "language_info": {
   "codemirror_mode": {
    "name": "ipython",
    "version": 3
   },
   "file_extension": ".py",
   "mimetype": "text/x-python",
   "name": "python",
   "nbconvert_exporter": "python",
   "pygments_lexer": "ipython3",
   "version": "3.7.8"
  }
 },
 "nbformat": 4,
 "nbformat_minor": 4
}
