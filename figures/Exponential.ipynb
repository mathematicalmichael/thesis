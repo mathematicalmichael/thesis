{
 "cells": [
  {
   "cell_type": "markdown",
   "metadata": {},
   "source": [
    "<center><h1> Exponential Decay"
   ]
  },
  {
   "cell_type": "code",
   "execution_count": null,
   "metadata": {},
   "outputs": [],
   "source": [
    "from mud_problem import generate_sensors_ode\n",
    "from mud_problem import makeDecayModel\n",
    "from experiments import mud_problem\n",
    "from mud.util import std_from_equipment\n",
    "import numpy as np"
   ]
  },
  {
   "cell_type": "markdown",
   "metadata": {},
   "source": [
    "## Generate Sensors"
   ]
  },
  {
   "cell_type": "code",
   "execution_count": null,
   "metadata": {},
   "outputs": [],
   "source": [
    "t_min, t_max = 1, 3"
   ]
  },
  {
   "cell_type": "code",
   "execution_count": null,
   "metadata": {},
   "outputs": [],
   "source": [
    "sensors = generate_sensors_ode(measurement_hertz=100,\n",
    "                               start_time=t_min,\n",
    "                               end_time=t_max)"
   ]
  },
  {
   "cell_type": "markdown",
   "metadata": {},
   "source": [
    "## Time / Measurement Snapshots"
   ]
  },
  {
   "cell_type": "code",
   "execution_count": null,
   "metadata": {},
   "outputs": [],
   "source": [
    "# what proportion of the experiment will we simulate solutions for?\n",
    "time_ratios = [0.01, 0.05, 0.1, 0.25, 0.5, 1]\n",
    "measurements = [ int(np.floor(len(sensors)*r)) for r in time_ratios ]\n",
    "print(f\"Measurements for which we will solve the problem: {measurements}\")"
   ]
  },
  {
   "cell_type": "code",
   "execution_count": null,
   "metadata": {},
   "outputs": [],
   "source": [
    "lam_true = [0.5]\n",
    "model = makeDecayModel(sensors, lam_true)"
   ]
  },
  {
   "cell_type": "code",
   "execution_count": null,
   "metadata": {},
   "outputs": [],
   "source": [
    "qoi_true = model() # no args evaluates true param"
   ]
  },
  {
   "cell_type": "markdown",
   "metadata": {},
   "source": [
    "## Sample $\\Lambda$ and Map to $\\mathcal{D}$"
   ]
  },
  {
   "cell_type": "code",
   "execution_count": null,
   "metadata": {},
   "outputs": [],
   "source": [
    "domain=[[0,1]]\n",
    "lam = np.random.rand(int(1E4)).reshape(-1,1)\n",
    "qoi = model(lam)"
   ]
  },
  {
   "cell_type": "code",
   "execution_count": null,
   "metadata": {},
   "outputs": [],
   "source": [
    "lam.shape, qoi.shape"
   ]
  },
  {
   "cell_type": "markdown",
   "metadata": {},
   "source": [
    "Define wrapper which we use to solve the problem, which takes arguments and passes them along to `bet==2.3.0`.\n",
    "This wrapper ensures our model is unseen by the solution method.\n",
    "It only gets input/output data, and must arrive at the most likely estimate of truth from the given set of model evaluation."
   ]
  },
  {
   "cell_type": "code",
   "execution_count": null,
   "metadata": {},
   "outputs": [],
   "source": [
    "# this relies on BET code that was not ported to version 3.0\n",
    "# I plan to upgrade it in the future, but LOOK HOW CLEAN IT IS\n",
    "mud_problem??"
   ]
  },
  {
   "cell_type": "code",
   "execution_count": null,
   "metadata": {},
   "outputs": [],
   "source": [
    "sigma = std_from_equipment(tolerance=0.1, probability=0.99)\n",
    "def mud_wrapper(num_obs, sd=sigma):\n",
    "    return mud_problem(domain=domain, lam=lam, qoi=qoi, sd=sd, qoi_true=qoi_true, num_obs=num_obs)\n"
   ]
  },
  {
   "cell_type": "markdown",
   "metadata": {},
   "source": [
    "## Example Usage"
   ]
  },
  {
   "cell_type": "code",
   "execution_count": null,
   "metadata": {},
   "outputs": [],
   "source": [
    "disc = mud_wrapper(20)"
   ]
  },
  {
   "cell_type": "code",
   "execution_count": null,
   "metadata": {},
   "outputs": [],
   "source": [
    "disc.mud_point()"
   ]
  },
  {
   "cell_type": "markdown",
   "metadata": {},
   "source": [
    "Evaluate estimate of updated density (i.e. free of model evals) to see if we can arrive at an even better estimate."
   ]
  },
  {
   "cell_type": "markdown",
   "metadata": {},
   "source": [
    "## Run Experiment"
   ]
  },
  {
   "cell_type": "code",
   "execution_count": null,
   "metadata": {},
   "outputs": [],
   "source": [
    "from experiments import experiment_measurements, extract_statistics\n",
    "from plotting import plot_surface, plot_experiment_measurements, plot_experiment_equipment, log_linear_regression, plot_decay_solution"
   ]
  },
  {
   "cell_type": "code",
   "execution_count": null,
   "metadata": {},
   "outputs": [],
   "source": [
    "import pickle\n",
    "sol_fname = 'decaySols.pkl'"
   ]
  },
  {
   "cell_type": "code",
   "execution_count": null,
   "metadata": {},
   "outputs": [],
   "source": [
    "%%time\n",
    "load = True\n",
    "if not load:\n",
    "\n",
    "    num_trials = 20\n",
    "    seed = 21\n",
    "    print(\"Increasing Measurements Quantity Study\")\n",
    "    experiments, solutions = experiment_measurements(\n",
    "                                             num_measurements=measurements,\n",
    "                                             sd=sigma,\n",
    "                                             num_trials=num_trials,\n",
    "                                             seed=seed,\n",
    "                                             fun=mud_wrapper)\n",
    "\n",
    "    pickle.dump(solutions, open(sol_fname,'wb'))\n",
    "else:\n",
    "    solutions = pickle.load(open(sol_fname,'rb'))\n",
    "    num_trials = len(list(solutions.values())[0])\n",
    "    measurements = list(solutions.keys())"
   ]
  },
  {
   "cell_type": "markdown",
   "metadata": {},
   "source": [
    "## Extract Statistics"
   ]
  },
  {
   "cell_type": "code",
   "execution_count": null,
   "metadata": {},
   "outputs": [],
   "source": [
    "means, variances = extract_statistics(solutions, lam_true)\n",
    "regression_mean, slope_mean = log_linear_regression(time_ratios, means)\n",
    "regression_vars, slope_vars = log_linear_regression(time_ratios, variances)\n"
   ]
  },
  {
   "cell_type": "markdown",
   "metadata": {},
   "source": [
    "## Plotting"
   ]
  },
  {
   "cell_type": "code",
   "execution_count": null,
   "metadata": {},
   "outputs": [],
   "source": [
    "fsize = 32\n",
    "linewidth = 5"
   ]
  },
  {
   "cell_type": "code",
   "execution_count": null,
   "metadata": {},
   "outputs": [],
   "source": [
    "plot_decay_solution?"
   ]
  },
  {
   "cell_type": "code",
   "execution_count": null,
   "metadata": {},
   "outputs": [],
   "source": [
    "subset_sols = {n: solutions[n] for n in [2,20,200]}\n",
    "plot_decay_solution(subset_sols, makeDecayModel, fsize=fsize,\n",
    "                    end_time=t_max, lam_true=lam_true, qoi_true=qoi_true,\n",
    "                    sigma=sigma, time_vector=sensors, prefix='ode/ode')"
   ]
  },
  {
   "cell_type": "code",
   "execution_count": null,
   "metadata": {},
   "outputs": [],
   "source": [
    "_rm = (regression_mean, slope_mean, regression_vars, slope_vars, means, variances)"
   ]
  },
  {
   "cell_type": "code",
   "execution_count": null,
   "metadata": {},
   "outputs": [],
   "source": [
    "# plot_experiment_measurements??"
   ]
  },
  {
   "cell_type": "code",
   "execution_count": null,
   "metadata": {},
   "outputs": [],
   "source": [
    "plot_experiment_measurements(measurements, [('Mean Absolute Error', _, _rm, _)],\n",
    "                             'ode/ode', fsize, linewidth,\n",
    "                             test=False)"
   ]
  },
  {
   "cell_type": "code",
   "execution_count": null,
   "metadata": {},
   "outputs": [],
   "source": []
  }
 ],
 "metadata": {
  "kernelspec": {
   "display_name": "Python 3",
   "language": "python",
   "name": "python3"
  },
  "language_info": {
   "codemirror_mode": {
    "name": "ipython",
    "version": 3
   },
   "file_extension": ".py",
   "mimetype": "text/x-python",
   "name": "python",
   "nbconvert_exporter": "python",
   "pygments_lexer": "ipython3",
   "version": "3.7.8"
  }
 },
 "nbformat": 4,
 "nbformat_minor": 4
}
