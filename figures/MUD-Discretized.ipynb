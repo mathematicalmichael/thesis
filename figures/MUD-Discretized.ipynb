{
 "cells": [
  {
   "cell_type": "markdown",
   "metadata": {},
   "source": [
    "<center><h1> PDE: Extension to Higher Dimensions"
   ]
  },
  {
   "cell_type": "code",
   "execution_count": null,
   "metadata": {
    "ExecuteTime": {
     "end_time": "2020-06-15T13:50:21.381727Z",
     "start_time": "2020-06-15T13:50:19.992980Z"
    }
   },
   "outputs": [],
   "source": [
    "import numpy as np\n",
    "import matplotlib.pyplot as plt\n",
    "from scipy.stats import distributions as dist\n",
    "import dolfin as fin"
   ]
  },
  {
   "cell_type": "code",
   "execution_count": null,
   "metadata": {
    "ExecuteTime": {
     "end_time": "2020-06-15T13:50:22.090091Z",
     "start_time": "2020-06-15T13:50:22.084166Z"
    }
   },
   "outputs": [],
   "source": [
    "from mud.plot import make_2d_unit_mesh\n",
    "from mud.util import std_from_equipment"
   ]
  },
  {
   "cell_type": "code",
   "execution_count": null,
   "metadata": {
    "ExecuteTime": {
     "end_time": "2020-06-15T13:50:22.443237Z",
     "start_time": "2020-06-15T13:50:22.377896Z"
    }
   },
   "outputs": [],
   "source": [
    "from experiments import mud_problem\n",
    "from plotting import log_linear_regression, plot_experiment_measurements\n",
    "import matplotlib\n",
    "matplotlib.rcParams['mathtext.fontset'] = 'stix'\n",
    "matplotlib.rcParams['font.family'] = 'STIXGeneral'\n",
    "matplotlib.rcParams['font.size'] = 24\n",
    "matplotlib.backend = 'Agg' "
   ]
  },
  {
   "cell_type": "code",
   "execution_count": null,
   "metadata": {
    "ExecuteTime": {
     "end_time": "2020-06-15T13:50:22.521607Z",
     "start_time": "2020-06-15T13:50:22.518150Z"
    }
   },
   "outputs": [],
   "source": [
    "from newpoisson import poisson, poisson_sensor_model\n",
    "import pickle"
   ]
  },
  {
   "cell_type": "code",
   "execution_count": null,
   "metadata": {
    "ExecuteTime": {
     "end_time": "2020-06-15T13:50:22.744590Z",
     "start_time": "2020-06-15T13:50:22.740728Z"
    }
   },
   "outputs": [],
   "source": [
    "from mud_problem import generate_sensors_pde, load_poisson"
   ]
  },
  {
   "cell_type": "code",
   "execution_count": null,
   "metadata": {},
   "outputs": [],
   "source": [
    "from experiments import experiment_measurements_index, extract_statistics_index\n",
    "from plotting import log_linear_regression, plot_experiment_measurements"
   ]
  },
  {
   "cell_type": "markdown",
   "metadata": {},
   "source": [
    "### Debugging: Implementation of Data-Driven Map"
   ]
  },
  {
   "cell_type": "code",
   "execution_count": null,
   "metadata": {
    "ExecuteTime": {
     "end_time": "2020-06-15T13:50:24.379421Z",
     "start_time": "2020-06-15T13:50:24.374290Z"
    }
   },
   "outputs": [],
   "source": [
    "from scipy.stats import gaussian_kde as gkde"
   ]
  },
  {
   "cell_type": "code",
   "execution_count": null,
   "metadata": {
    "ExecuteTime": {
     "end_time": "2020-06-15T13:50:24.502444Z",
     "start_time": "2020-06-15T13:50:24.498711Z"
    }
   },
   "outputs": [],
   "source": [
    "def ratio_dci(qoi):\n",
    "    kde = gkde(qoi)\n",
    "    ratio_eval = dist.norm.pdf(qoi)/kde.pdf(qoi)\n",
    "    return ratio_eval"
   ]
  },
  {
   "cell_type": "code",
   "execution_count": null,
   "metadata": {
    "ExecuteTime": {
     "end_time": "2020-06-15T13:50:25.149472Z",
     "start_time": "2020-06-15T13:50:25.135293Z"
    }
   },
   "outputs": [],
   "source": [
    "def meas_to_qoi(qoi, data, sd):\n",
    "    if qoi.ndim == 1: qoi = qoi.reshape(1,-1)\n",
    "    num_evals = qoi.shape[0]\n",
    "    assert qoi.shape[1] == len(data)\n",
    "    residuals = np.subtract(qoi, data)\n",
    "    weighted_residuals = np.divide(residuals, sd)\n",
    "    assert weighted_residuals.shape[0] == num_evals\n",
    "    weighted_sum = np.sum(weighted_residuals, axis=1)\n",
    "    return weighted_sum/np.sqrt(len(data))"
   ]
  },
  {
   "cell_type": "code",
   "execution_count": null,
   "metadata": {
    "ExecuteTime": {
     "end_time": "2020-06-15T13:50:25.358568Z",
     "start_time": "2020-06-15T13:50:25.338810Z"
    }
   },
   "outputs": [],
   "source": [
    "def band_qoi(sensors, num_qoi=1, axis=1):\n",
    "    intervals = np.linspace(0, 1, num_qoi+2)[1:-1]\n",
    "    _intervals = np.array(intervals[1:]) + ( np.array(intervals[:-1]) - np.array(intervals[1:]) ) / 2\n",
    "    _intervals = [0] + list(_intervals) + [1]\n",
    "    qoi_indices = [np.where(np.logical_and(sensors[:, axis] > _intervals[i],\n",
    "                                           sensors[:, axis] < _intervals[i+1]))[0] for i in range(num_qoi) ]\n",
    "    return qoi_indices\n",
    "\n",
    "\n",
    "def split_qoi_by_indices(qoi_indices, qoi_true, qoi, noise, sigma, first=None):\n",
    "    qois = []\n",
    "    if first is None: first = qoi.shape[1]\n",
    "    for i in range(0, len(qoi_indices)):\n",
    "        q = qoi_indices[i][qoi_indices[i] < first]\n",
    "    #     q = qoi_indices[i]\n",
    "        \n",
    "        _qoi = qoi[:, q]\n",
    "        _noise = noise[q]\n",
    "        _data = np.array(qoi_true)[q] + _noise\n",
    "\n",
    "        _newqoi = meas_to_qoi(_qoi, _data , sigma)\n",
    "        qois.append(_newqoi)\n",
    "    return qois\n",
    "\n",
    "\n",
    "def ratio_dci_mult(qois):\n",
    "    nq = np.array(qois)\n",
    "    kde = gkde(nq)\n",
    "    obs = dist.norm.pdf(nq)\n",
    "    obs_eval = np.product(obs, axis=0)\n",
    "    ratio_eval = np.divide(obs_eval, kde.pdf(nq))\n",
    "    return ratio_eval"
   ]
  },
  {
   "cell_type": "markdown",
   "metadata": {},
   "source": [
    "# Settings"
   ]
  },
  {
   "cell_type": "code",
   "execution_count": null,
   "metadata": {
    "ExecuteTime": {
     "end_time": "2020-06-15T13:50:27.258418Z",
     "start_time": "2020-06-15T13:50:27.254811Z"
    }
   },
   "outputs": [],
   "source": [
    "from newpoisson import pcwExpr, pcwGFun"
   ]
  },
  {
   "cell_type": "code",
   "execution_count": null,
   "metadata": {
    "ExecuteTime": {
     "end_time": "2020-06-15T13:50:27.435591Z",
     "start_time": "2020-06-15T13:50:27.426532Z"
    }
   },
   "outputs": [],
   "source": [
    "prefix      = f'pde-highd/pde-highd'\n",
    "num_measure = 100 # number of measurement (sensor) locations\n",
    "fsize       = 32\n",
    "num_trials  = 20   # realizations of synthetic data for numerical runs\n",
    "tolerance   = 0.1 # precision of measurement equipment\n",
    "sigma       = std_from_equipment(tolerance=tolerance, probability=0.99)\n",
    "np.random.seed(21)\n",
    "lam_true    = 3.0\n",
    "input_dim   = 5\n",
    "num_samples = 1000\n",
    "ftype       = 'png'"
   ]
  },
  {
   "cell_type": "code",
   "execution_count": null,
   "metadata": {
    "ExecuteTime": {
     "end_time": "2020-06-15T13:50:27.435591Z",
     "start_time": "2020-06-15T13:50:27.426532Z"
    }
   },
   "outputs": [],
   "source": [
    "load = True\n",
    "measurements = [20, 40, 60, 80, 100]\n",
    "# tolerances = [1E-1, 1E-2, 1E-3]\n",
    "print(f\"Will run simulations for {measurements}\")"
   ]
  },
  {
   "cell_type": "code",
   "execution_count": null,
   "metadata": {
    "ExecuteTime": {
     "end_time": "2020-06-15T13:50:28.172231Z",
     "start_time": "2020-06-15T13:50:28.153832Z"
    }
   },
   "outputs": [],
   "source": [
    "u = fin.Expression(\"-gamma*sin((2*kappa+1)*pi*x[0])\", gamma=3.0, kappa=0.0, degree=3)\n",
    "u = fin.Expression(f\"pow(x[0], 2) * pow(x[0] - 1, 5) * gamma\", gamma=lam_true*823543/12500, degree=3)\n",
    "mesh = fin.UnitIntervalMesh(100)\n",
    "\n",
    "def getVals(u,n):\n",
    "    dx=1/(n+1)\n",
    "    invals = [i*dx for i in range(n+2)]\n",
    "    outvals = [u(i) for i in invals][1:-1]\n",
    "    return invals[1:-1], outvals\n",
    "\n",
    "def expressionNorm(u,v,n=100):\n",
    "    u = getVals(u, n)[1] \n",
    "    v = getVals(v, n)[1]\n",
    "    return np.linalg.norm(np.array(u) - np.array(v))/n"
   ]
  },
  {
   "cell_type": "code",
   "execution_count": null,
   "metadata": {
    "ExecuteTime": {
     "end_time": "2020-06-15T13:50:28.526960Z",
     "start_time": "2020-06-15T13:50:28.370810Z"
    }
   },
   "outputs": [],
   "source": [
    "model_dict = {}\n",
    "for _input_dim in [2, 5]:\n",
    "    model_dict[_input_dim] = pickle.load(open(f'res{_input_dim}u.pkl', 'rb'))"
   ]
  },
  {
   "cell_type": "markdown",
   "metadata": {},
   "source": [
    "# Define Sensors"
   ]
  },
  {
   "cell_type": "code",
   "execution_count": null,
   "metadata": {
    "ExecuteTime": {
     "end_time": "2020-06-15T13:50:57.835643Z",
     "start_time": "2020-06-15T13:50:57.830101Z"
    }
   },
   "outputs": [],
   "source": [
    "sensors = generate_sensors_pde(num_measure)"
   ]
  },
  {
   "cell_type": "code",
   "execution_count": null,
   "metadata": {
    "ExecuteTime": {
     "end_time": "2020-06-15T13:50:57.835643Z",
     "start_time": "2020-06-15T13:50:57.830101Z"
    }
   },
   "outputs": [],
   "source": [
    "qoi_true = poisson_sensor_model(sensors, gamma=[lam_true], nx=36, ny=36)\n",
    "noise = sigma*np.random.randn(num_measure)"
   ]
  },
  {
   "cell_type": "markdown",
   "metadata": {},
   "source": [
    "### Visualize"
   ]
  },
  {
   "cell_type": "code",
   "execution_count": null,
   "metadata": {},
   "outputs": [],
   "source": [
    "p = poisson(gamma=[lam_true], nx=36, ny=36)\n",
    "V = p.function_space()"
   ]
  },
  {
   "cell_type": "code",
   "execution_count": null,
   "metadata": {},
   "outputs": [],
   "source": [
    "svals = [p(xi,yi) for xi,yi in sensors]"
   ]
  },
  {
   "cell_type": "code",
   "execution_count": null,
   "metadata": {},
   "outputs": [],
   "source": [
    "z = svals\n",
    "x, y = sensors[:,0], sensors[:,1]\n",
    "plt.tricontourf(x, y, z, levels=20, vmin=-0.5, vmax=0)\n",
    "plt.scatter(x, y, c='r', s=0.5)\n",
    "plt.show()"
   ]
  },
  {
   "cell_type": "markdown",
   "metadata": {},
   "source": [
    " ---"
   ]
  },
  {
   "cell_type": "markdown",
   "metadata": {},
   "source": [
    "---"
   ]
  },
  {
   "cell_type": "markdown",
   "metadata": {},
   "source": [
    "## Simulate Perturbed Response Surface\n",
    "\n",
    "$\\tau$ was specified in the cells above using `tolerance`, take a look at your possible data and determine if it is reasonable before proceeding."
   ]
  },
  {
   "cell_type": "code",
   "execution_count": null,
   "metadata": {},
   "outputs": [],
   "source": [
    "pn = poisson(gamma=[lam_true])\n",
    "v = np.array(pn.vector())\n",
    "# v = p.compute_vertex_values()\n",
    "pn.vector()[:] = v + sigma*np.random.randn(len(v))"
   ]
  },
  {
   "cell_type": "code",
   "execution_count": null,
   "metadata": {},
   "outputs": [],
   "source": [
    "fin.plot(pn, vmin=-0.5, vmax=0)\n",
    "plt.title(f\"Simulated Measurement Surface\\n$\\\\sigma$ = {sigma:1.3E} ($\\\\tau$ = {tolerance:1.1E})\")\n",
    "plt.scatter(sensors[0:100,0], sensors[0:100,1], s=100, c='k')\n",
    "plt.show()"
   ]
  },
  {
   "cell_type": "code",
   "execution_count": null,
   "metadata": {},
   "outputs": [],
   "source": [
    "# %%time\n",
    "# model_list = model_dict[input_dim]\n",
    "# lam, qoi = load_poisson(sensors, model_list, nx=36, ny=36)"
   ]
  },
  {
   "cell_type": "code",
   "execution_count": null,
   "metadata": {},
   "outputs": [],
   "source": [
    "# domain = np.array([[-4,0]*input_dim]).reshape(-1,2)\n"
   ]
  },
  {
   "cell_type": "code",
   "execution_count": null,
   "metadata": {
    "ExecuteTime": {
     "end_time": "2020-06-15T13:51:35.852434Z",
     "start_time": "2020-06-15T13:51:28.331Z"
    }
   },
   "outputs": [],
   "source": [
    "intervals, gamma_true = getVals(u, input_dim)\n",
    "w = fin.Expression(pcwExpr(u, input_dim, d=0), degree=2)\n",
    "domain = np.array([[-4,0]*input_dim]).reshape(-1,2)\n",
    "model_list = model_dict[input_dim]"
   ]
  },
  {
   "cell_type": "code",
   "execution_count": null,
   "metadata": {
    "ExecuteTime": {
     "end_time": "2020-06-15T13:46:36.467911Z",
     "start_time": "2020-06-15T13:46:36.340365Z"
    }
   },
   "outputs": [],
   "source": [
    "# %%time\n",
    "if load:\n",
    "    fname = f'{prefix}_summary_{input_dim}.pkl'\n",
    "    results = pickle.load(open(fname, 'rb'))\n",
    "    solutions_sing, solutions_mult = results['sols']\n",
    "    measurements = results['meas']\n",
    "    noise, tolerance = results['noise']\n",
    "    sigma = results['stdv']\n",
    "    lam, qoi = results['sets']\n",
    "    gamma_true, qoi_true = results['true']\n",
    "    sensors = results['sens']\n",
    "else:\n",
    "    lam, qoi = load_poisson(sensors, model_list[0:num_samples], nx=36, ny=36)"
   ]
  },
  {
   "cell_type": "markdown",
   "metadata": {},
   "source": [
    "## Best Case Scenario: Minimizing 2-Norms with Knowledge of Truth\n",
    "minimizing norm of difference between \"truth\" and our samples, both input and output."
   ]
  },
  {
   "cell_type": "code",
   "execution_count": null,
   "metadata": {
    "ExecuteTime": {
     "end_time": "2020-06-15T13:47:14.387340Z",
     "start_time": "2020-06-15T13:47:14.288160Z"
    }
   },
   "outputs": [],
   "source": [
    "# %%time\n",
    "closest_fit_index_in = np.argmin(np.linalg.norm(lam - np.array(gamma_true), axis=1))\n",
    "closest_fit_index_out = np.argmin(np.linalg.norm(qoi - np.array(qoi_true), axis=1))"
   ]
  },
  {
   "cell_type": "code",
   "execution_count": null,
   "metadata": {
    "ExecuteTime": {
     "end_time": "2020-06-15T13:47:42.587238Z",
     "start_time": "2020-06-15T13:47:40.869645Z"
    }
   },
   "outputs": [],
   "source": [
    "plt.figure(figsize=(20,10))\n",
    "plt.subplot(121)\n",
    "fin.plot(w, mesh=mesh, lw=5, c='k')\n",
    "gt = list(lam[closest_fit_index_in, :])\n",
    "plt.plot([0]+intervals+[1], [0]+gt+[0], lw=5, c='purple', alpha=1, label=f'Closest in Input: {closest_fit_index_in}')\n",
    "\n",
    "projected_line = list(lam[closest_fit_index_out, :])\n",
    "plt.plot([0]+intervals+[1], [0]+projected_line+[0], lw=5, c='green', alpha=1, label=f'Closest in Output: {closest_fit_index_out}')\n",
    "\n",
    "plt.legend(fontsize=fsize*0.75)\n",
    "plt.title(f'Parameter Space', fontsize=fsize*1.25)\n",
    "plt.ylim(-4, 0)\n",
    "plt.xlim(0, 1)\n",
    "plt.ylabel('$u(x, \\lambda)$', fontsize=fsize)\n",
    "plt.xlabel('$x_1$', fontsize=fsize)\n",
    "\n",
    "plt.subplot(122)\n",
    "_plot_num = max(measurements)\n",
    "q = qoi[closest_fit_index_in,:]\n",
    "plt.scatter(q[:_plot_num], qoi_true[:_plot_num] + noise[:_plot_num], c='purple', s=100, alpha=0.4, label=f'Closest in Input: {closest_fit_index_in}')\n",
    "q = qoi[closest_fit_index_out,:]\n",
    "plt.scatter(q[:_plot_num], qoi_true[:_plot_num] + noise[:_plot_num], c='green', s=100, alpha=0.4, label=f'Closest in Output: {closest_fit_index_out}')\n",
    "\n",
    "_a = np.linspace(min(qoi_true),max(qoi_true), 2)\n",
    "plt.plot(_a,_a, c='k', lw=3)\n",
    "plt.xlim(-0.5, 0.2)\n",
    "plt.ylim(-0.5, 0.2)\n",
    "# plt.legend(fontsize=fsize)\n",
    "plt.xlabel('Predicted Data', fontsize=fsize)\n",
    "plt.ylabel('Collected Data', fontsize=fsize)\n",
    "plt.title(\"Q-Q Plot\", fontsize=fsize*1.25)\n",
    "\n",
    "_fname = f\"{prefix}_proj_D{input_dim}.{ftype}\"\n",
    "plt.savefig(_fname, bbox_inches='tight')\n",
    "plt.show()"
   ]
  },
  {
   "cell_type": "markdown",
   "metadata": {},
   "source": [
    "---"
   ]
  },
  {
   "cell_type": "code",
   "execution_count": null,
   "metadata": {},
   "outputs": [],
   "source": [
    "num_qoi = input_dim\n",
    "# plot_qoi = [20, 100, 500, 1000][::-1]\n",
    "plot_qoi = measurements[::-2]\n",
    "qoi_indices     = band_qoi(sensors, num_qoi, axis=1)\n",
    "qoi_indices_bad = band_qoi(sensors, num_qoi, axis=0)\n",
    "colors = ['xkcd:red', 'xkcd:black', 'xkcd:orange', 'xkcd:blue', 'xkcd:green']"
   ]
  },
  {
   "cell_type": "code",
   "execution_count": null,
   "metadata": {},
   "outputs": [],
   "source": [
    "_intervals = np.array(intervals[1:]) + ( np.array(intervals[:-1]) - np.array(intervals[1:]) ) / 2"
   ]
  },
  {
   "cell_type": "code",
   "execution_count": null,
   "metadata": {},
   "outputs": [],
   "source": [
    "plt.figure(figsize=(10,10))\n",
    "fin.plot(pn, vmin=-0.5, vmax=0)\n",
    "plt.title(f\"Simulated Measurement Surface\\n$\\\\sigma$ = {sigma:1.3E} ($\\\\tau$ = {tolerance:1.1E})\")\n",
    "for i in range(0, num_qoi):\n",
    "    if i < num_qoi - 1: plt.axhline(_intervals[i], lw=3, c='k')\n",
    "    _q = qoi_indices[i][qoi_indices[i] < 100 ]\n",
    "    plt.scatter(sensors[_q,0], sensors[_q,1], s=100, color=colors[i%2])\n",
    "plt.scatter([0]*input_dim, intervals, s=200, marker='^', c='w')\n",
    "plt.xlim(0,1)\n",
    "plt.ylim(0,1)\n",
    "plt.xticks([])\n",
    "plt.yticks([])\n",
    "plt.xlabel(\"$x_1$\", fontsize=fsize)\n",
    "plt.ylabel(\"$x_2$\", fontsize=fsize)\n",
    "\n",
    "_fname = f\"{prefix}_sensors_D{input_dim}.{ftype}\"\n",
    "plt.savefig(_fname, bbox_inches='tight')\n",
    "plt.show()\n",
    "\n",
    "plt.figure(figsize=(10,10))\n",
    "fin.plot(pn, vmin=-0.5, vmax=0)\n",
    "plt.title(f\"Simulated Measurement Surface\\n$\\\\sigma$ = {sigma:1.3E} ($\\\\tau$ = {tolerance:1.1E})\")\n",
    "for i in range(0, num_qoi):\n",
    "    if i < num_qoi - 1: plt.axvline(_intervals[i], lw=3, c='k')\n",
    "    _q = qoi_indices_bad[i][qoi_indices_bad[i] < 100 ]\n",
    "    plt.scatter(sensors[_q,0], sensors[_q,1], s=100, color=colors[i%2])\n",
    "plt.scatter([0]*input_dim,intervals, s=200, marker='^', c='w')\n",
    "plt.xlim(0,1)\n",
    "plt.ylim(0,1)\n",
    "plt.xticks([])\n",
    "plt.yticks([])\n",
    "plt.xlabel(\"$x_1$\", fontsize=fsize)\n",
    "plt.ylabel(\"$x_2$\", fontsize=fsize)\n",
    "\n",
    "_fname = f\"{prefix}_sensors-alt_D{input_dim}.{ftype}\"\n",
    "plt.savefig(_fname, bbox_inches='tight')\n",
    "plt.show()"
   ]
  },
  {
   "cell_type": "markdown",
   "metadata": {},
   "source": [
    "# Geometry Study"
   ]
  },
  {
   "cell_type": "code",
   "execution_count": null,
   "metadata": {},
   "outputs": [],
   "source": [
    "if input_dim == 2:\n",
    "    plt.figure(figsize=(20,10))\n",
    "    plt.subplot(121)\n",
    "    colors = ['xkcd:red', 'xkcd:black', 'xkcd:orange', 'xkcd:blue', 'xkcd:green'][::-1]\n",
    "#     plot_qoi = [20, 100, 500, 1000][::-1]\n",
    "    for idx, _first in enumerate(plot_qoi):\n",
    "        qois = split_qoi_by_indices(qoi_indices, qoi_true, qoi, noise, sigma, first=_first)\n",
    "        plt.scatter(qois[0], qois[1], label=f'First {_first}', s=20, c=colors[idx], alpha=1)\n",
    "    plt.legend()\n",
    "    plt.title(\"Horizontal Band QoI\", fontsize=1.25*fsize)\n",
    "    plt.xlabel(\"$q_1$\", fontsize=fsize)\n",
    "    plt.ylabel(\"$q_2$\", fontsize=fsize)\n",
    "    \n",
    "    plt.subplot(122)\n",
    "    for idx, _first in enumerate(plot_qoi):\n",
    "        qois = split_qoi_by_indices(qoi_indices_bad, qoi_true, qoi, noise, sigma, first=_first)\n",
    "        plt.scatter(qois[0], qois[1], label=f'First {_first}', s=20, c=colors[idx], alpha=1)\n",
    "    plt.legend()\n",
    "    plt.title(\"Vertical Band QoI\", fontsize=1.25*fsize)\n",
    "    plt.xlabel(\"$q^*_1$\", fontsize=fsize)\n",
    "    plt.ylabel(\"$q^*_2$\", fontsize=fsize)\n",
    "\n",
    "else:\n",
    "    plt.figure(figsize=(20,20))\n",
    "#     lim = 7.5/tolerance\n",
    "    lim = 3/tolerance\n",
    "    fig, axs = plt.subplots(input_dim, input_dim, figsize=(20,20))\n",
    "    for _i in range(input_dim):\n",
    "        for _j in range(_i, input_dim):\n",
    "            if _i == _j:\n",
    "                ax = axs[_i][_i]\n",
    "\n",
    "                ax.annotate(f\"$q{_i+1}$\", (-lim/10,0), fontsize=fsize)\n",
    "    #             ax.set_ylabel(f\"$q{_i+1}$\")\n",
    "    #             ax.set_xlabel(f\"$q{_i+1}$\")\n",
    "                ax.set_xlim(-lim, lim)\n",
    "                ax.set_ylim(-lim, lim)\n",
    "    #             ax.set_xticks([])\n",
    "    #             ax.set_yticks([])\n",
    "            else:\n",
    "                for idx, _first in enumerate(plot_qoi):\n",
    "                    ax = axs[_i][_j]\n",
    "                    qois = split_qoi_by_indices(qoi_indices, qoi_true, qoi, noise, sigma, first=_first)\n",
    "                    ax.scatter(qois[_i], qois[_j], label=f'First {_first}', s=20, c=colors[idx], alpha=1)\n",
    "                    ax.set_xlim(-lim, lim)\n",
    "                    ax.set_ylim(-lim, lim)\n",
    "                    ax.set_xticks([])\n",
    "                    ax.set_yticks([])\n",
    "\n",
    "                    ax = axs[_j][_i]\n",
    "                    qois = split_qoi_by_indices(qoi_indices_bad, qoi_true, qoi, noise, sigma, first=_first)\n",
    "                    ax.scatter(qois[_i], qois[_j], label=f'First {_first}', s=20, c=colors[idx], alpha=1)\n",
    "                    ax.set_xlim(-lim, lim)\n",
    "                    ax.set_ylim(-lim, lim)\n",
    "                    ax.set_xticks([])\n",
    "                    ax.set_yticks([])\n",
    "\n",
    "_fname = f\"{prefix}_geom_D{input_dim}.{ftype}\"\n",
    "plt.savefig(_fname, bbox_inches='tight')\n",
    "plt.show()    "
   ]
  },
  {
   "cell_type": "markdown",
   "metadata": {},
   "source": [
    "# POC: Solve Inverse Problem"
   ]
  },
  {
   "cell_type": "markdown",
   "metadata": {},
   "source": [
    "### Single QoI"
   ]
  },
  {
   "cell_type": "code",
   "execution_count": null,
   "metadata": {},
   "outputs": [],
   "source": [
    "# noise = np.random.randn(num_measure)*sigma\n",
    "num_samps_ex_sol = 100"
   ]
  },
  {
   "cell_type": "code",
   "execution_count": null,
   "metadata": {},
   "outputs": [],
   "source": [
    "%%time\n",
    "newqoi = meas_to_qoi(qoi[:,0:num_samps_ex_sol], qoi_true[0:num_samps_ex_sol] + noise[0:num_samps_ex_sol], sigma)\n",
    "r_sing = ratio_dci(newqoi)"
   ]
  },
  {
   "cell_type": "code",
   "execution_count": null,
   "metadata": {},
   "outputs": [],
   "source": [
    "mud_idx = np.argmax(r_sing)\n",
    "mud_fun = lam[mud_idx,:]\n",
    "print(mud_idx)"
   ]
  },
  {
   "cell_type": "markdown",
   "metadata": {},
   "source": [
    "### Multiple QoI"
   ]
  },
  {
   "cell_type": "code",
   "execution_count": null,
   "metadata": {},
   "outputs": [],
   "source": [
    "%%time\n",
    "qois = split_qoi_by_indices(qoi_indices, qoi_true, qoi, noise, sigma, first=num_samps_ex_sol)\n",
    "r_mult = ratio_dci_mult(qois)"
   ]
  },
  {
   "cell_type": "code",
   "execution_count": null,
   "metadata": {},
   "outputs": [],
   "source": [
    "mud_idx_mult = np.argmax(r_mult)\n",
    "mud_fun_mult = lam[mud_idx_mult,:]"
   ]
  },
  {
   "cell_type": "code",
   "execution_count": null,
   "metadata": {},
   "outputs": [],
   "source": [
    "mud_idx_mult"
   ]
  },
  {
   "cell_type": "markdown",
   "metadata": {},
   "source": [
    "## Compare Vector-Valued and Scalar Example Solutions"
   ]
  },
  {
   "cell_type": "code",
   "execution_count": null,
   "metadata": {},
   "outputs": [],
   "source": [
    "plt.figure(figsize=(30,10))\n",
    "colors = ['xkcd:red', 'xkcd:black', 'xkcd:orange', 'xkcd:blue', 'xkcd:green']\n",
    "plt.subplot(131)\n",
    "fin.plot(poisson(mud_fun, nx=36,ny=36), vmin=-0.5, vmax=0)\n",
    "plt.title('MUD (Scalar-Valued)', fontsize=1.25*fsize)\n",
    "\n",
    "plt.subplot(132)\n",
    "fin.plot(pn, vmin=-0.5, vmax=0)\n",
    "plt.title('(Noisy) Response Surface', fontsize=1.25*fsize)\n",
    "for i in range(0, num_qoi):\n",
    "    if i < num_qoi - 1: plt.axhline(_intervals[i], lw=3, c='k')\n",
    "    _q = qoi_indices[i][qoi_indices[i] < 100 ]\n",
    "    plt.scatter(sensors[_q,0], sensors[_q,1], s=100, color=colors[i%2])\n",
    "plt.scatter([0]*input_dim, intervals, s=400, marker='^', c='w')\n",
    "plt.xlim(0,1)\n",
    "plt.ylim(0,1)\n",
    "plt.xticks([])\n",
    "plt.yticks([])\n",
    "plt.xlabel(\"$x_1$\", fontsize=fsize)\n",
    "plt.ylabel(\"$x_2$\", fontsize=fsize)\n",
    "\n",
    "plt.subplot(133)\n",
    "fin.plot(poisson(mud_fun_mult, nx=36,ny=36), vmin=-0.5, vmax=0)\n",
    "plt.title('MUD (Vector-Valued)', fontsize=1.25*fsize)\n",
    "\n",
    "_fname = f\"{prefix}_surf_exmud_D{input_dim}_m{num_samps_ex_sol}.{ftype}\"\n",
    "plt.savefig(_fname, bbox_inches='tight')\n",
    "plt.show()\n"
   ]
  },
  {
   "cell_type": "code",
   "execution_count": null,
   "metadata": {},
   "outputs": [],
   "source": [
    "plt.figure(figsize=(10,10))\n",
    "\n",
    "plt.subplot(111)\n",
    "fin.plot(u, mesh=mesh, lw=5, c='k')\n",
    "fin.plot(w, mesh=mesh, lw=5, c='k', ls='--', alpha=0.5, label='Interpolant')\n",
    "# fin.plot(w, mesh=mesh, lw=10, c='r', ls='-', alpha=0.5)\n",
    "plt.scatter(intervals, gamma_true, marker='^', s=200, c='purple', zorder=10)\n",
    "plt.title(f'Ex. MUD Solution, m={num_samps_ex_sol}', fontsize=1.25*fsize)\n",
    "\n",
    "plt.plot(np.linspace(0,1,input_dim+2),\n",
    "            [0] + list(mud_fun) + [0],\n",
    "            alpha=0.5, c='r', lw=10, label=f'Scalar MUD, Sample {mud_idx}')\n",
    "\n",
    "plt.plot(np.linspace(0,1,input_dim+2),\n",
    "            [0] + list(mud_fun_mult) + [0],\n",
    "            alpha=0.5, c='b', lw=10, label=f'Vector MUD, Sample {mud_idx_mult}')\n",
    "\n",
    "plt.axvline(2/7, alpha=0.4, ls=':')\n",
    "plt.axhline(-lam_true, alpha=0.4, ls=':')\n",
    "plt.ylim(-4,0)\n",
    "plt.xlim(0,1)\n",
    "plt.ylabel('$u(x, \\lambda)$', fontsize=fsize)\n",
    "plt.xlabel('$x_1$', fontsize=fsize)\n",
    "plt.legend(fontsize=fsize*0.6, loc='lower right')\n",
    "\n",
    "# plt.subplot(122)\n",
    "# _data = qoi_true[:num_samps_ex_sol] + noise[:num_samps_ex_sol]\n",
    "# plt.scatter(qoi[mud_idx,:num_samps_ex_sol], _data, c='r', s=100, alpha=0.4, label=f'Scalar MUD, Sample {mud_idx}')\n",
    "# plt.scatter(qoi[mud_idx_mult,:num_samps_ex_sol], _data, c='b', s=100, alpha=0.4, label=f'Vector MUD, Sample {mud_idx_mult}')\n",
    "\n",
    "# _a = np.linspace(min(qoi_true) ,max(qoi_true), 2)\n",
    "# plt.plot(_a,_a, c='k', lw=3)\n",
    "# plt.xlim(-0.5, 0.2)\n",
    "# plt.ylim(-0.5, 0.2)\n",
    "# plt.xlabel('Predicted Data', fontsize=fsize)\n",
    "# plt.ylabel('Collected Data', fontsize=fsize)\n",
    "# plt.title(\"Q-Q Plot\", fontsize=fsize*1.25)\n",
    "# plt.legend()\n",
    "\n",
    "\n",
    "_fname = f\"{prefix}_comp_exmud_D{input_dim}_m{num_samps_ex_sol}.{ftype}\"\n",
    "plt.savefig(_fname, bbox_inches='tight')\n",
    "plt.show()"
   ]
  },
  {
   "cell_type": "code",
   "execution_count": null,
   "metadata": {},
   "outputs": [],
   "source": [
    "print(gamma_true)"
   ]
  },
  {
   "cell_type": "code",
   "execution_count": null,
   "metadata": {},
   "outputs": [],
   "source": [
    "labels = ['Scalar QoI', 'Vector QoI']\n",
    "plot_top = 1000\n",
    "thresh = lam.shape[0]**-1\n",
    "# thresh = 1E-16\n",
    "colors = ['xkcd:red', 'xkcd:black', 'xkcd:orange', 'xkcd:blue', 'xkcd:green']\n",
    "\n",
    "if input_dim == 2:\n",
    "    for _i in range(input_dim):\n",
    "        for _j in range(_i+1, input_dim):\n",
    "            for idx, ratio_eval in enumerate([r_sing, r_mult]):\n",
    "                _m = np.where(ratio_eval/max(ratio_eval) > thresh)[0]\n",
    "#                 plt.scatter(lam[_m[101:5000], _i], lam[_m[101:5000], _j], c='orange', marker='^', alpha=0.2)\n",
    "#                 plt.scatter(lam[_m[plot_top+1:1000], _i], lam[_m[plot_top+1:1000], _j], c='orange', marker='^', alpha=0.2)\n",
    "                plt.scatter(lam[_m[:plot_top], _i], lam[_m[:plot_top], _j], c=colors[idx], label= labels[idx] + ' (Total %d)'%len(_m), s=50)\n",
    "            plt.xlabel(f\"$\\lambda_{_i+1}$\", fontsize=fsize)\n",
    "            plt.ylabel(f\"$\\lambda_{_j+1}$\", fontsize=fsize)\n",
    "            plt.ylim(-4,0)\n",
    "            plt.xlim(-4,0)\n",
    "            plt.scatter(gamma_true[_i], gamma_true[_j], c='k', s=500, alpha=0.5, label='Interpolant', zorder=-10)\n",
    "            plt.scatter(lam[closest_fit_index_out, _i], lam[closest_fit_index_out, _j], c='g', s=500, alpha=0.8, label='Projection', zorder=15)\n",
    "            plt.legend()\n",
    "            plt.title(f\"Samples (m = {num_samps_ex_sol}) with\\nRelative Ratio > {thresh:1.1E}\", fontsize=fsize)\n",
    "\n",
    "else:\n",
    "\n",
    "    fig, axs = plt.subplots(input_dim, input_dim, figsize=(20,20))\n",
    "    for _i in range(input_dim):\n",
    "        for _j in range(_i, input_dim):\n",
    "            if _i != _j:\n",
    "                for idx, ratio_eval in enumerate([r_sing, r_mult]):\n",
    "                    ax = axs[_j][_i] if not idx else axs[_i][_j]\n",
    "                    _m = np.where(ratio_eval/max(ratio_eval) > thresh)[0]\n",
    "                    ax.scatter(lam[_m[:plot_top], _i], lam[_m[:plot_top], _j], c=colors[2+idx], label= str(len(_m)) + ' ' + labels[idx], s=10)\n",
    "\n",
    "\n",
    "    #                 ax.set_xlabel(f\"$\\lambda_{_i+1}$\")\n",
    "    #                 ax.set_ylabel(f\"$\\lambda_{_j+1}$\")\n",
    "                    ax.set_ylim(-4,0)\n",
    "                    ax.set_xlim(-4,0)\n",
    "                    ax.set_xticks([])\n",
    "                    ax.set_yticks([])\n",
    "                    ax.scatter(gamma_true[_i], gamma_true[_j], c='k', s=250, alpha=1, label='Interpolant', zorder=-10)\n",
    "                    ax.scatter(lam[closest_fit_index_out, _i], lam[closest_fit_index_out, _j], c='g', s=400, alpha=0.5, label='Projection', zorder=-10)\n",
    "    #                 ax.legend()\n",
    "            else:\n",
    "                ax = axs[_i][_i]\n",
    "                ax.annotate(f\"$\\lambda_{_i+1}$\", (-0.6,0.5), fontsize=fsize)\n",
    "#                 ax.set_xlabel(f\"$\\lambda_{_i+1}$\", fontsize=fsize)\n",
    "#                 ax.set_ylabel(f\"$\\lambda_{_i+1}$\", fontsize=fsize)\n",
    "\n",
    "                ax.set_xticks([])\n",
    "                ax.set_yticks([])\n",
    "                ax.set_xlim(-1,0)\n",
    "\n",
    "\n",
    "_fname = f\"{prefix}_update_scatter_D{input_dim}_t{thresh:1.1E}\".replace('.', '-') + f\".{ftype}\"\n",
    "plt.savefig(_fname, bbox_inches='tight')\n",
    "plt.show()"
   ]
  },
  {
   "cell_type": "markdown",
   "metadata": {},
   "source": [
    "## Set Up Experiments"
   ]
  },
  {
   "cell_type": "code",
   "execution_count": null,
   "metadata": {},
   "outputs": [],
   "source": [
    "%%time\n",
    "if input_dim == 11: measurements = [60, 80, 100]\n",
    "\n",
    "if not load:\n",
    "    # SCALAR\n",
    "    def mud_wrapper(num_obs, sd):\n",
    "        newqoi = meas_to_qoi(qoi=qoi[:,0:num_obs], data=qoi_true[0:num_obs] + np.random.randn(num_obs)*sd, sd=sd)\n",
    "        r_sing = ratio_dci(newqoi)\n",
    "        return r_sing\n",
    "\n",
    "    experiments_sing, solutions_sing = experiment_measurements_index(num_measurements=measurements,\n",
    "                                         sd=sigma,\n",
    "                                         num_trials=num_trials,\n",
    "                                         seed=21,\n",
    "                                         fun=mud_wrapper)\n",
    "    # VECTOR\n",
    "    def mud_wrapper(num_obs, sd):\n",
    "        qois = split_qoi_by_indices(qoi_indices, qoi_true, qoi,\n",
    "                                    noise=np.random.randn(num_obs)*sd, sigma=sd, first=num_obs)\n",
    "        r_mult = ratio_dci_mult(qois)\n",
    "        return r_mult\n",
    "    \n",
    "    experiments_mult, solutions_mult = experiment_measurements_index(num_measurements=measurements,\n",
    "                                         sd=sigma,\n",
    "                                         num_trials=num_trials,\n",
    "                                         seed=21,\n",
    "                                         fun=mud_wrapper)\n",
    "    \n",
    "    del mud_wrapper"
   ]
  },
  {
   "cell_type": "markdown",
   "metadata": {},
   "source": [
    "---"
   ]
  },
  {
   "cell_type": "markdown",
   "metadata": {},
   "source": [
    "# The Story in Prediction Space"
   ]
  },
  {
   "cell_type": "code",
   "execution_count": null,
   "metadata": {},
   "outputs": [],
   "source": [
    "if num_qoi == 1:\n",
    "    solutions = solutions_sing\n",
    "else:\n",
    "    solutions = solutions_mult"
   ]
  },
  {
   "cell_type": "code",
   "execution_count": null,
   "metadata": {},
   "outputs": [],
   "source": [
    "np.random.seed(21)\n",
    "num_draws = 3\n",
    "for idx in range(num_draws):\n",
    "    i = np.random.randint(0,len(model_list))\n",
    "    mudU = fin.Function(V, model_list[i][i]['u'])\n",
    "    plt.subplot(int(f'{num_draws}{3}{1+3*idx}'))\n",
    "    fin.plot(mudU, vmin=-0.5, vmax=0)\n",
    "    plt.xticks([])\n",
    "    plt.yticks([])\n",
    "    plt.title(f\"Rand#{idx}: {i}\")\n",
    "# plt.show()\n",
    "\n",
    "num_plot_sensors = max(measurements)\n",
    "for idx in range(num_draws):\n",
    "#     _r = np.random.randint(0, num_trials)\n",
    "    _r = idx\n",
    "    i = solutions[num_plot_sensors][_r]\n",
    "    mudU = fin.Function(V, model_list[i][i]['u'])\n",
    "    plt.subplot(int(f'{num_draws}{3}{2+3*idx}'))\n",
    "    fin.plot(mudU, vmin=-0.5, vmax=0)\n",
    "    plt.xticks([])\n",
    "    plt.yticks([])\n",
    "    plt.title(f\"MUD#{idx}: {i}\")\n",
    "\n",
    "    q = qoi[i,:]\n",
    "    plt.subplot(int(f'{num_draws}{3}{3+3*idx}'))\n",
    "    plt.scatter(qoi_true + noise, q, c='b', s=50, alpha=0.05)\n",
    "    plt.plot(_a,_a, c='k', lw=3)\n",
    "#     plt.xlabel('True QoI (Noiseless)')\n",
    "#     plt.ylabel('Predicted Signal')\n",
    "    plt.xticks([])\n",
    "    plt.yticks([])\n",
    "    plt.xlim(-0.5, 0.2)\n",
    "    plt.ylim(-0.5, 0.2)\n",
    "    plt.title(f\"MUD#{idx}: {i}\")\n",
    "\n",
    "plt.show()\n",
    "\n",
    "# p = poisson(3.0)\n",
    "# fin.plot(p, mesh=mesh, vmin=-0.5, vmax=0)\n",
    "# plt.title(\"True (Noiseless) Repsonse Surface\")\n",
    "# plt.show()"
   ]
  },
  {
   "cell_type": "markdown",
   "metadata": {},
   "source": [
    "# The Story in Parameter Space"
   ]
  },
  {
   "cell_type": "code",
   "execution_count": null,
   "metadata": {},
   "outputs": [],
   "source": [
    "from matplotlib import cm"
   ]
  },
  {
   "cell_type": "code",
   "execution_count": null,
   "metadata": {},
   "outputs": [],
   "source": [
    "plt.figure(figsize=(10,10))\n",
    "\n",
    "fin.plot(u, mesh=mesh, lw=5, c='k', label=\"$g$\")\n",
    "fin.plot(w, mesh=mesh, lw=5, c='k', ls='--', alpha=0.5, zorder=0)\n",
    "fin.plot(w, mesh=mesh, lw=10, c='r', ls='-', alpha=0.5, label=\"$\\hat{g}$\", zorder=5)\n",
    "plt.scatter(intervals, gamma_true, marker='^', s=200, c='purple', zorder=10)\n",
    "# plt.plot([0]+intervals+[1], [0]+projected_line+[0], lw=5, c='green', alpha=1, label=\"$Proj_{g}$\")\n",
    "\n",
    "\n",
    "for i in range(100):\n",
    "    gt = lam[i,:]\n",
    "    plt.plot([0]+intervals+[1], [0]+list(gt)+[0], lw=1, c='purple', alpha=0.2)\n",
    "plt.title('Samples from Initial Density', fontsize=1.25*fsize)\n",
    "plt.xlabel(\"$x_1$\", fontsize=fsize)\n",
    "plt.ylabel(\"$g(x, \\lambda)$\", fontsize=fsize)\n",
    "\n",
    "\n",
    "\n",
    "\n",
    "# plt.axvline(2/7, alpha=0.4, ls=':')\n",
    "# plt.axhline(-lam_true, alpha=0.4, ls=':')\n",
    "plt.ylim(-4,0)\n",
    "plt.xlim(0,1)\n",
    "plt.legend()\n",
    "\n",
    "_fname = f\"{prefix}_init_D{input_dim}.{ftype}\"\n",
    "plt.savefig(_fname, bbox_inches='tight')\n",
    "plt.show()"
   ]
  },
  {
   "cell_type": "code",
   "execution_count": null,
   "metadata": {},
   "outputs": [],
   "source": [
    "fin.plot(w, mesh=mesh, lw=5, c='k')\n",
    "colors = cm.viridis(np.linspace(0,1,len(solutions)))\n",
    "for i, ns in enumerate(solutions):\n",
    "    for gt in solutions[ns]:\n",
    "        plt.plot([0]+intervals+[1], [0]+list(lam[gt,:])+[0], lw=1, c=colors[i], alpha=0.2)\n",
    "plt.title('All MUD Solutions: Piecewise-Linear Approximation of $g$')\n",
    "plt.ylim(-4, 0)\n",
    "plt.xlim(0, 1)\n",
    "gt = list(lam[closest_fit_index_out, :])\n",
    "plt.plot([0]+intervals+[1], [0]+gt+[0], lw=5, c='green', alpha=0.2, ls='--', label=f'Closest in Output: {closest_fit_index_out}', zorder=-10)\n",
    "plt.show()"
   ]
  },
  {
   "cell_type": "code",
   "execution_count": null,
   "metadata": {},
   "outputs": [],
   "source": [
    "for num_plot_sensors in [20, 100]:\n",
    "    plt.figure(figsize=(10,10))\n",
    "    \n",
    "    plt.subplot(111)\n",
    "    plt.title('MUD Parameters for $Q_{1D}$,' + f' S={num_plot_sensors}', fontsize=1.25*fsize)\n",
    "    plt.xlabel(\"$x_1$\", fontsize=fsize)\n",
    "    plt.ylabel(\"$g(x, \\lambda)$\", fontsize=fsize)\n",
    "    plt.plot([0]+intervals+[1], [0]+ [w(i) for i in intervals] +[0], lw=5, c='k', label=\"Interpolant\")\n",
    "    for i in solutions_sing[num_plot_sensors]: # trials\n",
    "        gt = lam[i,:]\n",
    "        plt.plot([0]+intervals+[1], [0]+list(gt)+[0], lw=1, c='purple', alpha=0.2)\n",
    "    gt = list(lam[closest_fit_index_out, :])\n",
    "    plt.plot([0]+intervals+[1], [0]+gt+[0], lw=5, c='green', alpha=0.6, ls='--', label=f'Closest in Output: {closest_fit_index_out}')\n",
    "    plt.ylim(-4, 0)\n",
    "    plt.xlim(0, 1)\n",
    "    plt.legend()\n",
    "#     plt.subplot(122)\n",
    "#     plt.title('Q-Q Plot', fontsize=1.25*fsize)\n",
    "#     for i in solutions_sing[num_plot_sensors]: # trials\n",
    "#         q = qoi[i,:]\n",
    "#         plt.scatter(q[:num_plot_sensors], qoi_true[:num_plot_sensors] + noise[:num_plot_sensors],\n",
    "#                     c='b', s=100, alpha=1.0/num_trials)\n",
    "#         plt.plot(_a,_a, c='k', lw=3)\n",
    "#         plt.ylabel('Collected Data', fontsize=fsize)\n",
    "#         plt.xlabel('Predicted Data', fontsize=fsize)\n",
    "#         plt.ylim(-0.5, 0.15)\n",
    "#         plt.xlim(-0.5, 0.15)\n",
    "#         plt.title(f'Solution {_r}, Index {_s}')\n",
    "    _fname = f\"{prefix}_pair_D{input_dim}-1_m{num_plot_sensors}.{ftype}\"\n",
    "    plt.savefig(_fname, bbox_inches='tight')\n",
    "    plt.show()"
   ]
  },
  {
   "cell_type": "code",
   "execution_count": null,
   "metadata": {},
   "outputs": [],
   "source": [
    "for num_plot_sensors in [20, 100]:\n",
    "    plt.figure(figsize=(10,10))\n",
    "    \n",
    "    plt.subplot(111)\n",
    "    plt.title('MUD Parameters for $Q_{5D}$,' + f' S={num_plot_sensors}', fontsize=1.25*fsize)\n",
    "    plt.xlabel(\"$x_1$\", fontsize=fsize)\n",
    "    plt.ylabel(\"$g(x, \\lambda)$\", fontsize=fsize)\n",
    "    plt.plot([0]+intervals+[1], [0]+ [w(i) for i in intervals] +[0], lw=5, c='k',label=\"Interpolant\")\n",
    "    for i in solutions_mult[num_plot_sensors]: # trials\n",
    "        gt = lam[i,:]\n",
    "        plt.plot([0]+intervals+[1], [0]+list(gt)+[0], lw=1, c='purple', alpha=0.2)\n",
    "    gt = list(lam[closest_fit_index_out, :])\n",
    "    plt.plot([0]+intervals+[1], [0]+gt+[0], lw=5, c='green', alpha=0.6, ls='--', label=f'Closest in Output: {closest_fit_index_out}')\n",
    "    plt.ylim(-4, 0)\n",
    "    plt.xlim(0, 1)\n",
    "    plt.legend()\n",
    "#     plt.subplot(122)\n",
    "#     plt.title('Q-Q Plot', fontsize=1.25*fsize)\n",
    "#     for i in solutions_mult[num_plot_sensors]: # trials\n",
    "#         q = qoi[i,:]\n",
    "#         plt.scatter(q[:num_plot_sensors], qoi_true[:num_plot_sensors] + noise[:num_plot_sensors],\n",
    "#                     c='b', s=100, alpha=1.0/num_trials)\n",
    "#         plt.plot(_a,_a, c='k', lw=3)\n",
    "#         plt.ylabel('Collected Data', fontsize=fsize)\n",
    "#         plt.xlabel('Predicted Data', fontsize=fsize)\n",
    "#         plt.ylim(-0.5, 0.15)\n",
    "#         plt.xlim(-0.5, 0.15)\n",
    "#     plt.title(f'Solution {_r}, Index {_s}')\n",
    "    _fname = f\"{prefix}_pair_D{input_dim}-{num_qoi}_m{num_plot_sensors}.{ftype}\"\n",
    "    plt.savefig(_fname, bbox_inches='tight')\n",
    "    plt.show()"
   ]
  },
  {
   "cell_type": "code",
   "execution_count": null,
   "metadata": {},
   "outputs": [],
   "source": [
    "if not load:\n",
    "    print(\"Saving\")\n",
    "    fname = f'{prefix}_summary_{input_dim}.pkl'\n",
    "    pickle.dump({'sets': (lam, qoi), 'sols': (solutions_sing, solutions_mult), 'meas': measurements, 'noise': (noise, tolerance), 'stdv': sigma, 'true': (gamma_true, qoi_true), 'sens': sensors }, open(fname, 'wb'))"
   ]
  },
  {
   "cell_type": "markdown",
   "metadata": {},
   "source": [
    "---"
   ]
  },
  {
   "cell_type": "markdown",
   "metadata": {},
   "source": [
    "# Figure: Response Surface + Sensors"
   ]
  },
  {
   "cell_type": "markdown",
   "metadata": {},
   "source": [
    "---"
   ]
  },
  {
   "cell_type": "markdown",
   "metadata": {},
   "source": [
    "# Basis Testing\n",
    "\n",
    "How well is our prior able to express functions in the target space?"
   ]
  },
  {
   "cell_type": "code",
   "execution_count": null,
   "metadata": {},
   "outputs": [],
   "source": [
    "assert 1 == 0"
   ]
  },
  {
   "cell_type": "markdown",
   "metadata": {},
   "source": [
    "# Getting $L^2$ Errors"
   ]
  },
  {
   "cell_type": "code",
   "execution_count": null,
   "metadata": {},
   "outputs": [],
   "source": [
    "n = 1000\n",
    "for i in range(20, n, 10):\n",
    "    plt.scatter(i,expressionNorm(u,w,i), c='k')\n",
    "plt.yscale('log')\n",
    "plt.xscale('log')\n",
    "plt.xlabel(\"Discretization of Metric\")\n",
    "plt.Axes.set_aspect(plt.gca(), 1)\n",
    "plt.show()"
   ]
  },
  {
   "cell_type": "markdown",
   "metadata": {},
   "source": [
    "### $\\ell^2$ errors and $L^2$ errors"
   ]
  },
  {
   "cell_type": "code",
   "execution_count": null,
   "metadata": {},
   "outputs": [],
   "source": [
    "%%time\n",
    "random_signals = [ fin.Expression(pcwGFun(randomsamples[:,r], d=0), degree=2) for r in range(nk) ]"
   ]
  },
  {
   "cell_type": "code",
   "execution_count": null,
   "metadata": {},
   "outputs": [],
   "source": [
    "%%time\n",
    "ell_2_error_initial = [ expressionNorm(u,r,100) for r in random_signals]"
   ]
  },
  {
   "cell_type": "code",
   "execution_count": null,
   "metadata": {},
   "outputs": [],
   "source": [
    "%%time\n",
    "error_initial = [np.linalg.norm(randomsamples[:,r] - gamma_true)/input_dim for r in range(nk) ]"
   ]
  },
  {
   "cell_type": "code",
   "execution_count": null,
   "metadata": {},
   "outputs": [],
   "source": [
    "min_r = randomsamples[:, np.argmin(ell_2_error_initial)] "
   ]
  },
  {
   "cell_type": "code",
   "execution_count": null,
   "metadata": {},
   "outputs": [],
   "source": [
    "plt.hist(np.array(ell_2_error_initial), bins=20, label='$L^2$', density=True)\n",
    "plt.hist(error_initial, bins=20, alpha=0.4, label='$\\ell^2$', density=True)\n",
    "plt.title(\"Error for Initial Functions\")\n",
    "plt.legend()\n",
    "plt.show()"
   ]
  },
  {
   "cell_type": "code",
   "execution_count": null,
   "metadata": {},
   "outputs": [],
   "source": [
    "min(error_initial), min(ell_2_error_initial)"
   ]
  },
  {
   "cell_type": "code",
   "execution_count": null,
   "metadata": {},
   "outputs": [],
   "source": [
    "plt.scatter(error_initial, ell_2_error_initial)\n",
    "plt.title(\"Metrics closely correlated despite\\nradically different computational complexities\")\n",
    "plt.ylabel('$L^2$')\n",
    "plt.xlabel('$\\ell^2$')\n",
    "plt.show()"
   ]
  },
  {
   "cell_type": "code",
   "execution_count": null,
   "metadata": {},
   "outputs": [],
   "source": [
    "from scipy.stats import distributions as ds"
   ]
  },
  {
   "cell_type": "code",
   "execution_count": null,
   "metadata": {},
   "outputs": [],
   "source": [
    "plt.hist(ds.invgauss.rvs(mu=1, size=(nk,)))"
   ]
  },
  {
   "cell_type": "code",
   "execution_count": null,
   "metadata": {},
   "outputs": [],
   "source": []
  },
  {
   "cell_type": "code",
   "execution_count": null,
   "metadata": {},
   "outputs": [],
   "source": [
    "%%time\n",
    "nk = int(1E4)\n",
    "# randomsamples = np.vstack([np.random.randn(nk) for _ in range(input_dim)])\n",
    "# randomsamples = np.vstack([-ds.invgauss.rvs(mu=1, size=(nk,)) for _ in range(input_dim)])\n",
    "randomsamples = np.vstack([ds.uniform.rvs(loc=-4, scale=4, size=(nk,)) for _ in range(input_dim)])\n",
    "\n",
    "\n",
    "error_initial = [np.linalg.norm(randomsamples[:,r] - gamma_true)/input_dim for r in range(nk) ]\n",
    "min_r = randomsamples[:, np.argmin(error_initial)]\n",
    "plt.plot(np.linspace(0,1,input_dim+2)[1:-1],\n",
    "            min_r,\n",
    "            alpha=1, c='k')\n",
    "plt.xlim(0,1)\n",
    "plt.ylim(-4,0)\n",
    "plt.scatter(intervals, gamma_true, marker='^', s=200, c='purple', zorder=10)\n",
    "plt.show()"
   ]
  },
  {
   "cell_type": "code",
   "execution_count": null,
   "metadata": {},
   "outputs": [],
   "source": [
    "a = np.argsort(error_initial)"
   ]
  },
  {
   "cell_type": "code",
   "execution_count": null,
   "metadata": {},
   "outputs": [],
   "source": [
    "ns = 100\n",
    "for i in range(ns):\n",
    "    min_r = randomsamples[:, a[i]]\n",
    "    plt.plot(np.linspace(0,1,input_dim+2)[1:-1], min_r,\n",
    "                alpha=10/ns, c='k')\n",
    "plt.scatter(intervals, gamma_true, marker='^', s=200, c='purple', zorder=10)\n",
    "plt.show()"
   ]
  },
  {
   "cell_type": "markdown",
   "metadata": {},
   "source": [
    "---"
   ]
  },
  {
   "cell_type": "code",
   "execution_count": null,
   "metadata": {},
   "outputs": [],
   "source": [
    "fname = f'{prefix}_summary_{input_dim}.pkl'\n",
    "print(fname)\n",
    "results = pickle.load(open(fname, 'rb'))\n",
    "solutions = results['sols']\n",
    "measurements = results['meas']\n",
    "sigma = results['noise']\n",
    "lam, qoi = results['sets']\n",
    "gamma_true, qoi_true = results['true']"
   ]
  },
  {
   "cell_type": "code",
   "execution_count": null,
   "metadata": {},
   "outputs": [],
   "source": [
    "%%time\n",
    "means_in, variances_in = extract_statistics_index(lam, solutions, gamma_true)\n",
    "means_out, variances_out = extract_statistics_index(qoi, solutions, qoi_true)"
   ]
  },
  {
   "cell_type": "code",
   "execution_count": null,
   "metadata": {},
   "outputs": [],
   "source": [
    "regression_mean, slope_mean = log_linear_regression(measurements, means_out)\n",
    "regression_vars, slope_vars = log_linear_regression(measurements, variances_out)"
   ]
  },
  {
   "cell_type": "markdown",
   "metadata": {},
   "source": [
    "## Output Error"
   ]
  },
  {
   "cell_type": "code",
   "execution_count": null,
   "metadata": {},
   "outputs": [],
   "source": [
    "_prefix = prefix\n",
    "linewidth=5\n",
    "means = means_out\n",
    "variances = variances_out\n",
    "test = True"
   ]
  },
  {
   "cell_type": "code",
   "execution_count": null,
   "metadata": {},
   "outputs": [],
   "source": [
    "xlabel = 'Number of Measurements'\n",
    "plt.plot(measurements, regression_mean, label=f\"{_prefix:10s}slope: {slope_mean:1.4f}\", lw=linewidth)\n",
    "plt.scatter(measurements, means, marker='x', lw=20)\n",
    "plt.xscale('log')\n",
    "plt.yscale('log')\n",
    "plt.Axes.set_aspect(plt.gca(), 1)\n",
    "plt.ylim(0.9*min(means), 1.3*max(means))\n",
    "plt.xlabel(xlabel, fontsize=fsize)\n",
    "plt.legend()\n",
    "# plt.ylabel('$\\\\frac{1}{m}||Q(\\lambda^\\dagger) - Q(\\lambda^{MUD}||$', fontsize=fsize)\n",
    "plt.title(f\"RMS Error (Mean)\", fontsize=1.25*fsize)\n",
    "plt.ylabel('$\\\\frac{1}{m}||Q(\\lambda^\\dagger) - Q(\\lambda^{MUD})||$', fontsize=fsize)\n",
    "if not test: plt.savefig(f'{prefix}_convergence_mud_obs_mean.pdf', bbox_inches='tight')\n",
    "plt.show()"
   ]
  },
  {
   "cell_type": "code",
   "execution_count": null,
   "metadata": {},
   "outputs": [],
   "source": [
    "plt.figure(figsize=(10,10))\n",
    "# regression_mean, slope_mean, regression_vars, slope_vars, means, variances = _rm\n",
    "plt.plot(measurements, regression_vars, label=f\"{_prefix:10s}slope: {slope_vars:1.4f}\", lw=linewidth)\n",
    "plt.scatter(measurements, variances, marker='x', lw=20)\n",
    "plt.xscale('log')\n",
    "plt.yscale('log')\n",
    "plt.Axes.set_aspect(plt.gca(), 1)\n",
    "plt.ylim(0.9*min(variances), 1.3*max(variances))\n",
    "plt.xlabel(xlabel, fontsize=fsize)\n",
    "plt.legend()\n",
    "plt.ylabel('$\\\\frac{1}{m}||Q(\\lambda^\\dagger) - Q(\\lambda^{MUD})||$', fontsize=fsize)\n",
    "plt.title(f\"RMS Error (Variance)\", fontsize=1.25*fsize)\n",
    "if not test: plt.savefig(f'{prefix}_convergence_mud_obs_var.pdf', bbox_inches='tight')\n",
    "plt.show()"
   ]
  },
  {
   "cell_type": "markdown",
   "metadata": {},
   "source": [
    "## Input Error"
   ]
  },
  {
   "cell_type": "code",
   "execution_count": null,
   "metadata": {},
   "outputs": [],
   "source": [
    "_prefix = prefix\n",
    "linewidth=5\n",
    "means = means_in\n",
    "variances = variances_in\n",
    "test = True\n",
    "regression_mean, slope_mean = log_linear_regression(measurements, means_in)\n",
    "regression_vars, slope_vars = log_linear_regression(measurements, variances_in)"
   ]
  },
  {
   "cell_type": "code",
   "execution_count": null,
   "metadata": {},
   "outputs": [],
   "source": [
    "xlabel = 'Number of Measurements'\n",
    "plt.plot(measurements, regression_mean, label=f\"{_prefix:10s}slope: {slope_mean:1.4f}\", lw=linewidth)\n",
    "plt.scatter(measurements, means, marker='x', lw=20)\n",
    "plt.xscale('log')\n",
    "plt.yscale('log')\n",
    "plt.Axes.set_aspect(plt.gca(), 1)\n",
    "plt.ylim(0.9*min(means), 1.3*max(means))\n",
    "plt.xlabel(xlabel, fontsize=fsize)\n",
    "plt.legend()\n",
    "# plt.ylabel('$\\\\frac{1}{m}||Q(\\lambda^\\dagger) - Q(\\lambda^{MUD}||$', fontsize=fsize)\n",
    "plt.title(f\"RMS Error (Mean)\", fontsize=1.25*fsize)\n",
    "plt.ylabel('$\\\\frac{1}{p}||\\lambda^\\dagger - \\lambda^{MUD}||$', fontsize=fsize)\n",
    "if not test: plt.savefig(f'{prefix}_convergence_mud_obs_mean.pdf', bbox_inches='tight')\n",
    "plt.show()\n",
    "\n",
    "plt.figure(figsize=(10,10))\n",
    "# regression_mean, slope_mean, regression_vars, slope_vars, means, variances = _rm\n",
    "plt.plot(measurements, regression_vars, label=f\"{_prefix:10s}slope: {slope_vars:1.4f}\", lw=linewidth)\n",
    "plt.scatter(measurements, variances, marker='x', lw=20)\n",
    "plt.xscale('log')\n",
    "plt.yscale('log')\n",
    "plt.Axes.set_aspect(plt.gca(), 1)\n",
    "plt.ylim(0.9*min(variances), 1.3*max(variances))\n",
    "plt.xlabel(xlabel, fontsize=fsize)\n",
    "plt.legend()\n",
    "plt.ylabel('$\\\\frac{1}{p}||\\lambda^\\dagger - \\lambda^{MUD}||$', fontsize=fsize)\n",
    "plt.title(f\"RMS Error (Variance)\", fontsize=1.25*fsize)\n",
    "if not test: plt.savefig(f'{prefix}_convergence_mud_obs_var.pdf', bbox_inches='tight')\n",
    "plt.show()"
   ]
  },
  {
   "cell_type": "markdown",
   "metadata": {},
   "source": [
    "---\n",
    "## Tolerances (Not of Interest)"
   ]
  },
  {
   "cell_type": "code",
   "execution_count": null,
   "metadata": {},
   "outputs": [],
   "source": [
    "# ##########\n",
    "\n",
    "# num_sensors = min(100, num_measure)\n",
    "\n",
    "# sd_means, sd_vars = experiment_equipment(num_trials=num_trials,\n",
    "#                                       num_measure=num_sensors,\n",
    "#                                       sd_vals=sd_vals,\n",
    "#                                       reference_value=lam_true,\n",
    "#                                       fun=mud_wrapper)\n",
    "# #\n",
    "# regression_err_mean, slope_err_mean = log_linear_regression(tolerances, sd_means)\n",
    "# regression_err_vars, slope_err_vars = log_linear_regression(tolerances, sd_vars)\n",
    "\n",
    "# _in = (lam, qoi, sensors, qoi_true, experiments, solutions)\n",
    "# _rm = (regression_mean, slope_mean, regression_vars, slope_vars, means, variances)\n",
    "# _re = (regression_err_mean, slope_err_mean, regression_err_vars, slope_err_vars, sd_means, sd_vars, num_sensors)"
   ]
  },
  {
   "cell_type": "code",
   "execution_count": null,
   "metadata": {},
   "outputs": [],
   "source": [
    "# from mud_problem import main_pde"
   ]
  },
  {
   "cell_type": "code",
   "execution_count": null,
   "metadata": {},
   "outputs": [],
   "source": [
    "# model_list = l"
   ]
  },
  {
   "cell_type": "code",
   "execution_count": null,
   "metadata": {},
   "outputs": [],
   "source": [
    "# res = main_pde(model_list, num_trials=5,\n",
    "#              fsize=32,\n",
    "#              seed=21,\n",
    "#              lam_true=3.0,\n",
    "#              domain=domain,\n",
    "#              tolerances=tolerances,\n",
    "#              measurements=num_measurements)"
   ]
  }
 ],
 "metadata": {
  "kernelspec": {
   "display_name": "Python 3",
   "language": "python",
   "name": "python3"
  },
  "language_info": {
   "codemirror_mode": {
    "name": "ipython",
    "version": 3
   },
   "file_extension": ".py",
   "mimetype": "text/x-python",
   "name": "python",
   "nbconvert_exporter": "python",
   "pygments_lexer": "ipython3",
   "version": "3.7.8"
  },
  "latex_envs": {
   "LaTeX_envs_menu_present": true,
   "autoclose": false,
   "autocomplete": true,
   "bibliofile": "biblio.bib",
   "cite_by": "apalike",
   "current_citInitial": 1,
   "eqLabelWithNumbers": true,
   "eqNumInitial": 1,
   "hotkeys": {
    "equation": "Ctrl-E",
    "itemize": "Ctrl-I"
   },
   "labels_anchors": false,
   "latex_user_defs": false,
   "report_style_numbering": false,
   "user_envs_cfg": false
  },
  "toc": {
   "base_numbering": 1,
   "nav_menu": {},
   "number_sections": true,
   "sideBar": true,
   "skip_h1_title": false,
   "title_cell": "Table of Contents",
   "title_sidebar": "Contents",
   "toc_cell": false,
   "toc_position": {},
   "toc_section_display": true,
   "toc_window_display": false
  },
  "varInspector": {
   "cols": {
    "lenName": 16,
    "lenType": 16,
    "lenVar": 40
   },
   "kernels_config": {
    "python": {
     "delete_cmd_postfix": "",
     "delete_cmd_prefix": "del ",
     "library": "var_list.py",
     "varRefreshCmd": "print(var_dic_list())"
    },
    "r": {
     "delete_cmd_postfix": ") ",
     "delete_cmd_prefix": "rm(",
     "library": "var_list.r",
     "varRefreshCmd": "cat(var_dic_list()) "
    }
   },
   "types_to_exclude": [
    "module",
    "function",
    "builtin_function_or_method",
    "instance",
    "_Feature"
   ],
   "window_display": false
  }
 },
 "nbformat": 4,
 "nbformat_minor": 4
}
