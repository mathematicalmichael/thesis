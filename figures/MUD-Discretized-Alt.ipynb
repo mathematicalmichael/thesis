{
 "cells": [
  {
   "cell_type": "markdown",
   "metadata": {},
   "source": [
    "<center><h1> PDE: Higher Dimensional Sequential"
   ]
  },
  {
   "cell_type": "code",
   "execution_count": 1,
   "metadata": {
    "ExecuteTime": {
     "end_time": "2020-06-15T13:50:21.381727Z",
     "start_time": "2020-06-15T13:50:19.992980Z"
    }
   },
   "outputs": [],
   "source": [
    "import numpy as np\n",
    "import matplotlib.pyplot as plt\n",
    "from scipy.stats import distributions as dist\n",
    "import dolfin as fin"
   ]
  },
  {
   "cell_type": "code",
   "execution_count": 2,
   "metadata": {
    "ExecuteTime": {
     "end_time": "2020-06-15T13:50:22.090091Z",
     "start_time": "2020-06-15T13:50:22.084166Z"
    }
   },
   "outputs": [],
   "source": [
    "from mud.plot import make_2d_unit_mesh\n",
    "from mud.util import std_from_equipment"
   ]
  },
  {
   "cell_type": "code",
   "execution_count": 3,
   "metadata": {
    "ExecuteTime": {
     "end_time": "2020-06-15T13:50:22.443237Z",
     "start_time": "2020-06-15T13:50:22.377896Z"
    }
   },
   "outputs": [],
   "source": [
    "from experiments import mud_problem\n",
    "from plotting import log_linear_regression, plot_experiment_measurements"
   ]
  },
  {
   "cell_type": "code",
   "execution_count": 4,
   "metadata": {
    "ExecuteTime": {
     "end_time": "2020-06-15T13:50:22.521607Z",
     "start_time": "2020-06-15T13:50:22.518150Z"
    }
   },
   "outputs": [],
   "source": [
    "from newpoisson import poisson, poisson_sensor_model\n",
    "import pickle"
   ]
  },
  {
   "cell_type": "code",
   "execution_count": 5,
   "metadata": {
    "ExecuteTime": {
     "end_time": "2020-06-15T13:50:22.744590Z",
     "start_time": "2020-06-15T13:50:22.740728Z"
    }
   },
   "outputs": [],
   "source": [
    "from mud_problem import generate_sensors_pde, load_poisson"
   ]
  },
  {
   "cell_type": "code",
   "execution_count": 6,
   "metadata": {},
   "outputs": [],
   "source": [
    "from experiments import experiment_measurements_index, extract_statistics_index\n",
    "from plotting import log_linear_regression, plot_experiment_measurements"
   ]
  },
  {
   "cell_type": "markdown",
   "metadata": {},
   "source": [
    "### Debugging: Implementation of Data-Driven Map"
   ]
  },
  {
   "cell_type": "code",
   "execution_count": 7,
   "metadata": {
    "ExecuteTime": {
     "end_time": "2020-06-15T13:50:24.379421Z",
     "start_time": "2020-06-15T13:50:24.374290Z"
    }
   },
   "outputs": [],
   "source": [
    "from scipy.stats import gaussian_kde as gkde"
   ]
  },
  {
   "cell_type": "code",
   "execution_count": 8,
   "metadata": {
    "ExecuteTime": {
     "end_time": "2020-06-15T13:50:24.502444Z",
     "start_time": "2020-06-15T13:50:24.498711Z"
    }
   },
   "outputs": [],
   "source": [
    "def ratio_dci(qoi):\n",
    "    kde = gkde(qoi)\n",
    "    ratio_eval = dist.norm.pdf(qoi)/kde.pdf(qoi)\n",
    "    return ratio_eval"
   ]
  },
  {
   "cell_type": "code",
   "execution_count": 9,
   "metadata": {
    "ExecuteTime": {
     "end_time": "2020-06-15T13:50:25.149472Z",
     "start_time": "2020-06-15T13:50:25.135293Z"
    }
   },
   "outputs": [],
   "source": [
    "def meas_to_qoi(qoi, data, sd):\n",
    "    if qoi.ndim == 1: qoi = qoi.reshape(1,-1)\n",
    "    num_evals = qoi.shape[0]\n",
    "    assert qoi.shape[1] == len(data)\n",
    "    residuals = np.subtract(qoi, data)\n",
    "    weighted_residuals = np.divide(residuals, sd)\n",
    "    assert weighted_residuals.shape[0] == num_evals\n",
    "    weighted_sum = np.sum(weighted_residuals, axis=1)\n",
    "    return weighted_sum/np.sqrt(len(data))"
   ]
  },
  {
   "cell_type": "code",
   "execution_count": 10,
   "metadata": {
    "ExecuteTime": {
     "end_time": "2020-06-15T13:50:25.358568Z",
     "start_time": "2020-06-15T13:50:25.338810Z"
    }
   },
   "outputs": [],
   "source": [
    "def band_qoi(sensors, num_qoi=1, axis=1):\n",
    "    intervals = np.linspace(0, 1, num_qoi+2)[1:-1]\n",
    "    _intervals = np.array(intervals[1:]) + ( np.array(intervals[:-1]) - np.array(intervals[1:]) ) / 2\n",
    "    _intervals = [0] + list(_intervals) + [1]\n",
    "    qoi_indices = [np.where(np.logical_and(sensors[:, axis] > _intervals[i],\n",
    "                                           sensors[:, axis] < _intervals[i+1]))[0] for i in range(num_qoi) ]\n",
    "    return qoi_indices\n",
    "\n",
    "\n",
    "def split_qoi_by_indices(qoi_indices, qoi_true, qoi, noise, sigma, first=None):\n",
    "    qois = []\n",
    "    if first is None: first = qoi.shape[1]\n",
    "    for i in range(0, len(qoi_indices)):\n",
    "        q = qoi_indices[i][qoi_indices[i] < first]\n",
    "    #     q = qoi_indices[i]\n",
    "        \n",
    "        _qoi = qoi[:, q]\n",
    "        _noise = noise[q]\n",
    "        _data = np.array(qoi_true)[q] + _noise\n",
    "\n",
    "        _newqoi = meas_to_qoi(_qoi, _data , sigma)\n",
    "        qois.append(_newqoi)\n",
    "    return qois\n",
    "\n",
    "\n",
    "def ratio_dci_mult(qois):\n",
    "    nq = np.array(qois)\n",
    "    kde = gkde(nq)\n",
    "    obs = dist.norm.pdf(nq)\n",
    "    obs_eval = np.product(obs, axis=0)\n",
    "    ratio_eval = np.divide(obs_eval, kde.pdf(nq))\n",
    "    return ratio_eval"
   ]
  },
  {
   "cell_type": "markdown",
   "metadata": {},
   "source": [
    "# Settings"
   ]
  },
  {
   "cell_type": "code",
   "execution_count": 11,
   "metadata": {
    "ExecuteTime": {
     "end_time": "2020-06-15T13:50:27.258418Z",
     "start_time": "2020-06-15T13:50:27.254811Z"
    }
   },
   "outputs": [],
   "source": [
    "from newpoisson import pcwExpr, pcwGFun"
   ]
  },
  {
   "cell_type": "code",
   "execution_count": 16,
   "metadata": {
    "ExecuteTime": {
     "end_time": "2020-06-15T13:50:27.435591Z",
     "start_time": "2020-06-15T13:50:27.426532Z"
    }
   },
   "outputs": [],
   "source": [
    "prefix      = f'pde-highd/pde-highd'\n",
    "num_measure = 1000 # number of measurement (sensor) locations\n",
    "fsize       = 32\n",
    "num_trials  = 20   # realizations of synthetic data for numerical runs\n",
    "tolerance   = 0.1 # precision of measurement equipment\n",
    "sigma       = std_from_equipment(tolerance=tolerance, probability=0.99)\n",
    "np.random.seed(21)\n",
    "lam_true    = 3.0\n",
    "input_dim   = 1\n",
    "ftype       = 'png'"
   ]
  },
  {
   "cell_type": "code",
   "execution_count": 24,
   "metadata": {
    "ExecuteTime": {
     "end_time": "2020-06-15T13:50:27.435591Z",
     "start_time": "2020-06-15T13:50:27.426532Z"
    }
   },
   "outputs": [
    {
     "name": "stdout",
     "output_type": "stream",
     "text": [
      "Will run simulations for [20, 40, 60, 80, 100]\n"
     ]
    }
   ],
   "source": [
    "load = False\n",
    "measurements = [20, 40, 60, 80, 100]\n",
    "# tolerances = [1E-1, 1E-2, 1E-3]\n",
    "print(f\"Will run simulations for {measurements}\")"
   ]
  },
  {
   "cell_type": "code",
   "execution_count": 18,
   "metadata": {
    "ExecuteTime": {
     "end_time": "2020-06-15T13:50:28.172231Z",
     "start_time": "2020-06-15T13:50:28.153832Z"
    }
   },
   "outputs": [],
   "source": [
    "u = fin.Expression(\"-gamma*sin((2*kappa+1)*pi*x[0])\", gamma=3.0, kappa=0.0, degree=3)\n",
    "u = fin.Expression(f\"pow(x[0], 2) * pow(x[0] - 1, 5) * gamma\", gamma=lam_true*823543/12500, degree=3)\n",
    "mesh = fin.UnitIntervalMesh(100)\n",
    "\n",
    "def getVals(u,n):\n",
    "    dx=1/(n+1)\n",
    "    invals = [i*dx for i in range(n+2)]\n",
    "    outvals = [u(i) for i in invals][1:-1]\n",
    "    return invals[1:-1], outvals\n",
    "\n",
    "def expressionNorm(u,v,n=100):\n",
    "    u = getVals(u, n)[1] \n",
    "    v = getVals(v, n)[1]\n",
    "    return np.linalg.norm(np.array(u) - np.array(v))/n"
   ]
  },
  {
   "cell_type": "code",
   "execution_count": 20,
   "metadata": {},
   "outputs": [],
   "source": [
    "import glob"
   ]
  },
  {
   "cell_type": "code",
   "execution_count": 33,
   "metadata": {},
   "outputs": [],
   "source": [
    "model_list = glob.glob(f'res{input_dim}u-data/*.xml')"
   ]
  },
  {
   "cell_type": "markdown",
   "metadata": {},
   "source": [
    "# Define Sensors"
   ]
  },
  {
   "cell_type": "code",
   "execution_count": 25,
   "metadata": {
    "ExecuteTime": {
     "end_time": "2020-06-15T13:50:57.835643Z",
     "start_time": "2020-06-15T13:50:57.830101Z"
    }
   },
   "outputs": [],
   "source": [
    "sensors = generate_sensors_pde(num_measure)"
   ]
  },
  {
   "cell_type": "code",
   "execution_count": 26,
   "metadata": {
    "ExecuteTime": {
     "end_time": "2020-06-15T13:50:57.835643Z",
     "start_time": "2020-06-15T13:50:57.830101Z"
    }
   },
   "outputs": [],
   "source": [
    "qoi_true = poisson_sensor_model(sensors, gamma=lam_true, nx=36, ny=36)\n",
    "noise = sigma*np.random.randn(num_measure)"
   ]
  },
  {
   "cell_type": "markdown",
   "metadata": {},
   "source": [
    "### Visualize"
   ]
  },
  {
   "cell_type": "code",
   "execution_count": 27,
   "metadata": {},
   "outputs": [],
   "source": [
    "p = poisson(gamma=lam_true, nx=36, ny=36)\n",
    "V = p.function_space()"
   ]
  },
  {
   "cell_type": "code",
   "execution_count": 28,
   "metadata": {},
   "outputs": [],
   "source": [
    "svals = [p(xi,yi) for xi,yi in sensors]"
   ]
  },
  {
   "cell_type": "code",
   "execution_count": 29,
   "metadata": {},
   "outputs": [
    {
     "data": {
      "image/png": "[encoded data removed]",
      "text/plain": [
       "<Figure size 720x720 with 1 Axes>"
      ]
     },
     "metadata": {
      "needs_background": "light"
     },
     "output_type": "display_data"
    }
   ],
   "source": [
    "z = svals\n",
    "x, y = sensors[:,0], sensors[:,1]\n",
    "plt.tricontourf(x, y, z, levels=20, vmin=-0.5, vmax=0)\n",
    "plt.scatter(x, y, c='r', s=0.5)\n",
    "plt.show()"
   ]
  },
  {
   "cell_type": "markdown",
   "metadata": {},
   "source": [
    " ---"
   ]
  },
  {
   "cell_type": "markdown",
   "metadata": {},
   "source": [
    "---"
   ]
  },
  {
   "cell_type": "markdown",
   "metadata": {},
   "source": [
    "## Simulate Perturbed Response Surface\n",
    "\n",
    "$\\tau$ was specified in the cells above using `tolerance`, take a look at your possible data and determine if it is reasonable before proceeding."
   ]
  },
  {
   "cell_type": "code",
   "execution_count": 30,
   "metadata": {},
   "outputs": [],
   "source": [
    "pn = poisson(gamma=lam_true)\n",
    "v = np.array(pn.vector())\n",
    "# v = p.compute_vertex_values()\n",
    "pn.vector()[:] = v + sigma*np.random.randn(len(v))"
   ]
  },
  {
   "cell_type": "code",
   "execution_count": 31,
   "metadata": {},
   "outputs": [
    {
     "data": {
      "image/png": "[encoded data removed]",
      "text/plain": [
       "<Figure size 720x720 with 1 Axes>"
      ]
     },
     "metadata": {
      "needs_background": "light"
     },
     "output_type": "display_data"
    }
   ],
   "source": [
    "fin.plot(pn, vmin=-0.5, vmax=0)\n",
    "plt.title(f\"Simulated Measurement Surface $\\\\sigma$ = {sigma:1.3E} ($\\\\tau$ = {tolerance:1.1E})\")\n",
    "plt.scatter(sensors[0:100,0], sensors[0:100,1], s=100, c='k')\n",
    "plt.show()"
   ]
  },
  {
   "cell_type": "code",
   "execution_count": null,
   "metadata": {},
   "outputs": [],
   "source": [
    "# %%time\n",
    "# model_list = model_dict[input_dim]\n",
    "# lam, qoi = load_poisson(sensors, model_list, nx=36, ny=36)"
   ]
  },
  {
   "cell_type": "code",
   "execution_count": null,
   "metadata": {},
   "outputs": [],
   "source": [
    "# domain = np.array([[-4,0]*input_dim]).reshape(-1,2)\n"
   ]
  },
  {
   "cell_type": "code",
   "execution_count": 34,
   "metadata": {
    "ExecuteTime": {
     "end_time": "2020-06-15T13:51:35.852434Z",
     "start_time": "2020-06-15T13:51:28.331Z"
    }
   },
   "outputs": [],
   "source": [
    "intervals, gamma_true = getVals(u, input_dim)\n",
    "w = fin.Expression(pcwExpr(u, input_dim, d=0), degree=2)\n",
    "domain = np.array([[-4,0]*input_dim]).reshape(-1,2)"
   ]
  },
  {
   "cell_type": "code",
   "execution_count": 35,
   "metadata": {
    "ExecuteTime": {
     "end_time": "2020-06-15T13:46:36.467911Z",
     "start_time": "2020-06-15T13:46:36.340365Z"
    }
   },
   "outputs": [
    {
     "name": "stdout",
     "output_type": "stream",
     "text": [
      "Loaded 1000 evaluations of parameter space.\n"
     ]
    },
    {
     "ename": "TypeError",
     "evalue": "string indices must be integers",
     "output_type": "error",
     "traceback": [
      "\u001b[0;31m\u001b[0m",
      "\u001b[0;31mTypeError\u001b[0mTraceback (most recent call last)",
      "\u001b[0;32m<timed exec>\u001b[0m in \u001b[0;36m<module>\u001b[0;34m\u001b[0m\n",
      "\u001b[0;32m~/work/thesis/figures/mud_problem.py\u001b[0m in \u001b[0;36mload_poisson\u001b[0;34m(sensors, l, nx, ny)\u001b[0m\n\u001b[1;32m     33\u001b[0m     \u001b[0;31m# go through all the files and load them into an array\u001b[0m\u001b[0;34m\u001b[0m\u001b[0;34m\u001b[0m\u001b[0;34m\u001b[0m\u001b[0m\n\u001b[1;32m     34\u001b[0m     \u001b[0;32mfor\u001b[0m \u001b[0mi\u001b[0m \u001b[0;32min\u001b[0m \u001b[0mrange\u001b[0m\u001b[0;34m(\u001b[0m\u001b[0mlen\u001b[0m\u001b[0;34m(\u001b[0m\u001b[0ml\u001b[0m\u001b[0;34m)\u001b[0m\u001b[0;34m)\u001b[0m\u001b[0;34m:\u001b[0m\u001b[0;34m\u001b[0m\u001b[0;34m\u001b[0m\u001b[0m\n\u001b[0;32m---> 35\u001b[0;31m         \u001b[0mfname\u001b[0m \u001b[0;34m=\u001b[0m \u001b[0ml\u001b[0m\u001b[0;34m[\u001b[0m\u001b[0mi\u001b[0m\u001b[0;34m]\u001b[0m\u001b[0;34m[\u001b[0m\u001b[0mi\u001b[0m\u001b[0;34m]\u001b[0m\u001b[0;34m[\u001b[0m\u001b[0;34m'u'\u001b[0m\u001b[0;34m]\u001b[0m\u001b[0;34m\u001b[0m\u001b[0;34m\u001b[0m\u001b[0m\n\u001b[0m\u001b[1;32m     36\u001b[0m         \u001b[0mu\u001b[0m \u001b[0;34m=\u001b[0m \u001b[0mFunction\u001b[0m\u001b[0;34m(\u001b[0m\u001b[0mV\u001b[0m\u001b[0;34m,\u001b[0m \u001b[0mfname\u001b[0m\u001b[0;34m)\u001b[0m\u001b[0;34m\u001b[0m\u001b[0;34m\u001b[0m\u001b[0m\n\u001b[1;32m     37\u001b[0m         \u001b[0mq\u001b[0m \u001b[0;34m=\u001b[0m \u001b[0;34m[\u001b[0m\u001b[0mu\u001b[0m\u001b[0;34m(\u001b[0m\u001b[0mxi\u001b[0m\u001b[0;34m,\u001b[0m\u001b[0myi\u001b[0m\u001b[0;34m)\u001b[0m \u001b[0;32mfor\u001b[0m \u001b[0mxi\u001b[0m\u001b[0;34m,\u001b[0m\u001b[0myi\u001b[0m \u001b[0;32min\u001b[0m \u001b[0msensors\u001b[0m\u001b[0;34m]\u001b[0m \u001b[0;31m# sensors\u001b[0m\u001b[0;34m\u001b[0m\u001b[0;34m\u001b[0m\u001b[0m\n",
      "\u001b[0;31mTypeError\u001b[0m: string indices must be integers"
     ]
    }
   ],
   "source": [
    "%%time\n",
    "if load:\n",
    "    fname = f'{prefix}_summary_{input_dim}.pkl'\n",
    "    results = pickle.load(open(fname, 'rb'))\n",
    "    solutions_sing, solutions_mult = results['sols']\n",
    "    measurements = results['meas']\n",
    "    noise, tolerance = results['noise']\n",
    "    sigma = results['stdv']\n",
    "    lam, qoi = results['sets']\n",
    "    gamma_true, qoi_true = results['true']\n",
    "    sensors = results['sens']\n",
    "else:\n",
    "    lam, qoi = load_poisson(sensors, model_list[0:1000], nx=36, ny=36)"
   ]
  },
  {
   "cell_type": "markdown",
   "metadata": {},
   "source": [
    "## Best Case Scenario: Minimizing 2-Norms with Knowledge of Truth\n",
    "minimizing norm of difference between \"truth\" and our samples, both input and output."
   ]
  },
  {
   "cell_type": "code",
   "execution_count": null,
   "metadata": {
    "ExecuteTime": {
     "end_time": "2020-06-15T13:47:14.387340Z",
     "start_time": "2020-06-15T13:47:14.288160Z"
    }
   },
   "outputs": [],
   "source": [
    "%%time\n",
    "closest_fit_index_in = np.argmin(np.linalg.norm(lam - np.array(gamma_true),axis=1))\n",
    "closest_fit_index_out = np.argmin(np.linalg.norm(qoi - np.array(qoi_true) - noise,axis=1))"
   ]
  },
  {
   "cell_type": "code",
   "execution_count": null,
   "metadata": {
    "ExecuteTime": {
     "end_time": "2020-06-15T13:47:42.587238Z",
     "start_time": "2020-06-15T13:47:40.869645Z"
    }
   },
   "outputs": [],
   "source": [
    "plt.figure(figsize=(20,10))\n",
    "plt.subplot(121)\n",
    "fin.plot(w, mesh=mesh, lw=5, c='k')\n",
    "gt = list(lam[closest_fit_index_in, :])\n",
    "plt.plot([0]+intervals+[1], [0]+gt+[0], lw=5, c='purple', alpha=1, label=f'Closest in Input: {closest_fit_index_in}')\n",
    "\n",
    "projected_line = list(lam[closest_fit_index_out, :])\n",
    "plt.plot([0]+intervals+[1], [0]+projected_line+[0], lw=5, c='green', alpha=1, label=f'Closest in Output: {closest_fit_index_out}')\n",
    "\n",
    "plt.legend(fontsize=fsize*0.75)\n",
    "plt.title(f'Parameter Space', fontsize=fsize*1.25)\n",
    "plt.ylim(-4, 0)\n",
    "plt.xlim(0, 1)\n",
    "plt.ylabel('$u(x, \\lambda)$', fontsize=fsize)\n",
    "plt.xlabel('$x_1$', fontsize=fsize)\n",
    "\n",
    "plt.subplot(122)\n",
    "_plot_num = max(measurements)\n",
    "q = qoi[closest_fit_index_in,:]\n",
    "plt.scatter(q[:_plot_num], qoi_true[:_plot_num] + noise[:_plot_num], c='purple', s=100, alpha=0.4, label=f'Closest in Input: {closest_fit_index_in}')\n",
    "q = qoi[closest_fit_index_out,:]\n",
    "plt.scatter(q[:_plot_num], qoi_true[:_plot_num] + noise[:_plot_num], c='green', s=100, alpha=0.4, label=f'Closest in Output: {closest_fit_index_out}')\n",
    "\n",
    "_a = np.linspace(min(qoi_true),max(qoi_true), 2)\n",
    "plt.plot(_a,_a, c='k', lw=3)\n",
    "plt.xlim(-0.5, 0.2)\n",
    "plt.ylim(-0.5, 0.2)\n",
    "# plt.legend(fontsize=fsize)\n",
    "plt.xlabel('Predicted Data', fontsize=fsize)\n",
    "plt.ylabel('Collected Data', fontsize=fsize)\n",
    "plt.title(\"Q-Q Plot\", fontsize=fsize*1.25)\n",
    "\n",
    "# _fname = f\"{prefix}_proj_D{input_dim}.{ftype}\"\n",
    "# plt.savefig(_fname, bbox_inches='tight')\n",
    "plt.show()"
   ]
  },
  {
   "cell_type": "markdown",
   "metadata": {},
   "source": [
    "---"
   ]
  },
  {
   "cell_type": "code",
   "execution_count": null,
   "metadata": {},
   "outputs": [],
   "source": [
    "num_qoi = input_dim\n",
    "# plot_qoi = [20, 100, 500, 1000][::-1]\n",
    "plot_qoi = measurements[::-2]\n",
    "qoi_indices     = band_qoi(sensors, num_qoi, axis=1)\n",
    "qoi_indices_bad = band_qoi(sensors, num_qoi, axis=0)\n",
    "colors = ['xkcd:red', 'xkcd:black', 'xkcd:orange', 'xkcd:blue', 'xkcd:green']"
   ]
  },
  {
   "cell_type": "code",
   "execution_count": null,
   "metadata": {},
   "outputs": [],
   "source": [
    "_intervals = np.array(intervals[1:]) + ( np.array(intervals[:-1]) - np.array(intervals[1:]) ) / 2"
   ]
  },
  {
   "cell_type": "code",
   "execution_count": null,
   "metadata": {},
   "outputs": [],
   "source": [
    "plt.figure(figsize=(10,10))\n",
    "fin.plot(pn, vmin=-0.5, vmax=0)\n",
    "plt.title(f\"Simulated Measurement Surface\\n$\\\\sigma$ = {sigma:1.3E} ($\\\\tau$ = {tolerance:1.1E})\")\n",
    "for i in range(0, num_qoi):\n",
    "    if i < num_qoi - 1: plt.axhline(_intervals[i], lw=3, c='k')\n",
    "    _q = qoi_indices[i][qoi_indices[i] < 100 ]\n",
    "    plt.scatter(sensors[_q,0], sensors[_q,1], s=100, color=colors[i%2])\n",
    "plt.scatter([0]*input_dim, intervals, s=200, marker='^', c='w')\n",
    "plt.xlim(0,1)\n",
    "plt.ylim(0,1)\n",
    "plt.xticks([])\n",
    "plt.yticks([])\n",
    "plt.xlabel(\"$x_1$\", fontsize=fsize)\n",
    "plt.ylabel(\"$x_2$\", fontsize=fsize)\n",
    "\n",
    "_fname = f\"{prefix}_sensors_D{input_dim}.{ftype}\"\n",
    "# plt.savefig(_fname, bbox_inches='tight')\n",
    "plt.show()\n",
    "\n",
    "plt.figure(figsize=(10,10))\n",
    "fin.plot(pn, vmin=-0.5, vmax=0)\n",
    "plt.title(f\"Simulated Measurement Surface\\n$\\\\sigma$ = {sigma:1.3E} ($\\\\tau$ = {tolerance:1.1E})\")\n",
    "for i in range(0, num_qoi):\n",
    "    if i < num_qoi - 1: plt.axvline(_intervals[i], lw=3, c='k')\n",
    "    _q = qoi_indices_bad[i][qoi_indices_bad[i] < 100 ]\n",
    "    plt.scatter(sensors[_q,0], sensors[_q,1], s=100, color=colors[i%2])\n",
    "plt.scatter([0]*input_dim,intervals, s=200, marker='^', c='w')\n",
    "plt.xlim(0,1)\n",
    "plt.ylim(0,1)\n",
    "plt.xticks([])\n",
    "plt.yticks([])\n",
    "plt.xlabel(\"$x_1$\", fontsize=fsize)\n",
    "plt.ylabel(\"$x_2$\", fontsize=fsize)\n",
    "\n",
    "_fname = f\"{prefix}_sensors-alt_D{input_dim}.{ftype}\"\n",
    "# plt.savefig(_fname, bbox_inches='tight')\n",
    "plt.show()"
   ]
  },
  {
   "cell_type": "markdown",
   "metadata": {},
   "source": [
    "# Geometry Study"
   ]
  },
  {
   "cell_type": "code",
   "execution_count": null,
   "metadata": {},
   "outputs": [],
   "source": [
    "if input_dim == 2:\n",
    "    plt.figure(figsize=(20,10))\n",
    "    plt.subplot(121)\n",
    "    colors = ['xkcd:red', 'xkcd:black', 'xkcd:orange', 'xkcd:blue', 'xkcd:green'][::-1]\n",
    "#     plot_qoi = [20, 100, 500, 1000][::-1]\n",
    "    for idx, _first in enumerate(plot_qoi):\n",
    "        qois = split_qoi_by_indices(qoi_indices, qoi_true, qoi, noise, sigma, first=_first)\n",
    "        plt.scatter(qois[0], qois[1], label=f'First {_first}', s=20, c=colors[idx], alpha=1)\n",
    "    plt.legend()\n",
    "    plt.title(\"Horizontal Band QoI\", fontsize=1.25*fsize)\n",
    "    plt.xlabel(\"$q_1$\", fontsize=fsize)\n",
    "    plt.ylabel(\"$q_2$\", fontsize=fsize)\n",
    "    \n",
    "    plt.subplot(122)\n",
    "    for idx, _first in enumerate(plot_qoi):\n",
    "        qois = split_qoi_by_indices(qoi_indices_bad, qoi_true, qoi, noise, sigma, first=_first)\n",
    "        plt.scatter(qois[0], qois[1], label=f'First {_first}', s=20, c=colors[idx], alpha=1)\n",
    "    plt.legend()\n",
    "    plt.title(\"Vertical Band QoI\", fontsize=1.25*fsize)\n",
    "    plt.xlabel(\"$q^*_1$\", fontsize=fsize)\n",
    "    plt.ylabel(\"$q^*_2$\", fontsize=fsize)\n",
    "\n",
    "else:\n",
    "    plt.figure(figsize=(20,20))\n",
    "#     lim = 7.5/tolerance\n",
    "    lim = 3/tolerance\n",
    "    fig, axs = plt.subplots(input_dim, input_dim, figsize=(20,20))\n",
    "    for _i in range(input_dim):\n",
    "        for _j in range(_i, input_dim):\n",
    "            if _i == _j:\n",
    "                ax = axs[_i][_i]\n",
    "\n",
    "                ax.annotate(f\"$q{_i+1}$\", (-lim/10,0), fontsize=fsize)\n",
    "    #             ax.set_ylabel(f\"$q{_i+1}$\")\n",
    "    #             ax.set_xlabel(f\"$q{_i+1}$\")\n",
    "                ax.set_xlim(-lim, lim)\n",
    "                ax.set_ylim(-lim, lim)\n",
    "    #             ax.set_xticks([])\n",
    "    #             ax.set_yticks([])\n",
    "            else:\n",
    "                for idx, _first in enumerate(plot_qoi):\n",
    "                    ax = axs[_i][_j]\n",
    "                    qois = split_qoi_by_indices(qoi_indices, qoi_true, qoi, noise, sigma, first=_first)\n",
    "                    ax.scatter(qois[_i], qois[_j], label=f'First {_first}', s=20, c=colors[idx], alpha=1)\n",
    "                    ax.set_xlim(-lim, lim)\n",
    "                    ax.set_ylim(-lim, lim)\n",
    "                    ax.set_xticks([])\n",
    "                    ax.set_yticks([])\n",
    "\n",
    "                    ax = axs[_j][_i]\n",
    "                    qois = split_qoi_by_indices(qoi_indices_bad, qoi_true, qoi, noise, sigma, first=_first)\n",
    "                    ax.scatter(qois[_i], qois[_j], label=f'First {_first}', s=20, c=colors[idx], alpha=1)\n",
    "                    ax.set_xlim(-lim, lim)\n",
    "                    ax.set_ylim(-lim, lim)\n",
    "                    ax.set_xticks([])\n",
    "                    ax.set_yticks([])\n",
    "\n",
    "# _fname = f\"{prefix}_geom_D{input_dim}.{ftype}\"\n",
    "# plt.savefig(_fname, bbox_inches='tight')\n",
    "plt.show()    "
   ]
  },
  {
   "cell_type": "markdown",
   "metadata": {},
   "source": [
    "# POC: Solve Inverse Problem"
   ]
  },
  {
   "cell_type": "markdown",
   "metadata": {},
   "source": [
    "### Single QoI"
   ]
  },
  {
   "cell_type": "code",
   "execution_count": null,
   "metadata": {},
   "outputs": [],
   "source": [
    "# noise = np.random.randn(num_measure)*sigma\n",
    "num_meas_ex_sol = 100"
   ]
  },
  {
   "cell_type": "code",
   "execution_count": null,
   "metadata": {},
   "outputs": [],
   "source": [
    "%%time\n",
    "newqoi = meas_to_qoi(qoi[:,0:num_meas_ex_sol], qoi_true[0:num_meas_ex_sol] + noise[0:num_meas_ex_sol], sigma)\n",
    "r_sing = ratio_dci(newqoi)"
   ]
  },
  {
   "cell_type": "code",
   "execution_count": null,
   "metadata": {},
   "outputs": [],
   "source": [
    "mud_idx = np.argmax(r_sing)\n",
    "mud_fun = lam[mud_idx,:]\n",
    "print(mud_idx)"
   ]
  },
  {
   "cell_type": "markdown",
   "metadata": {},
   "source": [
    "### Multiple QoI"
   ]
  },
  {
   "cell_type": "code",
   "execution_count": null,
   "metadata": {},
   "outputs": [],
   "source": [
    "%%time\n",
    "qois = split_qoi_by_indices(qoi_indices, qoi_true, qoi, noise, sigma, first=num_meas_ex_sol)\n",
    "r_mult = ratio_dci_mult(qois)"
   ]
  },
  {
   "cell_type": "code",
   "execution_count": null,
   "metadata": {},
   "outputs": [],
   "source": [
    "mud_idx_mult = np.argmax(r_mult)\n",
    "mud_fun_mult = lam[mud_idx_mult,:]"
   ]
  },
  {
   "cell_type": "code",
   "execution_count": null,
   "metadata": {},
   "outputs": [],
   "source": [
    "mud_idx_mult"
   ]
  },
  {
   "cell_type": "markdown",
   "metadata": {},
   "source": [
    "## Compare Vector-Valued and Scalar Example Solutions"
   ]
  },
  {
   "cell_type": "code",
   "execution_count": null,
   "metadata": {},
   "outputs": [],
   "source": [
    "plt.figure(figsize=(30,10))\n",
    "\n",
    "plt.subplot(131)\n",
    "fin.plot(poisson(mud_fun, nx=36,ny=36), vmin=-0.5, vmax=0)\n",
    "plt.title('MUD (Scalar-Valued)', fontsize=1.25*fsize)\n",
    "\n",
    "plt.subplot(132)\n",
    "fin.plot(pn, vmin=-0.5, vmax=0)\n",
    "plt.title('(Noisy) Response Surface', fontsize=1.25*fsize)\n",
    "\n",
    "plt.subplot(133)\n",
    "fin.plot(poisson(mud_fun_mult, nx=36,ny=36), vmin=-0.5, vmax=0)\n",
    "plt.title('MUD (Vector-Valued)', fontsize=1.25*fsize)\n",
    "\n",
    "# _fname = f\"{prefix}_surf_exmud_D{input_dim}_m{num_meas_ex_sol}.{ftype}\"\n",
    "plt.savefig(_fname, bbox_inches='tight')\n",
    "plt.show()\n"
   ]
  },
  {
   "cell_type": "code",
   "execution_count": null,
   "metadata": {},
   "outputs": [],
   "source": [
    "plt.figure(figsize=(20,10))\n",
    "\n",
    "plt.subplot(121)\n",
    "fin.plot(u, mesh=mesh, lw=5, c='k')\n",
    "fin.plot(w, mesh=mesh, lw=5, c='k', ls='--', alpha=0.5, label='Interpolant')\n",
    "# fin.plot(w, mesh=mesh, lw=10, c='r', ls='-', alpha=0.5)\n",
    "plt.scatter(intervals, gamma_true, marker='^', s=200, c='purple', zorder=10)\n",
    "plt.title(f'Ex. MUD Solution, m={num_meas_ex_sol}', fontsize=1.25*fsize)\n",
    "\n",
    "plt.plot(np.linspace(0,1,input_dim+2),\n",
    "            [0] + list(mud_fun) + [0],\n",
    "            alpha=0.5, c='r', lw=10, label=f'Scalar MUD, Sample {mud_idx}')\n",
    "\n",
    "plt.plot(np.linspace(0,1,input_dim+2),\n",
    "            [0] + list(mud_fun_mult) + [0],\n",
    "            alpha=0.5, c='b', lw=10, label=f'Vector MUD, Sample {mud_idx_mult}')\n",
    "\n",
    "plt.axvline(2/7, alpha=0.4, ls=':')\n",
    "plt.axhline(-lam_true, alpha=0.4, ls=':')\n",
    "plt.ylim(-4,0)\n",
    "plt.xlim(0,1)\n",
    "plt.ylabel('$u(x, \\lambda)$', fontsize=fsize)\n",
    "plt.xlabel('$x_1$', fontsize=fsize)\n",
    "plt.legend(fontsize=fsize*0.75)\n",
    "\n",
    "plt.subplot(122)\n",
    "_data = qoi_true[:num_meas_ex_sol] + noise[:num_meas_ex_sol]\n",
    "plt.scatter(qoi[mud_idx,:num_meas_ex_sol], _data, c='r', s=100, alpha=0.4, label=f'Scalar MUD, Sample {mud_idx}')\n",
    "plt.scatter(qoi[mud_idx_mult,:num_meas_ex_sol], _data, c='b', s=100, alpha=0.4, label=f'Vector MUD, Sample {mud_idx_mult}')\n",
    "\n",
    "_a = np.linspace(min(qoi_true) ,max(qoi_true), 2)\n",
    "plt.plot(_a,_a, c='k', lw=3)\n",
    "plt.xlim(-0.5, 0.2)\n",
    "plt.ylim(-0.5, 0.2)\n",
    "plt.xlabel('Predicted Data', fontsize=fsize)\n",
    "plt.ylabel('Collected Data', fontsize=fsize)\n",
    "plt.title(\"Q-Q Plot\", fontsize=fsize*1.25)\n",
    "# plt.legend()\n",
    "\n",
    "\n",
    "# _fname = f\"{prefix}_comp_exmud_D{input_dim}_m{num_meas_ex_sol}.{ftype}\"\n",
    "# plt.savefig(_fname, bbox_inches='tight')\n",
    "plt.show()"
   ]
  },
  {
   "cell_type": "code",
   "execution_count": null,
   "metadata": {},
   "outputs": [],
   "source": [
    "print(gamma_true)"
   ]
  },
  {
   "cell_type": "code",
   "execution_count": null,
   "metadata": {},
   "outputs": [],
   "source": [
    "labels = ['Scalar QoI', 'Vector QoI']\n",
    "plot_top = 1000\n",
    "thresh = lam.shape[0]**-1\n",
    "# thresh = 1E-16\n",
    "colors = ['xkcd:red', 'xkcd:black', 'xkcd:orange', 'xkcd:blue', 'xkcd:green']\n",
    "num_samps_ex_sol = 100\n",
    "\n",
    "if input_dim == 2:\n",
    "    for _i in range(input_dim):\n",
    "        for _j in range(_i+1, input_dim):\n",
    "            for idx, ratio_eval in enumerate([r_sing, r_mult]):\n",
    "                _m = np.where(ratio_eval/max(ratio_eval) > thresh)[0]\n",
    "#                 plt.scatter(lam[_m[101:5000], _i], lam[_m[101:5000], _j], c='orange', marker='^', alpha=0.2)\n",
    "#                 plt.scatter(lam[_m[plot_top+1:1000], _i], lam[_m[plot_top+1:1000], _j], c='orange', marker='^', alpha=0.2)\n",
    "                plt.scatter(lam[_m[:plot_top], _i], lam[_m[:plot_top], _j], c=colors[idx], label= labels[idx] + ' (Total %d)'%len(_m), s=20)\n",
    "            plt.xlabel(f\"$\\lambda_{_i+1}$\", fontsize=fsize)\n",
    "            plt.ylabel(f\"$\\lambda_{_j+1}$\", fontsize=fsize)\n",
    "            plt.ylim(-4,0)\n",
    "            plt.xlim(-4,0)\n",
    "            plt.scatter(gamma_true[_i], gamma_true[_j], c='k', s=200, alpha=0.5, label='Interpolant', zorder=-10)\n",
    "            plt.scatter(lam[closest_fit_index_out, _i], lam[closest_fit_index_out, _j], c='g', s=500, alpha=0.8, label='Projection', zorder=15)\n",
    "            plt.legend()\n",
    "            plt.title(f\"Samples (m = {num_samps_ex_sol}) with\\nRelative Ratio > {thresh:1.1E}\", fontsize=fsize)\n",
    "\n",
    "else:\n",
    "\n",
    "    fig, axs = plt.subplots(input_dim, input_dim, figsize=(20,20))\n",
    "    for _i in range(input_dim):\n",
    "        for _j in range(_i, input_dim):\n",
    "            if _i != _j:\n",
    "                for idx, ratio_eval in enumerate([r_sing, r_mult]):\n",
    "                    ax = axs[_j][_i] if not idx else axs[_i][_j]\n",
    "                    _m = np.where(ratio_eval/max(ratio_eval) > thresh)[0]\n",
    "                    ax.scatter(lam[_m[:plot_top], _i], lam[_m[:plot_top], _j], c=colors[2+idx], label= str(len(_m)) + ' ' + labels[idx], s=10)\n",
    "\n",
    "\n",
    "    #                 ax.set_xlabel(f\"$\\lambda_{_i+1}$\")\n",
    "    #                 ax.set_ylabel(f\"$\\lambda_{_j+1}$\")\n",
    "                    ax.set_ylim(-4,0)\n",
    "                    ax.set_xlim(-4,0)\n",
    "                    ax.set_xticks([])\n",
    "                    ax.set_yticks([])\n",
    "                    ax.scatter(gamma_true[_i], gamma_true[_j], c='k', s=250, alpha=1, label='Interpolant', zorder=-10)\n",
    "                    ax.scatter(lam[closest_fit_index_out, _i], lam[closest_fit_index_out, _j], c='g', s=400, alpha=0.5, label='Projection', zorder=-10)\n",
    "    #                 ax.legend()\n",
    "            else:\n",
    "                ax = axs[_i][_i]\n",
    "                ax.annotate(f\"$\\lambda_{_i+1}$\", (-0.6,0.5), fontsize=fsize)\n",
    "#                 ax.set_xlabel(f\"$\\lambda_{_i+1}$\", fontsize=fsize)\n",
    "#                 ax.set_ylabel(f\"$\\lambda_{_i+1}$\", fontsize=fsize)\n",
    "\n",
    "                ax.set_xticks([])\n",
    "                ax.set_yticks([])\n",
    "                ax.set_xlim(-1,0)\n",
    "\n",
    "\n",
    "_fname = f\"{prefix}_update_scatter_D{input_dim}_t{thresh:1.1E}\".replace('.', '-') + f\".{ftype}\"\n",
    "# plt.savefig(_fname, bbox_inches='tight')\n",
    "plt.show()"
   ]
  },
  {
   "cell_type": "markdown",
   "metadata": {},
   "source": [
    "# Where From Here\n",
    "\n",
    "We have solved the inverse problem for two knot points using two viable methods: the scalar- and vector-valued approaches for forming a QoI map.\n",
    "\n",
    "Let us now use the figure above to inform how we can more intelligently improve our estimation of the function $g$.\n",
    "\n",
    "We are not allowing ourselves to run any more experiments, we need to leverage our existing hundred measurements."
   ]
  },
  {
   "cell_type": "markdown",
   "metadata": {},
   "source": [
    "# Errors with `scipy.integrate.trapz`"
   ]
  },
  {
   "cell_type": "code",
   "execution_count": null,
   "metadata": {},
   "outputs": [],
   "source": [
    "import scipy.integrate as integrate"
   ]
  },
  {
   "cell_type": "code",
   "execution_count": null,
   "metadata": {},
   "outputs": [],
   "source": [
    "thresh_2d = 0.5\n",
    "idx_sing = np.where(r_sing>thresh_2d)[0]\n",
    "idx_mult = np.where(r_mult>thresh_2d)[0]"
   ]
  },
  {
   "cell_type": "code",
   "execution_count": null,
   "metadata": {},
   "outputs": [],
   "source": [
    "L_2_error_initial = [ np.sqrt(integrate.trapz(np.abs(lam[r,:]-gamma_true)**2, x=intervals)) for r in range(lam.shape[0]) ]\n",
    "L_2_error_sing = [ np.sqrt(integrate.trapz(np.abs(lam[r,:]-gamma_true)**2, x=intervals)) for r in idx_sing ]\n",
    "L_2_error_mult = [ np.sqrt(integrate.trapz(np.abs(lam[r,:]-gamma_true)**2, x=intervals)) for r in idx_mult ]"
   ]
  },
  {
   "cell_type": "code",
   "execution_count": null,
   "metadata": {},
   "outputs": [],
   "source": [
    "bins = np.linspace(min(L_2_error_initial), max(L_2_error_initial), 20)\n",
    "plt.hist(L_2_error_initial, bins=bins, label=f\"Initial Samples\", color=\"black\", density=True)\n",
    "plt.hist(L_2_error_sing, bins=bins, label=f\"SV Updated Samples\", color=\"red\", density=True, alpha=0.8)\n",
    "plt.hist(L_2_error_mult, bins=bins, alpha=0.8, label=f\"VV Updated Samples\", color=\"blue\", density=True)\n",
    "plt.title(f\"2 Dimensions: $L^2$ Error to $g$\")\n",
    "plt.legend()\n",
    "plt.xlabel(\"Error\")\n",
    "_fname = f\"{prefix}_hist_D{input_dim}_t{thresh_2d:1.1E}\".replace('.', '-') + f\".{ftype}\"\n",
    "plt.savefig(_fname, bbox_inches='tight')\n",
    "plt.show()"
   ]
  },
  {
   "cell_type": "markdown",
   "metadata": {},
   "source": [
    "## Pick out Vector-Valued Samples"
   ]
  },
  {
   "cell_type": "code",
   "execution_count": null,
   "metadata": {},
   "outputs": [],
   "source": [
    "lam_mult = lam[idx_mult, :]\n",
    "lam_sing = lam[idx_sing, :]"
   ]
  },
  {
   "cell_type": "code",
   "execution_count": null,
   "metadata": {},
   "outputs": [],
   "source": [
    "_u, _s, _v = np.linalg.svd(lam_mult.T)\n",
    "lam_mult_trans = (_u@lam_mult.T).T\n",
    "\n",
    "_u, _s, _v = np.linalg.svd(lam_sing.T)\n",
    "lam_mult_trans_sing = (_u@lam_mult.T).T"
   ]
  },
  {
   "cell_type": "code",
   "execution_count": null,
   "metadata": {},
   "outputs": [],
   "source": [
    "plt.scatter(lam_mult_trans_sing[:,0], lam_mult_trans_sing[:,1])\n",
    "plt.scatter(lam_mult_trans[:,0], lam_mult_trans[:,1])"
   ]
  },
  {
   "cell_type": "markdown",
   "metadata": {},
   "source": [
    "The larger sample size of the scalar-valued approach is useful for identifying the singular vectors which we will leverage to transform uniform samples."
   ]
  },
  {
   "cell_type": "code",
   "execution_count": null,
   "metadata": {},
   "outputs": [],
   "source": [
    "_mn, _mx = np.min(lam_mult_trans_sing, axis=0), np.max(lam_mult_trans_sing, axis=0)\n",
    "\n",
    "# form a uniform box and then rotate it using the U matrix from SVD\n",
    "new_proposals_trans = np.random.rand(lam.shape[0],2)*(_mx-_mn) + _mn"
   ]
  },
  {
   "cell_type": "code",
   "execution_count": null,
   "metadata": {},
   "outputs": [],
   "source": [
    "# %%time\n",
    "new_proposals = (_u@new_proposals_trans.T).T"
   ]
  },
  {
   "cell_type": "code",
   "execution_count": null,
   "metadata": {},
   "outputs": [],
   "source": [
    "plt.figure(figsize=(20,10))\n",
    "plt.subplot(121)\n",
    "plt.scatter(lam_mult_trans_sing[:,0], lam_mult_trans_sing[:,1])\n",
    "plt.scatter(new_proposals_trans[:,0], new_proposals_trans[:,1], alpha=0.1)\n",
    "plt.subplot(122)\n",
    "plt.scatter(lam_mult[:,0], lam_mult[:,1])\n",
    "plt.scatter(new_proposals[:,0], new_proposals[:,1], alpha=0.1)\n",
    "plt.xlim(-4.25,0)\n",
    "plt.ylim(-4,0.25)\n",
    "plt.show()"
   ]
  },
  {
   "cell_type": "markdown",
   "metadata": {},
   "source": [
    "We need to clean up those corners. So let's try something a little different.\n",
    "Generate proposal samples from uniform, and transform them, keep the ones that\n",
    " - stay inside the parameter space\n",
    " - satisfy $\\min_\\lambda \\lbrace || \\lambda^* - \\lambda ||^2_2 \\rbrace \\leq 0.01$\n",
    " \n",
    "until 10,000 are generated. This requires no model evaluations and shouldn't take much time."
   ]
  },
  {
   "cell_type": "code",
   "execution_count": null,
   "metadata": {},
   "outputs": [],
   "source": [
    "%%time\n",
    "# new_proposals_trans = np.random.rand(lam.shape[0]*2,2)*(_mx-_mn) + _mn\n",
    "new_proposals_trans_trimmed = []\n",
    "_count = 0\n",
    "while _count < 1E4:\n",
    "    _prop = np.random.rand(1,2)*(_mx-_mn) + _mn\n",
    "    _prop = (_u@_prop.T).T\n",
    "    _prop = _prop[0]\n",
    "    if min(np.linalg.norm(_prop - lam_mult, axis=1)**2) < 0.05:\n",
    "        if _prop[0] > -4 and _prop[0] < 0:\n",
    "            if _prop[1] > -4 and _prop[1] < 0:\n",
    "                new_proposals_trans_trimmed.append(_prop)\n",
    "                _count += 1\n",
    "new_proposals_trans_trimmed = np.array(new_proposals_trans_trimmed)"
   ]
  },
  {
   "cell_type": "code",
   "execution_count": null,
   "metadata": {},
   "outputs": [],
   "source": [
    "plt.figure(figsize=(30,10))\n",
    "\n",
    "plt.subplot(131)\n",
    "plt.scatter(lam_mult[:,0], lam_mult[:,1])\n",
    "plt.scatter(new_proposals[:,0], new_proposals[:,1], alpha=0.1)\n",
    "plt.xlim(-4.25,0)\n",
    "plt.ylim(-4,0.25)\n",
    "plt.xlabel(\"$\\lambda_1$\", fontsize=fsize)\n",
    "plt.ylabel(\"$\\lambda_2$\", fontsize=fsize)\n",
    "\n",
    "plt.subplot(132)\n",
    "plt.scatter(lam_mult_trans_sing[:,0], lam_mult_trans_sing[:,1])\n",
    "plt.scatter(new_proposals_trans[:,0], new_proposals_trans[:,1], alpha=0.1)\n",
    "# plt.xlabel(\"$\\lambda^*_1$\", fontsize=fsize)\n",
    "# plt.ylabel(\"$\\lambda^*_2$\", fontsize=fsize)\n",
    "\n",
    "plt.subplot(133)\n",
    "plt.scatter(lam_mult[:,0], lam_mult[:,1])\n",
    "plt.scatter(new_proposals_trans_trimmed[:,0], new_proposals_trans_trimmed[:,1], alpha=0.1)\n",
    "plt.xlim(-4.25,0)\n",
    "plt.ylim(-4,0.25)\n",
    "plt.xlabel(\"$\\lambda_1$\", fontsize=fsize)\n",
    "plt.ylabel(\"$\\lambda_2$\", fontsize=fsize)\n",
    "\n",
    "_fname = f\"{prefix}-alt_initial_D2_m{num_meas_ex_sol}.{ftype}\"\n",
    "plt.savefig(_fname, bbox_inches='tight')\n",
    "plt.show()"
   ]
  },
  {
   "cell_type": "markdown",
   "metadata": {},
   "source": [
    "## Next steps\n",
    "\n",
    "We have now generated a suitable cover for the high-probability samples that came from solving the inverse problem with the vector-valued map.\n",
    "\n",
    "We have three new knot points which we want to estimate. \n",
    "One happens to be in the middle of the two knots we estimated in the first problem. And we know two more values of $g$ from the Dirichlet boundary conditions on the top/bottom, so we can possibly bound these estimates as well.\n",
    "\n",
    "Let us see how we can possibly generate a good set of proposal samples for this set by looking at the functions predicted by the accepted samples above."
   ]
  },
  {
   "cell_type": "code",
   "execution_count": null,
   "metadata": {},
   "outputs": [],
   "source": [
    "intervals_5d, gamma_true_5d = getVals(u, 5)\n",
    "w_5d = fin.Expression(pcwExpr(u, 5, d=0), degree=2)"
   ]
  },
  {
   "cell_type": "code",
   "execution_count": null,
   "metadata": {},
   "outputs": [],
   "source": [
    "plt.figure(figsize=(10,10))\n",
    "plt.title(f'Predictions, m={num_meas_ex_sol} for 2D', fontsize=1.25*fsize)\n",
    "plt.xlabel(\"$x_1$\", fontsize=fsize)\n",
    "plt.ylabel(\"$g(x, \\lambda)$\", fontsize=fsize)\n",
    "# plt.plot([0]+intervals+[1], [0]+ [w(i) for i in intervals] +[0], lw=5, c='k')\n",
    "# fin.plot(w_5d, mesh=mesh, lw=5, c='k', ls='--', alpha=0.5, label='Interpolant')\n",
    "\n",
    "for i in range(lam_mult.shape[0]): # samples\n",
    "    _lam = list(lam_mult[i,:])\n",
    "    plt.plot([0]+intervals+[1], [0]+_lam+[0], lw=1, c='purple', alpha=0.2)\n",
    "    # compute value at remaining knot points: will be derivable using midpoints since we use linears\n",
    "\n",
    "_lam_mult = np.vstack([lam_mult[:,0],\n",
    "                       (lam_mult[:,1] + lam_mult[:,0]),\n",
    "                       lam_mult[:,1]])/2\n",
    "lower_bounds = _lam_mult.min(axis=1)*1.2\n",
    "upper_bounds = _lam_mult.max(axis=1)*0.8\n",
    "print(lower_bounds, upper_bounds)\n",
    "# gt = list(lam[closest_fit_index_out, :])\n",
    "plt.ylim(-4, 0)\n",
    "plt.xlim(0, 1)\n",
    "for idx, _x in enumerate(np.linspace(0,1,7)[1:-1:2]):\n",
    "    plt.axvline(_x)\n",
    "    plt.vlines(_x, lower_bounds[idx], upper_bounds[idx],\n",
    "               lw=20, color='orange', zorder=-1, alpha=1)\n",
    "    plt.annotate(f'$\\lambda_{idx*2+1}$', (_x, lower_bounds[idx] - 0.25))\n",
    "# plt.legend()\n",
    "_fname = f\"{prefix}-alt_initial_D5_m{num_meas_ex_sol}.{ftype}\"\n",
    "plt.savefig(_fname, bbox_inches='tight')\n",
    "plt.show()"
   ]
  },
  {
   "cell_type": "markdown",
   "metadata": {},
   "source": [
    "For the sake of simplicity, we will just use the upper/lower bounds of the lines for each of the remaining knots.\n",
    "The plot above is generated using the top 1000 samples from $\\Lambda$, representing 10% of the original Monte-Carlo samples we used. To be a bit more conservative with our sampling, we will widen our intervals by an additional five percent above and below by multiplying by 0.95 and 1.05, respectively. (NOTE: be more conservative. go to 50%). \n",
    "We plot these bars in the same figure. (In reality, we didn't get 1000 samples, we got 926 based on our threshold of $1/N$)."
   ]
  },
  {
   "cell_type": "code",
   "execution_count": null,
   "metadata": {},
   "outputs": [],
   "source": [
    "print(lower_bounds)\n",
    "print(upper_bounds)"
   ]
  },
  {
   "cell_type": "markdown",
   "metadata": {},
   "source": [
    "We now have bounds on our initial density in 5D. \n",
    "We will start with the 10,000 samples generated from our cover and append the three remaining directions in the appropriate order expected by the model:"
   ]
  },
  {
   "cell_type": "code",
   "execution_count": null,
   "metadata": {},
   "outputs": [],
   "source": [
    "new_initial_2d = new_proposals_trans_trimmed\n",
    "lb, ub = np.array(lower_bounds), np.array(upper_bounds)\n",
    "new_initial_3d = np.random.rand(10000, 3)*(ub-lb) + lb"
   ]
  },
  {
   "cell_type": "code",
   "execution_count": null,
   "metadata": {},
   "outputs": [],
   "source": [
    "new_initial = np.vstack([new_initial_3d[:,0],\n",
    "                         new_initial_2d[:,0],\n",
    "                         new_initial_3d[:,1],\n",
    "                         new_initial_2d[:,1],\n",
    "                         new_initial_3d[:,2]]).T\n",
    "del new_initial_2d, new_initial_3d"
   ]
  },
  {
   "cell_type": "markdown",
   "metadata": {},
   "source": [
    "# Initial Generated. Now let us sample our space."
   ]
  },
  {
   "cell_type": "code",
   "execution_count": null,
   "metadata": {},
   "outputs": [],
   "source": [
    "from newpoisson import poisson_sensor_model\n",
    "from fenics import Point, RectangleMesh\n",
    "surf_mesh = RectangleMesh(Point(0,0), Point(1,1), 36, 36)"
   ]
  },
  {
   "cell_type": "code",
   "execution_count": null,
   "metadata": {},
   "outputs": [],
   "source": [
    "%%time\n",
    "new_initial = new_initial[:1000,:]\n",
    "new_qoi = []\n",
    "for i in range(new_initial.shape[0]):\n",
    "    new_qoi.append(poisson_sensor_model(sensors[:100,:], new_initial[i,:], nx=36, ny=36, mesh=surf_mesh))\n",
    "new_qoi = np.array(new_qoi)"
   ]
  },
  {
   "cell_type": "code",
   "execution_count": null,
   "metadata": {},
   "outputs": [],
   "source": [
    "new_initial.shape, new_qoi.shape"
   ]
  },
  {
   "cell_type": "code",
   "execution_count": null,
   "metadata": {},
   "outputs": [],
   "source": [
    "pickle.dump({'sets': (new_initial, new_qoi), 'sens': sensors }, open('model_evals_5d-20percent.pkl', 'wb'))"
   ]
  },
  {
   "cell_type": "markdown",
   "metadata": {},
   "source": [
    "# 5D: Solve Inverse Problem"
   ]
  },
  {
   "cell_type": "markdown",
   "metadata": {},
   "source": [
    "### Single QoI"
   ]
  },
  {
   "cell_type": "code",
   "execution_count": null,
   "metadata": {},
   "outputs": [],
   "source": [
    "%%time\n",
    "newqoi_5d = meas_to_qoi(new_qoi[:,0:num_meas_ex_sol], qoi_true[0:num_meas_ex_sol] + noise[0:num_meas_ex_sol], sigma)\n",
    "r_sing_5d = ratio_dci(newqoi_5d)"
   ]
  },
  {
   "cell_type": "code",
   "execution_count": null,
   "metadata": {},
   "outputs": [],
   "source": [
    "mud_idx_5d = np.argmax(r_sing_5d)\n",
    "mud_fun_5d = new_initial[mud_idx_5d,:]\n",
    "print(mud_idx)"
   ]
  },
  {
   "cell_type": "markdown",
   "metadata": {},
   "source": [
    "### Multiple QoI"
   ]
  },
  {
   "cell_type": "code",
   "execution_count": null,
   "metadata": {},
   "outputs": [],
   "source": [
    "qoi_indices_5d = band_qoi(sensors, 5, axis=1)"
   ]
  },
  {
   "cell_type": "code",
   "execution_count": null,
   "metadata": {},
   "outputs": [],
   "source": [
    "%%time\n",
    "qois_5d = split_qoi_by_indices(qoi_indices_5d, qoi_true, new_qoi, noise, sigma, first=num_meas_ex_sol)\n",
    "r_mult_5d = ratio_dci_mult(qois_5d)"
   ]
  },
  {
   "cell_type": "code",
   "execution_count": null,
   "metadata": {},
   "outputs": [],
   "source": [
    "mud_idx_mult_5d = np.argmax(r_mult_5d)\n",
    "mud_fun_mult_5d = new_initial[mud_idx_mult_5d,:]"
   ]
  },
  {
   "cell_type": "code",
   "execution_count": null,
   "metadata": {},
   "outputs": [],
   "source": [
    "thresh_5d = 0.5\n",
    "idx_mult_5d = np.where(r_mult_5d/max(r_mult_5d) > thresh_5d)[0]\n",
    "# idx_mult_5d = np.argsort(r_mult_5d)[::-1]\n",
    "lam_mult_5d = new_initial[idx_mult_5d, :]"
   ]
  },
  {
   "cell_type": "code",
   "execution_count": null,
   "metadata": {},
   "outputs": [],
   "source": [
    "mud_idx_mult_5d"
   ]
  },
  {
   "cell_type": "markdown",
   "metadata": {},
   "source": [
    "## Compare Vector-Valued and Scalar Example Solutions"
   ]
  },
  {
   "cell_type": "code",
   "execution_count": null,
   "metadata": {},
   "outputs": [],
   "source": [
    "plt.figure(figsize=(30,10))\n",
    "\n",
    "plt.subplot(131)\n",
    "fin.plot(poisson(mud_fun_5d, nx=36,ny=36), vmin=-0.5, vmax=0)\n",
    "plt.title('MUD (Scalar-Valued)', fontsize=1.25*fsize)\n",
    "\n",
    "plt.subplot(132)\n",
    "fin.plot(pn, vmin=-0.5, vmax=0)\n",
    "plt.title('(Noisy) Response Surface', fontsize=1.25*fsize)\n",
    "\n",
    "plt.subplot(133)\n",
    "fin.plot(poisson(mud_fun_mult_5d, nx=36,ny=36), vmin=-0.5, vmax=0)\n",
    "plt.title('MUD (Vector-Valued)', fontsize=1.25*fsize)\n",
    "\n",
    "_fname = f\"{prefix}_surf_exmud_D5-alt_m{num_meas_ex_sol}.{ftype}\"\n",
    "plt.savefig(_fname, bbox_inches='tight')\n",
    "plt.show()\n"
   ]
  },
  {
   "cell_type": "code",
   "execution_count": null,
   "metadata": {},
   "outputs": [],
   "source": [
    "closest_fit_5d = np.argmin(np.linalg.norm(new_qoi - np.array(qoi_true)[:100] - noise[:100],axis=1))"
   ]
  },
  {
   "cell_type": "code",
   "execution_count": null,
   "metadata": {},
   "outputs": [],
   "source": [
    "plt.figure(figsize=(20,10))\n",
    "\n",
    "plt.subplot(121)\n",
    "fin.plot(u, mesh=mesh, lw=5, c='k')\n",
    "fin.plot(w_5d, mesh=mesh, lw=5, c='k', ls='--', alpha=0.5, label='Interpolant')\n",
    "plt.plot(np.linspace(0,1,5+2),\n",
    "         [0] + list(new_initial[closest_fit_5d,:]) + [0],\n",
    "         label='Projection', lw=5, c='r')\n",
    "\n",
    "# fin.plot(w, mesh=mesh, lw=10, c='r', ls='-', alpha=0.5)\n",
    "plt.scatter(intervals_5d, gamma_true_5d, marker='^', s=200, c='purple', zorder=10)\n",
    "plt.title(f'Ex. MUD Solution, m={num_meas_ex_sol}', fontsize=1.25*fsize)\n",
    "1\n",
    "\n",
    "\n",
    "plt.plot(np.linspace(0,1,5+2),\n",
    "            [0] + list(mud_fun_5d) + [0],\n",
    "            alpha=0.5, c='r', lw=10, label=f'Scalar MUD, Sample {mud_idx_5d}')\n",
    "\n",
    "plt.plot(np.linspace(0,1,5+2),\n",
    "            [0] + list(mud_fun_mult_5d) + [0],\n",
    "            alpha=0.5, c='b', lw=10, label=f'Vector MUD, Sample {mud_idx_mult_5d}')\n",
    "\n",
    "plt.axvline(2/7, alpha=0.4, ls=':')\n",
    "plt.axhline(-lam_true, alpha=0.4, ls=':')\n",
    "plt.ylim(-4,0)\n",
    "plt.xlim(0,1)\n",
    "plt.ylabel('$u(x, \\lambda)$', fontsize=fsize)\n",
    "plt.xlabel('$x_1$', fontsize=fsize)\n",
    "plt.legend(fontsize=fsize*0.5)\n",
    "\n",
    "plt.subplot(122)\n",
    "_data = qoi_true[:num_meas_ex_sol] + noise[:num_meas_ex_sol]\n",
    "plt.scatter(qoi[mud_idx_5d,:num_meas_ex_sol], _data, c='r', s=100, alpha=0.4, label=f'Scalar MUD, Sample {mud_idx_5d}')\n",
    "plt.scatter(qoi[mud_idx_mult_5d,:num_meas_ex_sol], _data, c='b', s=100, alpha=0.4, label=f'Vector MUD, Sample {mud_idx_mult_5d}')\n",
    "\n",
    "_a = np.linspace(min(qoi_true) ,max(qoi_true), 2)\n",
    "plt.plot(_a,_a, c='k', lw=3)\n",
    "plt.xlim(-0.5, 0.2)\n",
    "plt.ylim(-0.5, 0.2)\n",
    "plt.xlabel('Predicted Data', fontsize=fsize)\n",
    "plt.ylabel('Collected Data', fontsize=fsize)\n",
    "plt.title(\"Q-Q Plot\", fontsize=fsize*1.25)\n",
    "# plt.legend()\n",
    "\n",
    "\n",
    "_fname = f\"{prefix}-alt_comp_exmud_D5_m{num_meas_ex_sol}.{ftype}\"\n",
    "plt.savefig(_fname, bbox_inches='tight')\n",
    "plt.show()"
   ]
  },
  {
   "cell_type": "code",
   "execution_count": null,
   "metadata": {},
   "outputs": [],
   "source": [
    "plt.figure(figsize=(10,10))\n",
    "plt.title(f'Predictions, m={num_meas_ex_sol}', fontsize=1.25*fsize)\n",
    "plt.xlabel(\"$x_1$\", fontsize=fsize)\n",
    "plt.ylabel(\"$g(x, \\lambda)$\", fontsize=fsize)\n",
    "fin.plot(u, mesh=mesh, lw=5, c='k')\n",
    "# fin.plot(w_5d, mesh=mesh, lw=5, c='k', ls='--', alpha=0.5, label='Interpolant')\n",
    "\n",
    "for idx, _x in enumerate(np.linspace(0,1,7)[1:-1:2]):\n",
    "    plt.axvline(_x)\n",
    "    plt.vlines(_x, lower_bounds[idx], upper_bounds[idx],\n",
    "               lw=20, color='orange', zorder=-1, alpha=0.4)\n",
    "\n",
    "plt.plot(np.linspace(0,1,5+2),\n",
    "         [0] + list(new_initial[closest_fit_5d,:]) + [0],\n",
    "         label='Projection', lw=5, c='r', alpha=0.8)\n",
    "\n",
    "plt.plot(np.linspace(0,1,5+2),\n",
    "            [0] + list(mud_fun_mult_5d) + [0],\n",
    "            alpha=0.5, c='b', lw=5, label=f'Vector MUD')\n",
    "\n",
    "for i in range(lam_mult_5d.shape[0]): # samples\n",
    "    _lam = list(lam_mult_5d[i,:])\n",
    "    plt.plot([0]+intervals_5d+[1], [0]+_lam+[0], lw=1, c='purple', alpha=0.2)\n",
    "    # compute value at remaining knot points: will be derivable using midpoints since we use linears\n",
    "\n",
    "plt.ylim(-4, 0)\n",
    "plt.xlim(0, 1)\n",
    "\n",
    "plt.legend(fontsize=fsize)\n",
    "plt.show()"
   ]
  },
  {
   "cell_type": "markdown",
   "metadata": {},
   "source": [
    "---"
   ]
  },
  {
   "cell_type": "code",
   "execution_count": null,
   "metadata": {},
   "outputs": [],
   "source": [
    "plt.figure(figsize=(10,10))\n",
    "\n",
    "fin.plot(u, mesh=mesh, lw=5, c='k', label=\"$g$\")\n",
    "fin.plot(w_5d, mesh=mesh, lw=5, c='k', ls='--', alpha=0.5, zorder=0)\n",
    "fin.plot(w_5d, mesh=mesh, lw=10, c='r', ls='-', alpha=0.5, label=\"$\\hat{g}$\", zorder=5)\n",
    "plt.scatter(intervals_5d, gamma_true_5d, marker='^', s=200, c='purple', zorder=10)\n",
    "\n",
    "\n",
    "for i in range(100):\n",
    "    gt = new_initial[i,:]\n",
    "    plt.plot([0]+intervals_5d+[1], [0]+list(gt)+[0], lw=1, c='purple', alpha=0.2)\n",
    "plt.title('Samples from Initial Density', fontsize=1.25*fsize)\n",
    "plt.xlabel(\"$x_1$\", fontsize=fsize)\n",
    "plt.ylabel(\"$g(x, \\lambda)$\", fontsize=fsize)\n",
    "\n",
    "\n",
    "\n",
    "\n",
    "# plt.axvline(2/7, alpha=0.4, ls=':')\n",
    "# plt.axhline(-lam_true, alpha=0.4, ls=':')\n",
    "plt.ylim(-4,0)\n",
    "plt.xlim(0,1)\n",
    "plt.legend()\n",
    "\n",
    "_fname = f\"{prefix}_init_D5-alt.{ftype}\"\n",
    "plt.savefig(_fname, bbox_inches='tight')\n",
    "plt.show()"
   ]
  },
  {
   "cell_type": "code",
   "execution_count": null,
   "metadata": {},
   "outputs": [],
   "source": [
    "L_2_error_initial_5d = [ np.sqrt(integrate.trapz(np.abs(new_initial[r,:]-gamma_true_5d)**2, x=intervals_5d)) for r in range(new_initial.shape[0]) ]\n",
    "L_2_error_mult_5d = [ np.sqrt(integrate.trapz(np.abs(new_initial[r,:]-gamma_true_5d)**2, x=intervals_5d)) for r in idx_mult_5d[:100] ]"
   ]
  },
  {
   "cell_type": "code",
   "execution_count": null,
   "metadata": {},
   "outputs": [],
   "source": [
    "np.sqrt(integrate.trapz(np.abs(new_initial[closest_fit_5d,:]-gamma_true_5d)**2, x=intervals_5d))"
   ]
  },
  {
   "cell_type": "code",
   "execution_count": null,
   "metadata": {},
   "outputs": [],
   "source": [
    "bins = np.linspace(min(L_2_error_initial), max(L_2_error_initial), 20)\n",
    "plt.hist(L_2_error_initial, bins=bins, label=f\"Initial Samples, 2D\", color=\"black\", density=True)\n",
    "plt.hist(L_2_error_initial_5d, bins=bins, label=f\"Initial Samples, 5D\", color=\"blue\", density=True)\n",
    "plt.hist(L_2_error_mult, bins=bins, alpha=0.8, label=f\"VV Updated Samples, 2D\", color=\"red\", density=True)\n",
    "plt.hist(L_2_error_mult_5d, bins=bins, alpha=0.8, label=f\"VV Updated Samples, 5D\", color=\"gray\", density=True)\n",
    "plt.legend()\n",
    "plt.title(f\"5 Dimensions: $L^2$ Error to $\\lambda^\\dagger$\")\n",
    "plt.xlabel(\"Error\")\n",
    "_fname = f\"{prefix}_hist_D5_t{thresh_5d:1.1E}\".replace('.', '-') + f\".{ftype}\"\n",
    "plt.savefig(_fname, bbox_inches='tight')\n",
    "plt.show()"
   ]
  },
  {
   "cell_type": "code",
   "execution_count": null,
   "metadata": {},
   "outputs": [],
   "source": []
  },
  {
   "cell_type": "code",
   "execution_count": null,
   "metadata": {},
   "outputs": [],
   "source": []
  },
  {
   "cell_type": "code",
   "execution_count": null,
   "metadata": {},
   "outputs": [],
   "source": []
  },
  {
   "cell_type": "markdown",
   "metadata": {},
   "source": [
    "## Set Up Experiments"
   ]
  },
  {
   "cell_type": "code",
   "execution_count": null,
   "metadata": {},
   "outputs": [],
   "source": [
    "%%time\n",
    "if input_dim == 11: measurements = [60, 80, 100]\n",
    "\n",
    "\n",
    "# SCALAR\n",
    "def mud_wrapper(num_obs, sd):\n",
    "    newqoi = meas_to_qoi(qoi=new_qoi[:,0:num_obs], data=qoi_true[0:num_obs] + np.random.randn(num_obs)*sd, sd=sd)\n",
    "    r_sing = ratio_dci(newqoi)\n",
    "    return r_sing\n",
    "\n",
    "experiments_sing, solutions_sing = experiment_measurements_index(num_measurements=measurements,\n",
    "                                     sd=sigma,\n",
    "                                     num_trials=num_trials,\n",
    "                                     seed=21,\n",
    "                                     fun=mud_wrapper)\n",
    "# VECTOR\n",
    "def mud_wrapper(num_obs, sd):\n",
    "    qois = split_qoi_by_indices(qoi_indices_5d, qoi_true, new_qoi,\n",
    "                                noise=np.random.randn(num_obs)*sd, sigma=sd, first=num_obs)\n",
    "    r_mult = ratio_dci_mult(qois)\n",
    "    return r_mult\n",
    "\n",
    "experiments_mult, solutions_mult = experiment_measurements_index(num_measurements=measurements,\n",
    "                                     sd=sigma,\n",
    "                                     num_trials=num_trials,\n",
    "                                     seed=21,\n",
    "                                     fun=mud_wrapper)\n",
    "\n",
    "del mud_wrapper"
   ]
  },
  {
   "cell_type": "markdown",
   "metadata": {},
   "source": [
    "---"
   ]
  },
  {
   "cell_type": "markdown",
   "metadata": {},
   "source": [
    "# The Story in Prediction Space"
   ]
  },
  {
   "cell_type": "code",
   "execution_count": null,
   "metadata": {},
   "outputs": [],
   "source": [
    "if num_qoi == 1:\n",
    "    solutions = solutions_sing\n",
    "else:\n",
    "    solutions = solutions_mult"
   ]
  },
  {
   "cell_type": "code",
   "execution_count": null,
   "metadata": {},
   "outputs": [],
   "source": [
    "np.random.seed(21)\n",
    "num_draws = 3\n",
    "for idx in range(num_draws):\n",
    "    i = np.random.randint(0,len(model_list))\n",
    "    mudU = fin.Function(V, model_list[i][i]['u'])\n",
    "    plt.subplot(int(f'{num_draws}{3}{1+3*idx}'))\n",
    "    fin.plot(mudU, vmin=-0.5, vmax=0)\n",
    "    plt.xticks([])\n",
    "    plt.yticks([])\n",
    "    plt.title(f\"Rand#{idx}: {i}\")\n",
    "# plt.show()\n",
    "\n",
    "num_plot_sensors = max(measurements)\n",
    "for idx in range(num_draws):\n",
    "#     _r = np.random.randint(0, num_trials)\n",
    "    _r = idx\n",
    "    i = solutions[num_plot_sensors][_r]\n",
    "    mudU = fin.Function(V, model_list[i][i]['u'])\n",
    "    plt.subplot(int(f'{num_draws}{3}{2+3*idx}'))\n",
    "    fin.plot(mudU, vmin=-0.5, vmax=0)\n",
    "    plt.xticks([])\n",
    "    plt.yticks([])\n",
    "    plt.title(f\"MUD#{idx}: {i}\")\n",
    "\n",
    "    q = qoi[i,:]\n",
    "    plt.subplot(int(f'{num_draws}{3}{3+3*idx}'))\n",
    "    plt.scatter(qoi_true + noise, q, c='b', s=50, alpha=0.05)\n",
    "    plt.plot(_a,_a, c='k', lw=3)\n",
    "#     plt.xlabel('True QoI (Noiseless)')\n",
    "#     plt.ylabel('Predicted Signal')\n",
    "    plt.xticks([])\n",
    "    plt.yticks([])\n",
    "    plt.xlim(-0.5, 0.2)\n",
    "    plt.ylim(-0.5, 0.2)\n",
    "    plt.title(f\"MUD#{idx}: {i}\")\n",
    "\n",
    "plt.show()\n",
    "\n",
    "# p = poisson(3.0)\n",
    "# fin.plot(p, mesh=mesh, vmin=-0.5, vmax=0)\n",
    "# plt.title(\"True (Noiseless) Repsonse Surface\")\n",
    "# plt.show()"
   ]
  },
  {
   "cell_type": "markdown",
   "metadata": {},
   "source": [
    "# The Story in Parameter Space"
   ]
  },
  {
   "cell_type": "code",
   "execution_count": null,
   "metadata": {},
   "outputs": [],
   "source": [
    "for num_plot_sensors in [20, 100]:\n",
    "    plt.figure(figsize=(20,10))\n",
    "    \n",
    "    plt.subplot(121)\n",
    "    plt.title(f'MUD Parameters, m={num_plot_sensors}', fontsize=1.25*fsize)\n",
    "    plt.xlabel(\"$x_1$\", fontsize=fsize)\n",
    "    plt.ylabel(\"$g(x, \\lambda)$\", fontsize=fsize)\n",
    "    plt.plot([0]+intervals_5d+[1], [0]+ [w_5d(i) for i in intervals_5d] +[0], lw=5, c='k', label=\"Interpolant\")\n",
    "    for i in solutions_sing[num_plot_sensors]: # trials\n",
    "        gt = new_initial[i,:]\n",
    "        plt.plot([0]+intervals_5d+[1], [0]+list(gt)+[0], lw=1, c='purple', alpha=0.2)\n",
    "    gt = list(lam[closest_fit_index_out, :])\n",
    "#     plt.plot([0]+intervals_5d+[1], [0]+gt+[0], lw=5, c='green', alpha=0.6, ls='--', label=f'Closest in Output: {closest_fit_index_out}')\n",
    "    plt.ylim(-4, 0)\n",
    "    plt.xlim(0, 1)\n",
    "    plt.legend()\n",
    "    plt.subplot(122)\n",
    "    plt.title('Q-Q Plot', fontsize=1.25*fsize)\n",
    "    for i in solutions_sing[num_plot_sensors]: # trials\n",
    "        q = new_qoi[i,:]\n",
    "        plt.scatter(q[:num_plot_sensors], qoi_true[:num_plot_sensors] + noise[:num_plot_sensors],\n",
    "                    c='b', s=100, alpha=1.0/num_trials)\n",
    "        plt.plot(_a,_a, c='k', lw=3)\n",
    "        plt.ylabel('Collected Data', fontsize=fsize)\n",
    "        plt.xlabel('Predicted Data', fontsize=fsize)\n",
    "        plt.ylim(-0.5, 0.15)\n",
    "        plt.xlim(-0.5, 0.15)\n",
    "        #     plt.title(f'Solution {_r}, Index {_s}')\n",
    "    _fname = f\"{prefix}_pair_D-alt-5-1_m{num_plot_sensors}.{ftype}\"\n",
    "    \n",
    "    plt.savefig(_fname, bbox_inches='tight')\n",
    "    plt.show()"
   ]
  },
  {
   "cell_type": "code",
   "execution_count": null,
   "metadata": {},
   "outputs": [],
   "source": [
    "for num_plot_sensors in [20, 100]:\n",
    "    plt.figure(figsize=(20,10))\n",
    "    \n",
    "    plt.subplot(121)\n",
    "    plt.title(f'MUD Parameters, m={num_plot_sensors}', fontsize=1.25*fsize)\n",
    "    plt.xlabel(\"$x_1$\", fontsize=fsize)\n",
    "    plt.ylabel(\"$g(x, \\lambda)$\", fontsize=fsize)\n",
    "    plt.plot([0]+intervals_5d+[1], [0]+ [w_5d(i) for i in intervals_5d] +[0], lw=5, c='k', label=\"Interpolant\")\n",
    "    for i in solutions_mult[num_plot_sensors]: # trials\n",
    "        gt = new_initial[i,:]\n",
    "        plt.plot([0]+intervals_5d+[1], [0]+list(gt)+[0], lw=1, c='purple', alpha=0.2)\n",
    "    gt = list(lam[closest_fit_index_out, :])\n",
    "#     plt.plot([0]+intervals_5d+[1], [0]+gt+[0], lw=5, c='green', alpha=0.6, ls='--', label=f'Closest in Output: {closest_fit_index_out}')\n",
    "    plt.ylim(-4, 0)\n",
    "    plt.xlim(0, 1)\n",
    "    plt.legend()\n",
    "    plt.subplot(122)\n",
    "    plt.title('Q-Q Plot', fontsize=1.25*fsize)\n",
    "    for i in solutions_mult[num_plot_sensors]: # trials\n",
    "        q = new_qoi[i,:]\n",
    "        plt.scatter(q[:num_plot_sensors], qoi_true[:num_plot_sensors] + noise[:num_plot_sensors],\n",
    "                    c='b', s=100, alpha=1.0/num_trials)\n",
    "        plt.plot(_a,_a, c='k', lw=3)\n",
    "        plt.ylabel('Collected Data', fontsize=fsize)\n",
    "        plt.xlabel('Predicted Data', fontsize=fsize)\n",
    "        plt.ylim(-0.5, 0.15)\n",
    "        plt.xlim(-0.5, 0.15)\n",
    "        #     plt.title(f'Solution {_r}, Index {_s}')\n",
    "    _fname = f\"{prefix}_pair_D-alt-5-5_m{num_plot_sensors}.{ftype}\"\n",
    "    \n",
    "    plt.savefig(_fname, bbox_inches='tight')\n",
    "    plt.show()"
   ]
  },
  {
   "cell_type": "code",
   "execution_count": null,
   "metadata": {},
   "outputs": [],
   "source": [
    "if not load:\n",
    "    print(\"Saving\")\n",
    "    fname = f'{prefix}_summary_5-alt.pkl'\n",
    "    pickle.dump({'sets': (new_initial, new_qoi), 'sols': (solutions_sing, solutions_mult), 'meas': measurements, 'noise': (noise, tolerance), 'stdv': sigma, 'true': (gamma_true, qoi_true), 'sens': sensors }, open(fname, 'wb'))"
   ]
  },
  {
   "cell_type": "markdown",
   "metadata": {},
   "source": [
    "---"
   ]
  },
  {
   "cell_type": "markdown",
   "metadata": {},
   "source": [
    "---"
   ]
  }
 ],
 "metadata": {
  "kernelspec": {
   "display_name": "Python 3",
   "language": "python",
   "name": "python3"
  },
  "language_info": {
   "codemirror_mode": {
    "name": "ipython",
    "version": 3
   },
   "file_extension": ".py",
   "mimetype": "text/x-python",
   "name": "python",
   "nbconvert_exporter": "python",
   "pygments_lexer": "ipython3",
   "version": "3.7.6"
  },
  "latex_envs": {
   "LaTeX_envs_menu_present": true,
   "autoclose": false,
   "autocomplete": true,
   "bibliofile": "biblio.bib",
   "cite_by": "apalike",
   "current_citInitial": 1,
   "eqLabelWithNumbers": true,
   "eqNumInitial": 1,
   "hotkeys": {
    "equation": "Ctrl-E",
    "itemize": "Ctrl-I"
   },
   "labels_anchors": false,
   "latex_user_defs": false,
   "report_style_numbering": false,
   "user_envs_cfg": false
  },
  "toc": {
   "base_numbering": 1,
   "nav_menu": {},
   "number_sections": true,
   "sideBar": true,
   "skip_h1_title": false,
   "title_cell": "Table of Contents",
   "title_sidebar": "Contents",
   "toc_cell": false,
   "toc_position": {},
   "toc_section_display": true,
   "toc_window_display": false
  },
  "varInspector": {
   "cols": {
    "lenName": 16,
    "lenType": 16,
    "lenVar": 40
   },
   "kernels_config": {
    "python": {
     "delete_cmd_postfix": "",
     "delete_cmd_prefix": "del ",
     "library": "var_list.py",
     "varRefreshCmd": "print(var_dic_list())"
    },
    "r": {
     "delete_cmd_postfix": ") ",
     "delete_cmd_prefix": "rm(",
     "library": "var_list.r",
     "varRefreshCmd": "cat(var_dic_list()) "
    }
   },
   "types_to_exclude": [
    "module",
    "function",
    "builtin_function_or_method",
    "instance",
    "_Feature"
   ],
   "window_display": false
  }
 },
 "nbformat": 4,
 "nbformat_minor": 4
}
