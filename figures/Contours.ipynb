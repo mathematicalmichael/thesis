{
 "cells": [
  {
   "cell_type": "code",
   "execution_count": null,
   "metadata": {},
   "outputs": [],
   "source": [
    "import ipywidgets as wd\n",
    "from mud_contours import plot_full\n",
    "import matplotlib.pyplot as plt\n",
    "import numpy as np\n",
    "import matplotlib\n",
    "matplotlib.rcParams['mathtext.fontset'] = 'stix'\n",
    "matplotlib.rcParams['font.family'] = 'STIXGeneral'\n",
    "matplotlib.rcParams['font.size'] = 32\n",
    "matplotlib.backend = 'Agg'"
   ]
  },
  {
   "cell_type": "code",
   "execution_count": null,
   "metadata": {},
   "outputs": [],
   "source": [
    "plt.rcParams['figure.figsize'] = 10,10"
   ]
  },
  {
   "cell_type": "code",
   "execution_count": null,
   "metadata": {},
   "outputs": [],
   "source": [
    "# observed_cov = np.array([[0.25]])\n",
    "initial_cov = np.diag([1, 1])\n",
    "# initial_cov = np.array([[1,0.5],[0.5, 0.5]])\n",
    "# initial_cov = np.cov(np.random.rand(2, 6))\n",
    "initial_mean = np.array([0.25, 0.25])\n",
    "# observed_mean = np.array([[1]])\n",
    "A = np.array([[1, 1]])\n",
    "# A = np.eye(2)\n",
    "# A = np.random.randn(1,2)\n",
    "b = np.zeros((1,1))"
   ]
  },
  {
   "cell_type": "markdown",
   "metadata": {},
   "source": [
    "Projection is to the nullspace of $A\\Sigma_{in}$, not $A$. If $\\Sigma_{in}$ is non-diagonal, then performing $\\Sigma_{in} = U \\Sigma W^T$ yields a transformation matrix $U$ that \n"
   ]
  },
  {
   "cell_type": "markdown",
   "metadata": {},
   "source": [
    "## Slider objects"
   ]
  },
  {
   "cell_type": "code",
   "execution_count": null,
   "metadata": {},
   "outputs": [],
   "source": [
    "out = wd.Output()\n",
    "cov_11_slider = wd.FloatSlider(value=1, min=0.05, max=1, step=0.05, description='$\\sigma_{11}$', continuous_update=False)\n",
    "cov_01_slider = wd.FloatSlider(value=0, min=-0.95-1E-4, max=0.95+1E-4, step=0.01, description='$\\sigma_{01}=\\sigma_{10}$', continuous_update=False)\n",
    "\n",
    "def mv_slider(val):\n",
    "    pr_slide.max = tk_slide.value + 1E-4\n",
    "\n",
    "def ensure_det_gq_0(val):\n",
    "    \"\"\"\n",
    "    Bound limits of covariance to ensure det(C)>0\n",
    "    \"\"\"\n",
    "    rt = np.sqrt(cov_11_slider.value)\n",
    "    # need to account for slider numerical rounding\n",
    "    cov_01_slider.max = rt-1E-4\n",
    "    cov_01_slider.min = -rt+1E-4\n",
    "\n",
    "cov_11_slider.observe(ensure_det_gq_0)\n",
    "\n",
    "tk_slide = wd.FloatSlider(value=1, min=0, max=1, step=0.02, description='Tikonov', continuous_update=False)\n",
    "pr_slide = wd.FloatSlider(value=1, min=0, max=1, step=0.02, description='Unreg', continuous_update=False)\n",
    "tk_slide.observe(mv_slider)\n",
    "full_check = wd.Checkbox(value=True, description='Show Full')\n",
    "data_check = wd.Checkbox(value=True, description='Show Data')\n",
    "numr_check = wd.Checkbox(value=False, description='Numerical')\n",
    "\n",
    "fig_title = wd.Text(value='latest_figure.png')\n",
    "obs_std_slider = wd.FloatSlider(value=1, min=0.01, max=1, step=0.01, description='Obs. Std', continuous_update=False)\n",
    "# pr_slide.observe(mv_slider)\n",
    "cov_11_slider.value = 0.5\n",
    "cov_01_slider.value = -0.25\n",
    "obs_std_slider.value = 0.5\n",
    "\n",
    "I = wd.interactive(plot_full, A=wd.fixed(A), b=wd.fixed(b), \n",
    "                   cov_01=cov_01_slider, cov_11=cov_11_slider, \n",
    "                   initial_mean=wd.fixed(initial_mean),\n",
    "                   wt=tk_slide,\n",
    "                   wp=pr_slide,\n",
    "                   show_full=full_check,\n",
    "                   show_data=data_check,\n",
    "                   show_num=numr_check,\n",
    "                   obs_std = obs_std_slider,\n",
    "                   figname=fig_title)\n",
    "\n",
    "display(wd.VBox([I,out]))"
   ]
  },
  {
   "cell_type": "markdown",
   "metadata": {},
   "source": [
    "# Figures\n",
    "---\n"
   ]
  },
  {
   "cell_type": "code",
   "execution_count": null,
   "metadata": {},
   "outputs": [],
   "source": [
    "# assert 1==0"
   ]
  },
  {
   "cell_type": "markdown",
   "metadata": {},
   "source": [
    "Below is a placeholder for repeated observations. "
   ]
  },
  {
   "cell_type": "markdown",
   "metadata": {},
   "source": [
    "## Data Mismatch"
   ]
  },
  {
   "cell_type": "code",
   "execution_count": null,
   "metadata": {},
   "outputs": [],
   "source": [
    "fig_title.value = 'contours/data_mismatch_contour.png'\n",
    "data_check.value = True\n",
    "full_check.value = False\n",
    "tk_slide.value = 0\n",
    "pr_slide.value = 0"
   ]
  },
  {
   "cell_type": "markdown",
   "metadata": {},
   "source": [
    "## Tikonov Regularization"
   ]
  },
  {
   "cell_type": "code",
   "execution_count": null,
   "metadata": {},
   "outputs": [],
   "source": [
    "fig_title.value = 'contours/tikonov_contour.png'\n",
    "tk_slide.value = 1\n",
    "pr_slide.value = 0\n",
    "data_check.value = False\n",
    "full_check.value = False"
   ]
  },
  {
   "cell_type": "markdown",
   "metadata": {},
   "source": [
    "## Modified Regularization"
   ]
  },
  {
   "cell_type": "code",
   "execution_count": null,
   "metadata": {},
   "outputs": [],
   "source": [
    "fig_title.value = 'contours/consistent_contour.png'\n",
    "tk_slide.value = 1\n",
    "pr_slide.value = 1\n",
    "data_check.value = False\n",
    "full_check.value = False"
   ]
  },
  {
   "cell_type": "markdown",
   "metadata": {},
   "source": [
    "## Classical Solution"
   ]
  },
  {
   "cell_type": "code",
   "execution_count": null,
   "metadata": {},
   "outputs": [],
   "source": [
    "fig_title.value = 'contours/classical_solution.png'\n",
    "tk_slide.value = 1\n",
    "pr_slide.value = 0\n",
    "data_check.value = True\n",
    "full_check.value = True"
   ]
  },
  {
   "cell_type": "markdown",
   "metadata": {},
   "source": [
    "## Consistent Solution"
   ]
  },
  {
   "cell_type": "code",
   "execution_count": null,
   "metadata": {},
   "outputs": [],
   "source": [
    "fig_title.value = 'contours/consistent_solution.png'\n",
    "tk_slide.value = 1\n",
    "pr_slide.value = 1\n",
    "data_check.value = True\n",
    "full_check.value = True"
   ]
  },
  {
   "cell_type": "markdown",
   "metadata": {},
   "source": [
    "---\n",
    "---\n",
    "\n",
    "## Observations\n",
    "---\n"
   ]
  },
  {
   "cell_type": "code",
   "execution_count": null,
   "metadata": {},
   "outputs": [],
   "source": [
    "!ls -lhr *.png"
   ]
  },
  {
   "cell_type": "code",
   "execution_count": null,
   "metadata": {},
   "outputs": [],
   "source": [
    "!rm latest_figure.png"
   ]
  },
  {
   "cell_type": "code",
   "execution_count": null,
   "metadata": {},
   "outputs": [],
   "source": []
  }
 ],
 "metadata": {
  "kernelspec": {
   "display_name": "Python 3",
   "language": "python",
   "name": "python3"
  },
  "language_info": {
   "codemirror_mode": {
    "name": "ipython",
    "version": 3
   },
   "file_extension": ".py",
   "mimetype": "text/x-python",
   "name": "python",
   "nbconvert_exporter": "python",
   "pygments_lexer": "ipython3",
   "version": "3.7.8"
  }
 },
 "nbformat": 4,
 "nbformat_minor": 4
}
