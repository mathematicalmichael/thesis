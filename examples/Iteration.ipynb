{
 "cells": [
  {
   "cell_type": "code",
   "execution_count": null,
   "metadata": {},
   "outputs": [],
   "source": [
    "presentation = True"
   ]
  },
  {
   "cell_type": "code",
   "execution_count": null,
   "metadata": {},
   "outputs": [],
   "source": [
    "import numpy as np\n",
    "from matplotlib import pyplot as plt\n",
    "import matplotlib\n",
    "if not presentation:\n",
    "    matplotlib.rcParams['mathtext.fontset'] = 'stix'\n",
    "    matplotlib.rcParams['font.family'] = 'STIXGeneral'\n",
    "matplotlib.rcParams['font.size'] = 24\n",
    "matplotlib.rcParams['figure.figsize'] = 10, 10\n",
    "# matplotlib.rcParams['xtick.bottom'] = False\n",
    "# matplotlib.rcParams['ytick.left'] = False\n",
    "matplotlib.backend = 'Agg'"
   ]
  },
  {
   "cell_type": "code",
   "execution_count": null,
   "metadata": {},
   "outputs": [],
   "source": [
    "import mud.funs as funs\n",
    "import mud.util as utils\n",
    "import mud.plot as plot"
   ]
  },
  {
   "cell_type": "code",
   "execution_count": null,
   "metadata": {},
   "outputs": [],
   "source": [
    "# import importlib\n",
    "# importlib.reload(plot)"
   ]
  },
  {
   "cell_type": "code",
   "execution_count": null,
   "metadata": {},
   "outputs": [],
   "source": [
    "np.random.seed(24)\n",
    "numQoI = 10\n",
    "A = utils.rotationMap(numQoI, orth=False)\n",
    "A = A.reshape(-1,2)\n",
    "b = np.zeros((numQoI,1))\n",
    "# A, b = A[np.array([2,6]),:].reshape(-1,2), b[np.array([2,6])].reshape(-1,1)\n",
    "ref_param = np.array([0.5, 0.5]).reshape(-1,1)\n",
    "y = A@ref_param + b\n",
    "initial_mean = np.random.randn(2).reshape(-1,1)\n",
    "tol = 0.1\n",
    "initial_cov = np.eye(2)*utils.std_from_equipment(tol)"
   ]
  },
  {
   "cell_type": "code",
   "execution_count": null,
   "metadata": {},
   "outputs": [],
   "source": [
    "# mud_chain_test = performEpoch(A, b, y, initial_mean, initial_cov, data_cov=None)"
   ]
  },
  {
   "cell_type": "code",
   "execution_count": null,
   "metadata": {},
   "outputs": [],
   "source": [
    "def applystyle(plotobj):\n",
    "    plotobj.axis('equal')\n",
    "    plotobj.ylim([-0.8, 1.5])\n",
    "    plotobj.xlim([-0.5, 1.5])\n",
    "    # plt.xticks([])\n",
    "    # plt.yticks([])"
   ]
  },
  {
   "cell_type": "code",
   "execution_count": null,
   "metadata": {},
   "outputs": [],
   "source": [
    "plt.figure(figsize=(10,10))\n",
    "mud_chain = funs.iterate(A, b, y, initial_mean, initial_cov, data_cov=None, num_epochs=1, idx=None)\n",
    "plot.plotChain(mud_chain, ref_param)\n",
    "plot.plot_contours(A, ref_param)\n",
    "\n",
    "applystyle(plt)\n",
    "\n",
    "plt.savefig(f'iterative/{numQoI}D-firstepoch.png')\n",
    "plt.show()"
   ]
  },
  {
   "cell_type": "code",
   "execution_count": null,
   "metadata": {},
   "outputs": [],
   "source": [
    "plt.figure(figsize=(10,10))\n",
    "mud_chain = funs.iterate(A, b, y, initial_mean, initial_cov, data_cov=None, num_epochs=1)\n",
    "plot.plotChain(mud_chain, ref_param)\n",
    "for _ in range(3):\n",
    "    mud_chain = funs.iterate(A, b, y, mud_chain[-1], initial_cov, data_cov=None, num_epochs=1)\n",
    "    plot.plotChain(mud_chain, ref_param)\n",
    "    \n",
    "plot.plot_contours(A, ref_param)\n",
    "applystyle(plt)\n",
    "plt.savefig(f'iterative/{numQoI}D-fewepochs.png')\n",
    "plt.show()"
   ]
  },
  {
   "cell_type": "markdown",
   "metadata": {},
   "source": [
    "# What if we picked out two of the ten rows?"
   ]
  },
  {
   "cell_type": "code",
   "execution_count": null,
   "metadata": {},
   "outputs": [],
   "source": [
    "np.random.seed(21)\n",
    "plt.figure(figsize=(10,10))\n",
    "idx_choice = [np.random.randint(numQoI), np.random.randint(numQoI)]\n",
    "mud_chain = funs.iterate(A, b, y, initial_mean, initial_cov, data_cov=None, num_epochs=5, idx=idx_choice)\n",
    "plot.plot_contours(A, ref_param, subset=idx_choice, color='k')\n",
    "plot.plotChain(mud_chain,ref_param)\n",
    "\n",
    "applystyle(plt)\n",
    "plt.savefig(f'iterative/{numQoI}D-fewepochs-pair.png')\n",
    "plt.show()\n",
    "\n",
    "np.random.seed(19)\n",
    "idx_choice = [np.random.randint(numQoI), np.random.randint(numQoI)]\n",
    "plt.figure(figsize=(10,10))\n",
    "mud_chain = funs.iterate(A, b, y, initial_mean, initial_cov, data_cov=None, num_epochs=5, idx=idx_choice)\n",
    "plot.plot_contours(A, ref_param, color='b', subset=idx_choice)\n",
    "plot.plotChain(mud_chain, ref_param)\n",
    "\n",
    "applystyle(plt)\n",
    "plt.savefig(f'iterative/{numQoI}D-fewepochs-pair-alt.png')\n",
    "plt.show()"
   ]
  },
  {
   "cell_type": "markdown",
   "metadata": {},
   "source": [
    "# Picking orthogonal rows of A leads to immediate convergence"
   ]
  },
  {
   "cell_type": "code",
   "execution_count": null,
   "metadata": {},
   "outputs": [],
   "source": [
    "plt.figure(figsize=(10,10))\n",
    "idx_choice = [3,8]\n",
    "mud_chain = funs.iterate(A, b, y, initial_mean, initial_cov, data_cov=None, num_epochs=5, idx=idx_choice)\n",
    "plot.plot_contours(A, ref_param, color='k', subset=idx_choice)\n",
    "plot.plotChain(mud_chain, ref_param)\n",
    "\n",
    "idx_choice = [1,6]\n",
    "mud_chain = funs.iterate(A, b, y, initial_mean, initial_cov, data_cov=None, num_epochs=5, idx=idx_choice)\n",
    "plot.plot_contours(A, ref_param, color='b', subset=idx_choice)\n",
    "plot.plotChain(mud_chain, ref_param, 'b')\n",
    "\n",
    "applystyle(plt)\n",
    "plt.savefig(f'iterative/{numQoI}D-firstepoch-pair-smart.png')\n",
    "plt.show()\n",
    "\n",
    "np.random.seed(12)\n",
    "plt.figure(figsize=(10,10))\n",
    "idx_choice = np.arange(numQoI)\n",
    "np.random.shuffle(idx_choice)\n",
    "mud_chain = funs.iterate(A, b, y, initial_mean, initial_cov, data_cov=None, num_epochs=1, idx=idx_choice)\n",
    "plot.plot_contours(A[np.array(idx_choice),:], ref_param)\n",
    "plot.plotChain(mud_chain, ref_param)\n",
    "\n",
    "applystyle(plt)\n",
    "plt.savefig(f'iterative/{numQoI}D-firstepoch-rand.png')\n",
    "plt.show()"
   ]
  },
  {
   "cell_type": "markdown",
   "metadata": {},
   "source": [
    "---\n",
    "# Quantifying the Impact of all of \"this\"\n",
    "\n",
    "Let us be more formal and perform this experiment for the rotationally-defined $A$ for more choices of initial means.\n",
    "We also want to experiment with several orderings of indices for our iteration."
   ]
  },
  {
   "cell_type": "code",
   "execution_count": null,
   "metadata": {},
   "outputs": [],
   "source": [
    "num_trials = 100\n",
    "model_eval_budget = 100\n",
    "num_epochs = model_eval_budget//numQoI\n",
    "# ordered\n",
    "idx_choice = np.arange(numQoI)\n",
    "mud_chains_from_ordered = []\n",
    "for trial in range(num_trials):\n",
    "    initial_mean = np.random.rand(2,1)\n",
    "    mud_chain = funs.iterate(A, b, y, initial_mean, initial_cov, data_cov=None, num_epochs=num_epochs, idx=idx_choice)\n",
    "    mud_chains_from_ordered.append(mud_chain)\n",
    "\n",
    "# some random ordering which will be used over multiple epochs\n",
    "# ordering changes each trial\n",
    "idx_choice = np.arange(numQoI)\n",
    "mud_chains_from_shuffles = []\n",
    "for trial in range(num_trials):\n",
    "    initial_mean = np.random.rand(2,1)\n",
    "    np.random.shuffle(idx_choice)\n",
    "    mud_chain = funs.iterate(A, b, y, initial_mean, initial_cov, data_cov=None, num_epochs=num_epochs, idx=idx_choice)\n",
    "    mud_chains_from_shuffles.append(mud_chain)\n",
    "\n",
    "# uses all the same data same number of times, but only one epoch due to\n",
    "# the indices being repeated in a list before being shuffled\n",
    "idx_choice = list(np.arange(numQoI))*num_epochs\n",
    "mud_chains_from_batch = []\n",
    "for trial in range(num_trials):\n",
    "    initial_mean = np.random.rand(2,1)\n",
    "    np.random.shuffle(idx_choice)\n",
    "    mud_chain = funs.iterate(A, b, y, initial_mean, initial_cov, data_cov=None, num_epochs=1, idx=idx_choice)\n",
    "    mud_chains_from_batch.append(mud_chain)\n",
    "\n",
    "# no imposed limitation on using data equal number of times by the end\n",
    "idx_choice = np.random.choice(np.arange(numQoI), size=num_epochs*numQoI)\n",
    "mud_chains_from_randoms = []\n",
    "for trial in range(num_trials):\n",
    "    initial_mean = np.random.rand(2,1)\n",
    "    np.random.shuffle(idx_choice)\n",
    "    mud_chain = funs.iterate(A, b, y, initial_mean, initial_cov, data_cov=None, num_epochs=1, idx=idx_choice)\n",
    "    mud_chains_from_randoms.append(mud_chain)\n"
   ]
  },
  {
   "cell_type": "code",
   "execution_count": null,
   "metadata": {},
   "outputs": [],
   "source": [
    "plt.figure(figsize=(20,10))\n",
    "error = []\n",
    "for mud_chain in mud_chains_from_ordered:\n",
    "    approx_error = [np.linalg.norm(m - ref_param) for m in mud_chain]\n",
    "    error.append(approx_error)\n",
    "    plt.plot(approx_error, 'r', alpha=0.1)\n",
    "plt.plot(np.mean(np.array(error),axis=0), 'r', lw=5, label='Ordered QoI $(10\\\\times 10D)$)')\n",
    "\n",
    "error = []\n",
    "for mud_chain in mud_chains_from_shuffles:\n",
    "    approx_error = [np.linalg.norm(m - ref_param) for m in mud_chain]\n",
    "    error.append(approx_error)\n",
    "    plt.plot(approx_error, 'k', alpha=0.1)\n",
    "plt.plot(np.mean(np.array(error),axis=0), 'k', lw=5, label='Shuffled QoI $(10\\\\times 10D)$')\n",
    "\n",
    "error = []\n",
    "for mud_chain in mud_chains_from_batch:\n",
    "    approx_error = [np.linalg.norm(m - ref_param) for m in mud_chain]\n",
    "    error.append(approx_error)\n",
    "    plt.plot(approx_error, 'b', alpha=0.1)\n",
    "plt.plot(np.mean(np.array(error),axis=0), 'b', lw=5, label='Batch QoI $(1\\\\times 100D)$')\n",
    "\n",
    "error = []\n",
    "for mud_chain in mud_chains_from_randoms:\n",
    "    approx_error = [np.linalg.norm(m - ref_param) for m in mud_chain]\n",
    "    error.append(approx_error)\n",
    "#     plt.plot(approx_error, 'orange', alpha=0.1)\n",
    "plt.plot(np.mean(np.array(error),axis=0), 'orange', lw=5, label='Random QoI $(1\\\\times 100D)$')\n",
    "\n",
    "\n",
    "plt.legend(loc='lower left')\n",
    "plt.yscale('log')\n",
    "plt.ylim(1E-16, 9E-1)\n",
    "# plt.xscale('log')\n",
    "plt.ylabel(\"$||\\lambda - \\lambda^\\dagger||$\", fontsize=36)\n",
    "plt.xlabel(\"Iteration Step\", fontsize=32)\n",
    "plt.savefig(f'iterative/{numQoI}D-convergence-comparison.png')\n",
    "plt.show()"
   ]
  },
  {
   "cell_type": "code",
   "execution_count": null,
   "metadata": {},
   "outputs": [],
   "source": []
  }
 ],
 "metadata": {
  "kernelspec": {
   "display_name": "Python 3",
   "language": "python",
   "name": "python3"
  },
  "language_info": {
   "codemirror_mode": {
    "name": "ipython",
    "version": 3
   },
   "file_extension": ".py",
   "mimetype": "text/x-python",
   "name": "python",
   "nbconvert_exporter": "python",
   "pygments_lexer": "ipython3",
   "version": "3.7.8"
  }
 },
 "nbformat": 4,
 "nbformat_minor": 4
}
