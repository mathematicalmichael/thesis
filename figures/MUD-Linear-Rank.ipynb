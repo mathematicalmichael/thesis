{
 "cells": [
  {
   "cell_type": "markdown",
   "metadata": {},
   "source": [
    "<center><h1> Linear Example: Dependence on Operator Rank"
   ]
  },
  {
   "cell_type": "code",
   "execution_count": null,
   "metadata": {},
   "outputs": [],
   "source": [
    "import numpy as np\n",
    "import matplotlib.pyplot as plt\n",
    "from matplotlib import cm\n",
    "from scipy import stats, linalg\n",
    "import scipy as sp\n",
    "\n",
    "from mud.util import transform_setup, transform_linear_map, createRandomLinearPair, createRandomLinearProblem\n",
    "from mud.funs import mud_sol, map_sol"
   ]
  },
  {
   "cell_type": "code",
   "execution_count": null,
   "metadata": {},
   "outputs": [],
   "source": [
    "presentation = True"
   ]
  },
  {
   "cell_type": "code",
   "execution_count": null,
   "metadata": {},
   "outputs": [],
   "source": [
    "import matplotlib\n",
    "if presentation:\n",
    "    fdir = '../presentation/figures/lin'\n",
    "else:\n",
    "    fdir = 'lin'\n",
    "    matplotlib.rcParams['mathtext.fontset'] = 'stix'\n",
    "    matplotlib.rcParams['font.family'] = 'STIXGeneral'\n",
    "matplotlib.rcParams['font.size'] = 24\n",
    "matplotlib.backend = 'Agg'"
   ]
  },
  {
   "cell_type": "code",
   "execution_count": null,
   "metadata": {},
   "outputs": [],
   "source": [
    "plt.rcParams['figure.figsize'] = 10,10\n",
    "plt.rcParams['font.size'] = 16\n",
    "fsize = 42"
   ]
  },
  {
   "cell_type": "markdown",
   "metadata": {},
   "source": [
    "---"
   ]
  },
  {
   "cell_type": "markdown",
   "metadata": {},
   "source": [
    "# Impact of Rank(A) for Various Choices of $\\Sigma_\\text{init}$\n",
    "We sequentially incorporate $D=1, \\dots , P$ dimensions into our QoI map and study the 2-norm between the true value that was used to generate the data and the analytical MUD/MAP points. "
   ]
  },
  {
   "cell_type": "code",
   "execution_count": null,
   "metadata": {},
   "outputs": [],
   "source": [
    "def randA_out(dimension, seed=None):\n",
    "    \"\"\"\n",
    "    Generate `dimension` rank-1 matrices using Gaussian entries\n",
    "    to generate a vector `x` and then take outer-product with self.\n",
    "    \"\"\"\n",
    "    if seed is not None: np.random.seed(seed+1)\n",
    "    A = []\n",
    "    for i in range(dimension):\n",
    "        _x = np.random.randn(dimension)\n",
    "#         _x = _x / np.linalg.norm(_x) # unit vector\n",
    "        _a = np.outer(_x,_x)\n",
    "        A.append(_a)\n",
    "    return A\n",
    "\n",
    "def randA_svd(dimension,  seed=None):\n",
    "    \"\"\"\n",
    "    Generate random Gaussian matrix, perform SVD, and\n",
    "    construct rank-1 matrices from components. Return list of them.\n",
    "    Sum `R` entries of this returned list to generate a rank-R matrix.\n",
    "    \"\"\"\n",
    "    if seed is not None: np.random.seed(seed+1)\n",
    "    A = []\n",
    "    _A = np.random.randn(dimension, dimension)\n",
    "    u, s, v = np.linalg.svd(_A)\n",
    "    for i in range(dimension):\n",
    "        _a = s[i]*(u[:,i].reshape(-1,1))@v[:,i].reshape(1,-1)\n",
    "        A.append(_a)\n",
    "    return A"
   ]
  },
  {
   "cell_type": "code",
   "execution_count": null,
   "metadata": {},
   "outputs": [],
   "source": [
    "def randP(dim_input, randA=randA_svd, seed=None):\n",
    "    \"\"\"\n",
    "    Constructs problem set\n",
    "    \"\"\"\n",
    "    A = randA(dim_input, seed=seed)\n",
    "    b = np.random.randn(dim_input).reshape(-1,1)\n",
    "    return A, b"
   ]
  },
  {
   "cell_type": "code",
   "execution_count": null,
   "metadata": {},
   "outputs": [],
   "source": [
    "dim_input, dim_output = 100, 100\n",
    "seed = 12\n",
    "np.random.seed(seed)"
   ]
  },
  {
   "cell_type": "code",
   "execution_count": null,
   "metadata": {},
   "outputs": [],
   "source": [
    "# from sklearn.datasets import make_spd_matrix as make_spd\n",
    "# from sklearn.datasets import make_sparse_spd_matrix as make_cov\n",
    "# cov = np.eye(dim_input)\n",
    "cov = np.diag(np.sort(np.random.rand(dim_input))[::-1]+0.5)\n",
    "# cov = make_cov(dim_input, random_state=None)"
   ]
  },
  {
   "cell_type": "code",
   "execution_count": null,
   "metadata": {},
   "outputs": [],
   "source": [
    "initial_mean = np.zeros(dim_input).reshape(-1,1)\n",
    "# initial_mean = np.random.randn(dim_input).reshape(-1,1)\n",
    "randA = randA_svd # choose which variety of generating function\n",
    "A, b = randP(dim_input, randA=randA)\n",
    "prefix = 'lin-rank-cov'"
   ]
  },
  {
   "cell_type": "code",
   "execution_count": null,
   "metadata": {},
   "outputs": [],
   "source": [
    "# option to fix A and perturb lam_ref\n",
    "lam_ref = np.random.randn(dim_input).reshape(-1,1)\n",
    "\n",
    "d = A@lam_ref + b"
   ]
  },
  {
   "cell_type": "code",
   "execution_count": null,
   "metadata": {},
   "outputs": [],
   "source": [
    "# %%time\n",
    "sols = {}\n",
    "dim_output\n",
    "alpha_list = [10**(n) for n in np.linspace(-3,4,8)]\n",
    "print(\"alpha = {}\".format(alpha_list))\n",
    "\n",
    "for alpha in alpha_list:\n",
    "    sols[alpha] = []\n",
    "    for rank in range(1,dim_output+1, 1):\n",
    "        _A = sum(A[0:rank])\n",
    "        _d = _A@lam_ref + b\n",
    "        assert np.linalg.matrix_rank(_A) == rank, \"Rank mismatch\"\n",
    "        _mud = mud_sol(_A, b, _d, initial_mean, alpha*cov)\n",
    "        _map = map_sol(_A, b, _d, initial_mean, alpha*cov)\n",
    "        _pin = (np.linalg.pinv(_A)@(_d-b)).reshape(-1,1)\n",
    "        sols[alpha].append((_mud, _map, _pin))"
   ]
  },
  {
   "cell_type": "code",
   "execution_count": null,
   "metadata": {},
   "outputs": [],
   "source": [
    "# c = np.linalg.cond(A)*np.linalg.norm(lam_ref)\n",
    "c = np.linalg.norm(lam_ref)\n",
    "err_mud_list = [[np.linalg.norm(_m[0] - lam_ref)/c for _m in sols[alpha]] for alpha in alpha_list ] # output_dim+1 values of _m\n",
    "err_map_list = [[np.linalg.norm(_m[1] - lam_ref)/c for _m in sols[alpha]] for alpha in alpha_list ]\n",
    "err_pin_list = [[np.linalg.norm(_m[2] - lam_ref)/c for _m in sols[alpha]] for alpha in alpha_list ]\n",
    "\n",
    "# c = np.linalg.cond(A)\n",
    "c = np.linalg.norm(A)\n",
    "err_Amud_list = [[np.linalg.norm(A@(_m[0] - lam_ref))/c for _m in sols[alpha]] for alpha in alpha_list ]\n",
    "err_Amap_list = [[np.linalg.norm(A@(_m[1] - lam_ref))/c for _m in sols[alpha]] for alpha in alpha_list ]\n",
    "err_Apin_list = [[np.linalg.norm(A@(_m[2] - lam_ref))/c for _m in sols[alpha]] for alpha in alpha_list ]\n",
    "\n",
    "# measure # of components that agree\n",
    "# err_mud_list = [[numnonzero(_m[0] - lam_ref) for _m in sols[alpha]] for alpha in alpha_list ]\n",
    "# err_map_list = [[numnonzero(_m[1] - lam_ref) for _m in sols[alpha]] for alpha in alpha_list ]\n",
    "# err_pin_list = [[numnonzero(_m[2] - lam_ref) for _m in sols[alpha]] for alpha in alpha_list ]"
   ]
  },
  {
   "cell_type": "code",
   "execution_count": null,
   "metadata": {},
   "outputs": [],
   "source": [
    "x, y = np.arange(1,1+dim_output,1), err_mud_list[0]\n",
    "\n",
    "slope, intercept = (np.linalg.pinv(np.vander(x, 2))@np.array(y).reshape(-1,1)).ravel()\n",
    "regression = slope*x + intercept"
   ]
  },
  {
   "cell_type": "markdown",
   "metadata": {},
   "source": [
    "# Convergence Plot"
   ]
  },
  {
   "cell_type": "code",
   "execution_count": null,
   "metadata": {},
   "outputs": [],
   "source": [
    "for idx, alpha in enumerate(alpha_list):\n",
    "    if (1+idx)%2 and alpha<=10: plt.annotate(f\"$\\\\alpha$={alpha:1.2E}\", (100, err_map_list[idx][-1]), fontsize=24)\n",
    "    _err_mud = err_mud_list[idx]\n",
    "    _err_map = err_map_list[idx]\n",
    "    _err_pin = err_pin_list[idx]\n",
    "    \n",
    "    plt.plot(x, _err_mud, label='mud', c='k', lw=10)\n",
    "    plt.plot(x, _err_map, label='map', c='r', ls='--', lw=5)\n",
    "    plt.plot(x, _err_pin, label='lsq', c='xkcd:light blue', ls='-', lw=5)\n",
    "\n",
    "plt.plot(x,regression, c='g', ls='-')\n",
    "# plt.xlim(0,dim_output)\n",
    "if 'id' in prefix:\n",
    "    plt.title(\"Convergence for Various $\\Sigma_{init} = \\\\alpha I$\", fontsize=1.25*fsize)\n",
    "else:\n",
    "    plt.title(\"Convergence for Various $\\Sigma_{init} = \\\\alpha \\Sigma$\", fontsize=1.25*fsize)\n",
    "# plt.yscale('log')\n",
    "# plt.xscale('log')\n",
    "plt.ylim(0, 1.0)\n",
    "# plt.ylim(1E-4, 5E-2)\n",
    "plt.ylabel(\"$\\\\frac{||\\lambda^\\dagger - \\lambda||}{||\\lambda^\\dagger||}$\", fontsize=fsize*1.25)\n",
    "plt.xlabel('Rank(A)', fontsize=fsize)\n",
    "plt.legend(['mud', 'map', 'least squares'], fontsize=fsize)\n",
    "# plt.annotate(f'Slope={slope:1.4f}', (4,4/7), fontsize=32)\n",
    "plt.savefig(f'{fdir}/{prefix}-convergence.png', bbox_inches='tight')\n",
    "plt.show()"
   ]
  },
  {
   "cell_type": "code",
   "execution_count": null,
   "metadata": {},
   "outputs": [],
   "source": [
    "plt.imshow(cov)"
   ]
  },
  {
   "cell_type": "code",
   "execution_count": null,
   "metadata": {},
   "outputs": [],
   "source": [
    "assert 1==0"
   ]
  },
  {
   "cell_type": "markdown",
   "metadata": {},
   "source": [
    "---"
   ]
  },
  {
   "cell_type": "markdown",
   "metadata": {},
   "source": [
    "## Surface Plot"
   ]
  },
  {
   "cell_type": "code",
   "execution_count": null,
   "metadata": {},
   "outputs": [],
   "source": [
    "X, Y = np.meshgrid(x,alpha_list)\n",
    "ZU = np.array(err_mud_list)\n",
    "ZA = np.array(err_map_list)\n",
    "ZI = np.array(err_pin_list)"
   ]
  },
  {
   "cell_type": "code",
   "execution_count": null,
   "metadata": {},
   "outputs": [],
   "source": [
    "# import matplotlib.pyplot as plt\n",
    "from mpl_toolkits.mplot3d import Axes3D\n",
    "fig = plt.figure()\n",
    "ax = fig.add_subplot(111, projection='3d')\n",
    "ax.plot_surface(X, np.log10(Y), ZU, alpha=0.3, color='xkcd:blue')\n",
    "ax.plot_surface(X, np.log10(Y), ZA, alpha=0.7, color='xkcd:orange')\n",
    "ax.set(ylabel='log10(Standard Deviation)', xlabel='Output Dimension', zlabel='Error')\n",
    "# ax.set(yscale='log')\n",
    "ax.view_init(15, 15)\n",
    "# plt.savefig(f'lin/{prefix}-surface-error.png', bbox_inches='tight')\n",
    "plt.show()"
   ]
  },
  {
   "cell_type": "markdown",
   "metadata": {},
   "source": [
    "---"
   ]
  },
  {
   "cell_type": "code",
   "execution_count": null,
   "metadata": {},
   "outputs": [],
   "source": [
    "print(c, slope)"
   ]
  },
  {
   "cell_type": "markdown",
   "metadata": {},
   "source": [
    "# Convergence in Predictions"
   ]
  },
  {
   "cell_type": "code",
   "execution_count": null,
   "metadata": {},
   "outputs": [],
   "source": [
    "for idx, alpha in enumerate(alpha_list):\n",
    "    _err_mud = err_Amud_list[idx]\n",
    "    _err_map = err_Amap_list[idx]\n",
    "    _err_pin = err_Apin_list[idx]\n",
    "    \n",
    "    plt.plot(np.arange(0, dim_output), _err_mud[:], label='mud', c='k', lw=10)\n",
    "    plt.plot(np.arange(0, dim_output), _err_map[:], label='map', c='r', ls='--', lw=5)\n",
    "    plt.plot(np.arange(0, dim_output), _err_pin[:], label='lsq', c='xkcd:light blue', ls='-', lw=5)\n",
    "# plt.plot(x,regression, c='g', ls='-')\n",
    "# plt.xlim(0,dim_output)\n",
    "if 'id' in prefix:\n",
    "    plt.title(\"Convergence for Various $\\Sigma_{init} = \\\\alpha I$\", fontsize=1.25*fsize)\n",
    "else:\n",
    "    plt.title(\"Convergence for Various $\\Sigma_{init} = \\\\alpha \\Sigma$\", fontsize=1.25*fsize)# plt.yscale('log')\n",
    "# plt.xscale('log')\n",
    "# plt.ylim(0, 6)\n",
    "# plt.ylim(1E-4, 5E-2)\n",
    "plt.ylabel(\"$\\\\frac{||A (\\lambda^* - \\lambda) ||}{||A||}$\", fontsize=fsize)\n",
    "plt.xlabel('Dimension of Output Space', fontsize=fsize)\n",
    "plt.legend(['mud', 'map', 'least squares'], fontsize=fsize, loc='lower left')\n",
    "# plt.annotate(f'Slope={slope:1.4f}', (4,4), fontsize=24)\n",
    "# plt.savefig(f'lin/{prefix}-convergence-out.png', bbox_inches='tight')\n",
    "plt.show()"
   ]
  },
  {
   "cell_type": "code",
   "execution_count": null,
   "metadata": {},
   "outputs": [],
   "source": [
    "pin_mud_mismatch = np.vstack( [ [np.linalg.norm(_err_pin[n] - _err_mud[n]) for n in range(dim_input)] for _err_pin, _err_mud in zip(err_pin_list, err_mud_list)])\n",
    "plt.plot(x, pin_mud_mismatch.T, c='k')\n",
    "plt.xlabel('Dimension', fontsize=fsize)\n",
    "plt.yscale('log')\n",
    "# plt.xscale('log')\n",
    "plt.ylabel('$||\\lambda_{mud} - \\lambda_{lsq}||$', fontsize=fsize)\n",
    "# plt.title(\"MUD $\\\\approx$ Least Squares\", fontsize=1.25*fsize)\n",
    "# plt.savefig(f\"lin/{prefix}-mud-leastsquares-error.png\")\n",
    "plt.show()"
   ]
  },
  {
   "cell_type": "code",
   "execution_count": null,
   "metadata": {},
   "outputs": [],
   "source": []
  }
 ],
 "metadata": {
  "kernelspec": {
   "display_name": "Python 3",
   "language": "python",
   "name": "python3"
  },
  "language_info": {
   "codemirror_mode": {
    "name": "ipython",
    "version": 3
   },
   "file_extension": ".py",
   "mimetype": "text/x-python",
   "name": "python",
   "nbconvert_exporter": "python",
   "pygments_lexer": "ipython3",
   "version": "3.7.8"
  }
 },
 "nbformat": 4,
 "nbformat_minor": 4
}
