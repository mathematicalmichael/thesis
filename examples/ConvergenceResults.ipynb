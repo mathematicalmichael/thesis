{
 "cells": [
  {
   "cell_type": "code",
   "execution_count": null,
   "metadata": {},
   "outputs": [],
   "source": [
    "import numpy as np\n",
    "from helpers import baseline_discretization, solve_set_based, solve_sample_based, comparison_wrapper\n",
    "from models import makeMatrixModel, makeSkewModel, makeDecayModel, make1DHeatModel"
   ]
  },
  {
   "cell_type": "code",
   "execution_count": null,
   "metadata": {},
   "outputs": [],
   "source": [
    "import bet.postProcess.compareP as cp\n",
    "\n",
    "import bet.postProcess.compareP as cp"
   ]
  },
  {
   "cell_type": "code",
   "execution_count": null,
   "metadata": {},
   "outputs": [],
   "source": [
    "skew = 2\n",
    "myModel = makeSkewModel(skew)\n",
    "# numSamples = 50\n",
    "inputDim = 2\n",
    "refParam = np.array([0.5, 0.5])\n",
    "# cpd_input = 1\n",
    "n_mc_points = 100000\n",
    "min_val = 0\n",
    "max_val = 1"
   ]
  },
  {
   "cell_type": "code",
   "execution_count": null,
   "metadata": {},
   "outputs": [],
   "source": [
    "disc = baseline_discretization(model=myModel,\n",
    "                               num_samples=100000,\n",
    "                               input_dim=inputDim,\n",
    "                               param_ref=refParam,\n",
    "                               min_val=min_val,\n",
    "                               max_val=max_val)"
   ]
  },
  {
   "cell_type": "code",
   "execution_count": null,
   "metadata": {},
   "outputs": [],
   "source": [
    "uncert_rect_size = rect_size = np.power(0.1, 1./2)\n",
    "cpd_observed = 1 # \"M\""
   ]
  },
  {
   "cell_type": "code",
   "execution_count": null,
   "metadata": {},
   "outputs": [],
   "source": [
    "disc_set = solve_set_based(discretization=disc,\n",
    "                             rect_size=uncert_rect_size,\n",
    "                             obs_cpd=cpd_observed)"
   ]
  },
  {
   "cell_type": "code",
   "execution_count": null,
   "metadata": {},
   "outputs": [],
   "source": [
    "import matplotlib.pyplot as plt\n",
    "import matplotlib.cm as cm\n",
    "from plot_examples import plot_2d\n",
    "# plt.rcParams['font.size'] = args.fontsize\n",
    "# plt.rcParams['figure.figsize'] = args.figsize, args.figsize  # square ratio\n",
    "\n",
    "### MISC ###\n",
    "\n",
    "Qref = disc_set.get_output().get_reference_value()\n",
    "print('Reference Value:', refParam, 'maps to', Qref)\n",
    "\n",
    "\n",
    "### ACTUAL PLOTTING CODE ###\n",
    "\n",
    "nbins = 50\n",
    "# xmn, xmx = 0.25, 0.75\n",
    "# ymn, ymx = 0.25, 0.75\n",
    "xmn, xmx = min_val, max_val\n",
    "ymn, ymx = min_val, max_val\n",
    "xi, yi = np.mgrid[xmn:xmx:nbins*1j, ymn:ymx:nbins*1j]\n",
    "\n",
    "# if args.title is None:\n",
    "#     model_title = args.model.capitalize() + ' Model'\n",
    "# else:\n",
    "#     model_title = args.title\n",
    "\n",
    "model_title = 'Skew Model'\n",
    "# numLevels = args.numlevels\n",
    "numLevels = 10\n",
    "if numLevels <2: numLevels = 2\n",
    "\n",
    "# show_prev = args.show\n",
    "show_prev = True\n",
    "# label keyword defaults to approx\n",
    "\n",
    "figLabel = 'convergence'\n",
    "save_pdf = False\n",
    "print(\"\\tPlotting set-based.\")\n",
    "plot_2d(xi, yi, disc_set.copy(), num_levels=numLevels,\n",
    "        label=figLabel, annotate='set',\n",
    "        title=model_title, pdf=save_pdf, preview=show_prev)\n",
    "\n",
    "# if args.sample:\n",
    "#     print(\"\\tPlotting sample-based.\")\n",
    "#     plot_2d(xi, yi, disc_samp, num_levels=numLevels,\n",
    "#             label=figLabel, annotate='sample',\n",
    "#             title=model_title, pdf=save_pdf,\n",
    "#             eval=eval, preview=show_prev)\n"
   ]
  },
  {
   "cell_type": "code",
   "execution_count": null,
   "metadata": {},
   "outputs": [],
   "source": [
    "N = 10000\n",
    "\n",
    "disc2 = baseline_discretization(model=myModel,\n",
    "                               num_samples=N,\n",
    "                               input_dim=inputDim,\n",
    "                               param_ref=refParam,\n",
    "                               min_val=min_val,\n",
    "                               max_val=max_val)\n",
    "\n",
    "disc_set2 = solve_set_based(discretization=disc2,\n",
    "                             rect_size=uncert_rect_size,\n",
    "                             obs_cpd=cpd_observed)"
   ]
  },
  {
   "cell_type": "code",
   "execution_count": null,
   "metadata": {},
   "outputs": [],
   "source": [
    "comp = cp.compare_inputs(disc_set2, disc_set)\n",
    "# comp.estimate_volume_mc()\n",
    "# dl, dr = comp.estimate_densities()\n",
    "comp.value('tv')"
   ]
  },
  {
   "cell_type": "code",
   "execution_count": null,
   "metadata": {},
   "outputs": [],
   "source": [
    "errors = []\n",
    "nvals = [200, 400, 800, 1600, 3200, 6400]\n",
    "num_trials = 5\n",
    "for trial in range(num_trials):\n",
    "    for N in nvals:\n",
    "        disc2 = baseline_discretization(model=myModel,\n",
    "                                       num_samples=N,\n",
    "                                       input_dim=inputDim,\n",
    "                                       param_ref=refParam,\n",
    "                                       min_val=min_val,\n",
    "                                       max_val=max_val)\n",
    "\n",
    "        disc_set2 = solve_set_based(discretization=disc2,\n",
    "                                     rect_size=uncert_rect_size,\n",
    "                                     obs_cpd=cpd_observed)\n",
    "\n",
    "        comp = cp.compare_inputs(disc_set2, disc_set)\n",
    "#         comp.estimate_volume_mc()\n",
    "#         dl, dr = comp.estimate_densities()\n",
    "        tv = comp.value('tv')\n",
    "        errors.append(tv)\n",
    "errors = np.array(errors).reshape(num_trials,-1).mean(axis=0)"
   ]
  },
  {
   "cell_type": "code",
   "execution_count": null,
   "metadata": {},
   "outputs": [],
   "source": [
    "plt.plot(nvals, errors)\n",
    "plt.loglog()\n",
    "plt.ylim(5E-2,5E-1)"
   ]
  },
  {
   "cell_type": "code",
   "execution_count": null,
   "metadata": {},
   "outputs": [],
   "source": [
    "import matplotlib.pyplot as plt\n",
    "import matplotlib.cm as cm\n",
    "from plot_examples import plot_2d\n",
    "# plt.rcParams['font.size'] = args.fontsize\n",
    "# plt.rcParams['figure.figsize'] = args.figsize, args.figsize  # square ratio\n",
    "\n",
    "### MISC ###\n",
    "\n",
    "Qref = disc_set.get_output().get_reference_value()\n",
    "print('Reference Value:', refParam, 'maps to', Qref)\n",
    "\n",
    "\n",
    "### ACTUAL PLOTTING CODE ###\n",
    "\n",
    "nbins = 50\n",
    "# xmn, xmx = 0.25, 0.75\n",
    "# ymn, ymx = 0.25, 0.75\n",
    "xmn, xmx = min_val, max_val\n",
    "ymn, ymx = min_val, max_val\n",
    "xi, yi = np.mgrid[xmn:xmx:nbins*1j, ymn:ymx:nbins*1j]\n",
    "\n",
    "# if args.title is None:\n",
    "#     model_title = args.model.capitalize() + ' Model'\n",
    "# else:\n",
    "#     model_title = args.title\n",
    "\n",
    "model_title = 'Skew Model'\n",
    "# numLevels = args.numlevels\n",
    "numLevels = 10\n",
    "if numLevels <2: numLevels = 2\n",
    "\n",
    "# show_prev = args.show\n",
    "show_prev = True\n",
    "# label keyword defaults to approx\n",
    "\n",
    "figLabel = 'convergence'\n",
    "save_pdf = False\n",
    "print(\"\\tPlotting set-based.\")\n",
    "plot_2d(xi, yi, disc_set2.copy(), num_levels=numLevels,\n",
    "        label=figLabel, annotate='set',\n",
    "        title=model_title, pdf=save_pdf, preview=show_prev)\n",
    "\n",
    "# if args.sample:\n",
    "#     print(\"\\tPlotting sample-based.\")\n",
    "#     plot_2d(xi, yi, disc_samp, num_levels=numLevels,\n",
    "#             label=figLabel, annotate='sample',\n",
    "#             title=model_title, pdf=save_pdf,\n",
    "#             eval=eval, preview=show_prev)\n"
   ]
  },
  {
   "cell_type": "markdown",
   "metadata": {},
   "source": [
    "# Sample-Based"
   ]
  },
  {
   "cell_type": "code",
   "execution_count": null,
   "metadata": {},
   "outputs": [],
   "source": [
    "errors = []\n",
    "nvals = [200, 400, 800, 1600, 3200, 6400]\n",
    "num_trials = 5\n",
    "for trial in range(num_trials):\n",
    "    for N in nvals:\n",
    "        disc2 = baseline_discretization(model=myModel,\n",
    "                                       num_samples=N,\n",
    "                                       input_dim=inputDim,\n",
    "                                       param_ref=refParam,\n",
    "                                       min_val=min_val,\n",
    "                                       max_val=max_val)\n",
    "\n",
    "        disc_set2 = solve_sample_based(discretization=disc2,\n",
    "                                     rect_size=uncert_rect_size)\n",
    "        disc_set2.set_probabilities_from_densities()\n",
    "        comp = cp.compare_inputs(disc_set2, disc_set)\n",
    "#         comp.estimate_volume_mc()\n",
    "#         dl, dr = comp.estimate_densities()\n",
    "        tv = comp.value('tv')\n",
    "        errors.append(tv)\n",
    "errors = np.array(errors).reshape(num_trials,-1).mean(axis=0)"
   ]
  },
  {
   "cell_type": "code",
   "execution_count": null,
   "metadata": {},
   "outputs": [],
   "source": [
    "plt.plot(nvals, errors)\n",
    "plt.loglog()\n",
    "plt.ylim(5E-2,5E-1)"
   ]
  },
  {
   "cell_type": "code",
   "execution_count": null,
   "metadata": {},
   "outputs": [],
   "source": [
    "import matplotlib.pyplot as plt\n",
    "import matplotlib.cm as cm\n",
    "from plot_examples import plot_2d\n",
    "# plt.rcParams['font.size'] = args.fontsize\n",
    "# plt.rcParams['figure.figsize'] = args.figsize, args.figsize  # square ratio\n",
    "\n",
    "### MISC ###\n",
    "\n",
    "Qref = disc_set.get_output().get_reference_value()\n",
    "print('Reference Value:', refParam, 'maps to', Qref)\n",
    "\n",
    "\n",
    "### ACTUAL PLOTTING CODE ###\n",
    "\n",
    "nbins = 50\n",
    "# xmn, xmx = 0.25, 0.75\n",
    "# ymn, ymx = 0.25, 0.75\n",
    "xmn, xmx = min_val, max_val\n",
    "ymn, ymx = min_val, max_val\n",
    "xi, yi = np.mgrid[xmn:xmx:nbins*1j, ymn:ymx:nbins*1j]\n",
    "\n",
    "# if args.title is None:\n",
    "#     model_title = args.model.capitalize() + ' Model'\n",
    "# else:\n",
    "#     model_title = args.title\n",
    "\n",
    "model_title = 'Skew Model'\n",
    "# numLevels = args.numlevels\n",
    "numLevels = 10\n",
    "if numLevels <2: numLevels = 2\n",
    "\n",
    "# show_prev = args.show\n",
    "show_prev = True\n",
    "# label keyword defaults to approx\n",
    "\n",
    "figLabel = 'convergence'\n",
    "save_pdf = False\n",
    "print(\"\\tPlotting set-based.\")\n",
    "plot_2d(xi, yi, disc_set2.copy(), num_levels=numLevels,\n",
    "        label=figLabel, annotate='sample',\n",
    "        title=model_title, pdf=save_pdf, preview=show_prev)\n",
    "\n",
    "# if args.sample:\n",
    "#     print(\"\\tPlotting sample-based.\")\n",
    "#     plot_2d(xi, yi, disc_samp, num_levels=numLevels,\n",
    "#             label=figLabel, annotate='sample',\n",
    "#             title=model_title, pdf=save_pdf,\n",
    "#             eval=eval, preview=show_prev)\n"
   ]
  },
  {
   "cell_type": "code",
   "execution_count": null,
   "metadata": {},
   "outputs": [],
   "source": []
  }
 ],
 "metadata": {
  "kernelspec": {
   "display_name": "Python 3",
   "language": "python",
   "name": "python3"
  },
  "language_info": {
   "codemirror_mode": {
    "name": "ipython",
    "version": 3
   },
   "file_extension": ".py",
   "mimetype": "text/x-python",
   "name": "python",
   "nbconvert_exporter": "python",
   "pygments_lexer": "ipython3",
   "version": "3.7.8"
  }
 },
 "nbformat": 4,
 "nbformat_minor": 4
}
