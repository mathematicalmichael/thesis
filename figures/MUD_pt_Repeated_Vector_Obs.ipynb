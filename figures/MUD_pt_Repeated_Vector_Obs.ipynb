{
 "cells": [
  {
   "cell_type": "code",
   "execution_count": 3,
   "metadata": {},
   "outputs": [],
   "source": [
    "import numpy as np"
   ]
  },
  {
   "cell_type": "code",
   "execution_count": 4,
   "metadata": {},
   "outputs": [],
   "source": [
    "# Define all the functions needed for mapping from parameters to the data space included defining the Q\n",
    "#\n",
    "# Some common inputs:\n",
    "#   Obs_vec = np.array([o_1,o_2, $\\ldots$, o_P])\n",
    "#   Obs_err_std = standard deviation of observation error\n",
    "#   S = number of repeated observations\n",
    "#   lam_true = true parameter value\n",
    "#   Data_vec = np.array([d_1, d_2, $\\ldots$, d_S])\n",
    "\n",
    "def Q_map(Obs_vec, Obs_err_std, S):\n",
    "    return np.sqrt(S)/Obs_err_std * Obs_vec\n",
    "\n",
    "def Noisy_data(lam_true, Obs_vec, Obs_err_std, S):\n",
    "    return np.random.normal(size=(S,1))*Obs_err_std + np.dot(Obs_vec.transpose(), lam_true)\n",
    "\n",
    "def b_repeated_obs(Data_vec, Obs_err_std, S):\n",
    "    return -1/(np.sqrt(S)*Obs_err_std) * np.sum(Data_vec) #needs to be negative!!!! "
   ]
  },
  {
   "cell_type": "code",
   "execution_count": 5,
   "metadata": {},
   "outputs": [
    {
     "name": "stdout",
     "output_type": "stream",
     "text": [
      "[[2.5]]\n"
     ]
    }
   ],
   "source": [
    "#Setup all things about the observation and map\n",
    "\n",
    "Obs_vec_1 = np.array([[2], [1]])\n",
    "\n",
    "Obs_vec_2 = np.array([[1], [1]])\n",
    "\n",
    "Obs_err_std_1 = 0.25\n",
    "\n",
    "Obs_err_std_2 = 0.2\n",
    "\n",
    "S = 10\n",
    "\n",
    "lam_true = np.array([[0.5],[1.5]])\n",
    "\n",
    "print(np.dot(Obs_vec_1.transpose(),lam_true))\n",
    "\n",
    "A_1 = Q_map(Obs_vec_1, Obs_err_std_1, S)\n",
    "\n",
    "A_2 = Q_map(Obs_vec_2, Obs_err_std_2, S)\n",
    "\n",
    "Data_vec_1 = Noisy_data(lam_true, Obs_vec_1, Obs_err_std_1, S)\n",
    "\n",
    "Data_vec_2 = Noisy_data(lam_true, Obs_vec_2, Obs_err_std_2, S)\n",
    "\n",
    "b_1 = b_repeated_obs(Data_vec_1, Obs_err_std_1, S)\n",
    "\n",
    "b_2 = b_repeated_obs(Data_vec_2, Obs_err_std_2, S)"
   ]
  },
  {
   "cell_type": "code",
   "execution_count": 6,
   "metadata": {},
   "outputs": [],
   "source": [
    "# Define the initial uncertainty parameters mu_init and sigma_init for an \n",
    "# initially assumed N(mu_init, sigma_init**2) distribution on $\\Lambda$.\n",
    "#\n",
    "# NOTE: Using sigma_init for STANDARD DEVIATION and NOT covariance\n",
    "\n",
    "lam_pert = np.array([[-0.2], [-0.1]]) #the perturbation from lam_true used to form an initial guess\n",
    "\n",
    "mu_init = lam_true + lam_pert #the initial guess at lam_true\n",
    "\n",
    "sigma_init = np.array([[0.75],[0.75]]) #the diagonal of the init standard deviation\n",
    "\n",
    "Sigma_init = np.diag(sigma_init.flatten()) #the init standard deviation matrix\n",
    "\n",
    "PF_cov_1 = np.dot(A_1.transpose(),np.dot(Sigma_init**2,A_1)) #the push-forward COVARIANCE\n",
    "\n",
    "PF_cov_2 = np.dot(A_2.transpose(),np.dot(Sigma_init**2,A_2))"
   ]
  },
  {
   "cell_type": "code",
   "execution_count": 159,
   "metadata": {},
   "outputs": [],
   "source": [
    "# Define the necessary functions to define the linear problem for determining the MUD point\n",
    "#\n",
    "# Some common inputs:\n",
    "\n",
    "def gamma_vec(A, sigma_init, PF_cov):\n",
    "    P = np.size(A)\n",
    "    gamma = np.zeros((P,1))\n",
    "    for i in range(P):\n",
    "        gamma[i] = sigma_init[i]**2 * A[i] * (PF_cov-1)\n",
    "    return gamma\n",
    "\n",
    "def Alpha_mat(A, gamma, PF_cov):\n",
    "    P = np.size(A)\n",
    "    return np.dot(gamma, A.transpose()) + np.eye(P)*PF_cov\n",
    "\n",
    "def Alpha_inv_SM(A, gamma, PF_cov):\n",
    "    P = np.size(A)\n",
    "    return 1/PF_cov*np.eye(P) - np.dot(gamma,A.transpose())/(PF_cov**2+PF_cov*np.dot(gamma.transpose(),A))\n",
    "\n",
    "def beta_vec(mu_init, sigma_init, A, b, PF_cov):\n",
    "    P = np.size(A)\n",
    "    beta = np.zeros((P,1))\n",
    "    for i in range(P):\n",
    "        beta[i] = mu_init[i]*PF_cov-A[i]*sigma_init[i]**2*(np.dot(A.transpose(),mu_init)) - A[i]*sigma_init[i]**2*PF_cov*b\n",
    "    return beta"
   ]
  },
  {
   "cell_type": "code",
   "execution_count": 160,
   "metadata": {},
   "outputs": [
    {
     "name": "stdout",
     "output_type": "stream",
     "text": [
      "[[0.3]\n",
      " [1.4]]\n",
      "[[25.29822128]\n",
      " [12.64911064]]\n",
      "[[25.29822128]]\n",
      "62.608000000000004\n"
     ]
    }
   ],
   "source": [
    "print(mu_init)\n",
    "print(A)\n",
    "print(np.dot(A.transpose(),mu_init))\n",
    "\n",
    "print(44.72*0.6+22.36*1.6)"
   ]
  },
  {
   "cell_type": "code",
   "execution_count": 161,
   "metadata": {},
   "outputs": [
    {
     "name": "stdout",
     "output_type": "stream",
     "text": [
      "[[162090.  80820.]\n",
      " [ 80820.  40860.]]\n",
      "[[ 0.0004484  -0.00088691]\n",
      " [-0.00088691  0.00177877]]\n",
      "[[201895.39607102]\n",
      " [101510.19803551]]\n"
     ]
    }
   ],
   "source": [
    "gamma = gamma_vec(A,sigma_init,PF_cov)\n",
    "Alpha = Alpha_mat(A, gamma, PF_cov)\n",
    "print(Alpha)\n",
    "Alpha_inv = Alpha_inv_SM(A, gamma, PF_cov)\n",
    "print(Alpha_inv)\n",
    "beta = beta_vec(mu_init, sigma_init, A, b, PF_cov)\n",
    "print(beta)"
   ]
  },
  {
   "cell_type": "code",
   "execution_count": 162,
   "metadata": {},
   "outputs": [
    {
     "name": "stdout",
     "output_type": "stream",
     "text": [
      "[[0.49812541]\n",
      " [1.49906271]]\n",
      "\n",
      "[[2.49531353]]\n",
      "\n",
      "[[2.5]]\n"
     ]
    }
   ],
   "source": [
    "lam_MUD = np.dot(Alpha_inv, beta)\n",
    "print(lam_MUD)\n",
    "print()\n",
    "print(np.dot(Obs_vec.transpose(),lam_MUD))\n",
    "print()\n",
    "print(np.dot(Obs_vec.transpose(),lam_true))"
   ]
  },
  {
   "cell_type": "code",
   "execution_count": 163,
   "metadata": {},
   "outputs": [],
   "source": [
    "def functional(mu_init, sigma_init, A, b, lam, PF_cov):\n",
    "    return np.linalg.norm((lam-mu_init)/sigma_init)**2 + np.linalg.norm(np.dot(A.transpose(),lam)+b)**2 \\\n",
    "            - np.linalg.norm(np.dot(A.transpose(), lam-mu_init))**2/PF_cov"
   ]
  },
  {
   "cell_type": "code",
   "execution_count": 156,
   "metadata": {},
   "outputs": [
    {
     "name": "stdout",
     "output_type": "stream",
     "text": [
      "[[3893.50932816]]\n",
      "\n",
      "[[0.71836105]]\n",
      "\n",
      "[[-1.38777878e-17]]\n",
      "\n",
      "[[1.44000402e-05]]\n"
     ]
    }
   ],
   "source": [
    "print(functional(mu_init,sigma_init, A, b, mu_init, PF_cov))\n",
    "print()\n",
    "print(functional(mu_init,sigma_init, A, b, lam_true, PF_cov))\n",
    "print()\n",
    "print(functional(mu_init,sigma_init, A, b, lam_MUD, PF_cov))\n",
    "print()\n",
    "print(functional(mu_init,sigma_init, A, b, lam_MUD+0.00001, PF_cov))"
   ]
  },
  {
   "cell_type": "code",
   "execution_count": null,
   "metadata": {},
   "outputs": [],
   "source": []
  }
 ],
 "metadata": {
  "kernelspec": {
   "display_name": "Python 3",
   "language": "python",
   "name": "python3"
  },
  "language_info": {
   "codemirror_mode": {
    "name": "ipython",
    "version": 3
   },
   "file_extension": ".py",
   "mimetype": "text/x-python",
   "name": "python",
   "nbconvert_exporter": "python",
   "pygments_lexer": "ipython3",
   "version": "3.7.6"
  }
 },
 "nbformat": 4,
 "nbformat_minor": 4
}
